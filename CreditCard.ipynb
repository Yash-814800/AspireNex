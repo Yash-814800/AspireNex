{
 "cells": [
  {
   "cell_type": "code",
   "execution_count": 150,
   "id": "31cfee54",
   "metadata": {},
   "outputs": [
    {
     "data": {
      "text/html": [
       "        <script type=\"text/javascript\">\n",
       "        window.PlotlyConfig = {MathJaxConfig: 'local'};\n",
       "        if (window.MathJax && window.MathJax.Hub && window.MathJax.Hub.Config) {window.MathJax.Hub.Config({SVG: {font: \"STIX-Web\"}});}\n",
       "        if (typeof require !== 'undefined') {\n",
       "        require.undef(\"plotly\");\n",
       "        requirejs.config({\n",
       "            paths: {\n",
       "                'plotly': ['https://cdn.plot.ly/plotly-2.12.1.min']\n",
       "            }\n",
       "        });\n",
       "        require(['plotly'], function(Plotly) {\n",
       "            window._Plotly = Plotly;\n",
       "        });\n",
       "        }\n",
       "        </script>\n",
       "        "
      ]
     },
     "metadata": {},
     "output_type": "display_data"
    }
   ],
   "source": [
    "import numpy as np\n",
    "import pandas as pd\n",
    "import matplotlib.pyplot as plt\n",
    "import seaborn as sns\n",
    "import plotly.graph_objs as go\n",
    "import plotly.figure_factory as ff\n",
    "from plotly import tools\n",
    "from plotly.offline import download_plotlyjs, init_notebook_mode, plot, iplot\n",
    "init_notebook_mode(connected=True)\n",
    "\n",
    "\n",
    "import gc\n",
    "from datetime import datetime \n",
    "from sklearn.model_selection import train_test_split\n",
    "from sklearn.preprocessing import StandardScaler\n",
    "\n",
    "from sklearn.model_selection import KFold\n",
    "\n",
    "from sklearn.ensemble import RandomForestClassifier\n",
    "from sklearn.ensemble import AdaBoostClassifier\n",
    "from sklearn.metrics import classification_report, confusion_matrix, precision_score, recall_score, f1_score, roc_auc_score\n"
   ]
  },
  {
   "cell_type": "code",
   "execution_count": 151,
   "id": "d50eceee",
   "metadata": {},
   "outputs": [],
   "source": [
    "creditC = pd.read_csv('creditcard.csv')"
   ]
  },
  {
   "cell_type": "code",
   "execution_count": 152,
   "id": "4fe37302",
   "metadata": {},
   "outputs": [
    {
     "data": {
      "text/html": [
       "<div>\n",
       "<style scoped>\n",
       "    .dataframe tbody tr th:only-of-type {\n",
       "        vertical-align: middle;\n",
       "    }\n",
       "\n",
       "    .dataframe tbody tr th {\n",
       "        vertical-align: top;\n",
       "    }\n",
       "\n",
       "    .dataframe thead th {\n",
       "        text-align: right;\n",
       "    }\n",
       "</style>\n",
       "<table border=\"1\" class=\"dataframe\">\n",
       "  <thead>\n",
       "    <tr style=\"text-align: right;\">\n",
       "      <th></th>\n",
       "      <th>Time</th>\n",
       "      <th>V1</th>\n",
       "      <th>V2</th>\n",
       "      <th>V3</th>\n",
       "      <th>V4</th>\n",
       "      <th>V5</th>\n",
       "      <th>V6</th>\n",
       "      <th>V7</th>\n",
       "      <th>V8</th>\n",
       "      <th>V9</th>\n",
       "      <th>...</th>\n",
       "      <th>V21</th>\n",
       "      <th>V22</th>\n",
       "      <th>V23</th>\n",
       "      <th>V24</th>\n",
       "      <th>V25</th>\n",
       "      <th>V26</th>\n",
       "      <th>V27</th>\n",
       "      <th>V28</th>\n",
       "      <th>Amount</th>\n",
       "      <th>Class</th>\n",
       "    </tr>\n",
       "  </thead>\n",
       "  <tbody>\n",
       "    <tr>\n",
       "      <th>0</th>\n",
       "      <td>0.0</td>\n",
       "      <td>-1.359807</td>\n",
       "      <td>-0.072781</td>\n",
       "      <td>2.536347</td>\n",
       "      <td>1.378155</td>\n",
       "      <td>-0.338321</td>\n",
       "      <td>0.462388</td>\n",
       "      <td>0.239599</td>\n",
       "      <td>0.098698</td>\n",
       "      <td>0.363787</td>\n",
       "      <td>...</td>\n",
       "      <td>-0.018307</td>\n",
       "      <td>0.277838</td>\n",
       "      <td>-0.110474</td>\n",
       "      <td>0.066928</td>\n",
       "      <td>0.128539</td>\n",
       "      <td>-0.189115</td>\n",
       "      <td>0.133558</td>\n",
       "      <td>-0.021053</td>\n",
       "      <td>149.62</td>\n",
       "      <td>0</td>\n",
       "    </tr>\n",
       "    <tr>\n",
       "      <th>1</th>\n",
       "      <td>0.0</td>\n",
       "      <td>1.191857</td>\n",
       "      <td>0.266151</td>\n",
       "      <td>0.166480</td>\n",
       "      <td>0.448154</td>\n",
       "      <td>0.060018</td>\n",
       "      <td>-0.082361</td>\n",
       "      <td>-0.078803</td>\n",
       "      <td>0.085102</td>\n",
       "      <td>-0.255425</td>\n",
       "      <td>...</td>\n",
       "      <td>-0.225775</td>\n",
       "      <td>-0.638672</td>\n",
       "      <td>0.101288</td>\n",
       "      <td>-0.339846</td>\n",
       "      <td>0.167170</td>\n",
       "      <td>0.125895</td>\n",
       "      <td>-0.008983</td>\n",
       "      <td>0.014724</td>\n",
       "      <td>2.69</td>\n",
       "      <td>0</td>\n",
       "    </tr>\n",
       "    <tr>\n",
       "      <th>2</th>\n",
       "      <td>1.0</td>\n",
       "      <td>-1.358354</td>\n",
       "      <td>-1.340163</td>\n",
       "      <td>1.773209</td>\n",
       "      <td>0.379780</td>\n",
       "      <td>-0.503198</td>\n",
       "      <td>1.800499</td>\n",
       "      <td>0.791461</td>\n",
       "      <td>0.247676</td>\n",
       "      <td>-1.514654</td>\n",
       "      <td>...</td>\n",
       "      <td>0.247998</td>\n",
       "      <td>0.771679</td>\n",
       "      <td>0.909412</td>\n",
       "      <td>-0.689281</td>\n",
       "      <td>-0.327642</td>\n",
       "      <td>-0.139097</td>\n",
       "      <td>-0.055353</td>\n",
       "      <td>-0.059752</td>\n",
       "      <td>378.66</td>\n",
       "      <td>0</td>\n",
       "    </tr>\n",
       "    <tr>\n",
       "      <th>3</th>\n",
       "      <td>1.0</td>\n",
       "      <td>-0.966272</td>\n",
       "      <td>-0.185226</td>\n",
       "      <td>1.792993</td>\n",
       "      <td>-0.863291</td>\n",
       "      <td>-0.010309</td>\n",
       "      <td>1.247203</td>\n",
       "      <td>0.237609</td>\n",
       "      <td>0.377436</td>\n",
       "      <td>-1.387024</td>\n",
       "      <td>...</td>\n",
       "      <td>-0.108300</td>\n",
       "      <td>0.005274</td>\n",
       "      <td>-0.190321</td>\n",
       "      <td>-1.175575</td>\n",
       "      <td>0.647376</td>\n",
       "      <td>-0.221929</td>\n",
       "      <td>0.062723</td>\n",
       "      <td>0.061458</td>\n",
       "      <td>123.50</td>\n",
       "      <td>0</td>\n",
       "    </tr>\n",
       "    <tr>\n",
       "      <th>4</th>\n",
       "      <td>2.0</td>\n",
       "      <td>-1.158233</td>\n",
       "      <td>0.877737</td>\n",
       "      <td>1.548718</td>\n",
       "      <td>0.403034</td>\n",
       "      <td>-0.407193</td>\n",
       "      <td>0.095921</td>\n",
       "      <td>0.592941</td>\n",
       "      <td>-0.270533</td>\n",
       "      <td>0.817739</td>\n",
       "      <td>...</td>\n",
       "      <td>-0.009431</td>\n",
       "      <td>0.798278</td>\n",
       "      <td>-0.137458</td>\n",
       "      <td>0.141267</td>\n",
       "      <td>-0.206010</td>\n",
       "      <td>0.502292</td>\n",
       "      <td>0.219422</td>\n",
       "      <td>0.215153</td>\n",
       "      <td>69.99</td>\n",
       "      <td>0</td>\n",
       "    </tr>\n",
       "  </tbody>\n",
       "</table>\n",
       "<p>5 rows × 31 columns</p>\n",
       "</div>"
      ],
      "text/plain": [
       "   Time        V1        V2        V3        V4        V5        V6        V7  \\\n",
       "0   0.0 -1.359807 -0.072781  2.536347  1.378155 -0.338321  0.462388  0.239599   \n",
       "1   0.0  1.191857  0.266151  0.166480  0.448154  0.060018 -0.082361 -0.078803   \n",
       "2   1.0 -1.358354 -1.340163  1.773209  0.379780 -0.503198  1.800499  0.791461   \n",
       "3   1.0 -0.966272 -0.185226  1.792993 -0.863291 -0.010309  1.247203  0.237609   \n",
       "4   2.0 -1.158233  0.877737  1.548718  0.403034 -0.407193  0.095921  0.592941   \n",
       "\n",
       "         V8        V9  ...       V21       V22       V23       V24       V25  \\\n",
       "0  0.098698  0.363787  ... -0.018307  0.277838 -0.110474  0.066928  0.128539   \n",
       "1  0.085102 -0.255425  ... -0.225775 -0.638672  0.101288 -0.339846  0.167170   \n",
       "2  0.247676 -1.514654  ...  0.247998  0.771679  0.909412 -0.689281 -0.327642   \n",
       "3  0.377436 -1.387024  ... -0.108300  0.005274 -0.190321 -1.175575  0.647376   \n",
       "4 -0.270533  0.817739  ... -0.009431  0.798278 -0.137458  0.141267 -0.206010   \n",
       "\n",
       "        V26       V27       V28  Amount  Class  \n",
       "0 -0.189115  0.133558 -0.021053  149.62      0  \n",
       "1  0.125895 -0.008983  0.014724    2.69      0  \n",
       "2 -0.139097 -0.055353 -0.059752  378.66      0  \n",
       "3 -0.221929  0.062723  0.061458  123.50      0  \n",
       "4  0.502292  0.219422  0.215153   69.99      0  \n",
       "\n",
       "[5 rows x 31 columns]"
      ]
     },
     "execution_count": 152,
     "metadata": {},
     "output_type": "execute_result"
    }
   ],
   "source": [
    "creditC.head()"
   ]
  },
  {
   "cell_type": "code",
   "execution_count": 153,
   "id": "a0cd3335",
   "metadata": {},
   "outputs": [
    {
     "data": {
      "text/html": [
       "<div>\n",
       "<style scoped>\n",
       "    .dataframe tbody tr th:only-of-type {\n",
       "        vertical-align: middle;\n",
       "    }\n",
       "\n",
       "    .dataframe tbody tr th {\n",
       "        vertical-align: top;\n",
       "    }\n",
       "\n",
       "    .dataframe thead th {\n",
       "        text-align: right;\n",
       "    }\n",
       "</style>\n",
       "<table border=\"1\" class=\"dataframe\">\n",
       "  <thead>\n",
       "    <tr style=\"text-align: right;\">\n",
       "      <th></th>\n",
       "      <th>Time</th>\n",
       "      <th>V1</th>\n",
       "      <th>V2</th>\n",
       "      <th>V3</th>\n",
       "      <th>V4</th>\n",
       "      <th>V5</th>\n",
       "      <th>V6</th>\n",
       "      <th>V7</th>\n",
       "      <th>V8</th>\n",
       "      <th>V9</th>\n",
       "      <th>...</th>\n",
       "      <th>V21</th>\n",
       "      <th>V22</th>\n",
       "      <th>V23</th>\n",
       "      <th>V24</th>\n",
       "      <th>V25</th>\n",
       "      <th>V26</th>\n",
       "      <th>V27</th>\n",
       "      <th>V28</th>\n",
       "      <th>Amount</th>\n",
       "      <th>Class</th>\n",
       "    </tr>\n",
       "  </thead>\n",
       "  <tbody>\n",
       "    <tr>\n",
       "      <th>count</th>\n",
       "      <td>284807.000000</td>\n",
       "      <td>2.848070e+05</td>\n",
       "      <td>2.848070e+05</td>\n",
       "      <td>2.848070e+05</td>\n",
       "      <td>2.848070e+05</td>\n",
       "      <td>2.848070e+05</td>\n",
       "      <td>2.848070e+05</td>\n",
       "      <td>2.848070e+05</td>\n",
       "      <td>2.848070e+05</td>\n",
       "      <td>2.848070e+05</td>\n",
       "      <td>...</td>\n",
       "      <td>2.848070e+05</td>\n",
       "      <td>2.848070e+05</td>\n",
       "      <td>2.848070e+05</td>\n",
       "      <td>2.848070e+05</td>\n",
       "      <td>2.848070e+05</td>\n",
       "      <td>2.848070e+05</td>\n",
       "      <td>2.848070e+05</td>\n",
       "      <td>2.848070e+05</td>\n",
       "      <td>284807.000000</td>\n",
       "      <td>284807.000000</td>\n",
       "    </tr>\n",
       "    <tr>\n",
       "      <th>mean</th>\n",
       "      <td>94813.859575</td>\n",
       "      <td>1.168375e-15</td>\n",
       "      <td>3.416908e-16</td>\n",
       "      <td>-1.379537e-15</td>\n",
       "      <td>2.074095e-15</td>\n",
       "      <td>9.604066e-16</td>\n",
       "      <td>1.487313e-15</td>\n",
       "      <td>-5.556467e-16</td>\n",
       "      <td>1.213481e-16</td>\n",
       "      <td>-2.406331e-15</td>\n",
       "      <td>...</td>\n",
       "      <td>1.654067e-16</td>\n",
       "      <td>-3.568593e-16</td>\n",
       "      <td>2.578648e-16</td>\n",
       "      <td>4.473266e-15</td>\n",
       "      <td>5.340915e-16</td>\n",
       "      <td>1.683437e-15</td>\n",
       "      <td>-3.660091e-16</td>\n",
       "      <td>-1.227390e-16</td>\n",
       "      <td>88.349619</td>\n",
       "      <td>0.001727</td>\n",
       "    </tr>\n",
       "    <tr>\n",
       "      <th>std</th>\n",
       "      <td>47488.145955</td>\n",
       "      <td>1.958696e+00</td>\n",
       "      <td>1.651309e+00</td>\n",
       "      <td>1.516255e+00</td>\n",
       "      <td>1.415869e+00</td>\n",
       "      <td>1.380247e+00</td>\n",
       "      <td>1.332271e+00</td>\n",
       "      <td>1.237094e+00</td>\n",
       "      <td>1.194353e+00</td>\n",
       "      <td>1.098632e+00</td>\n",
       "      <td>...</td>\n",
       "      <td>7.345240e-01</td>\n",
       "      <td>7.257016e-01</td>\n",
       "      <td>6.244603e-01</td>\n",
       "      <td>6.056471e-01</td>\n",
       "      <td>5.212781e-01</td>\n",
       "      <td>4.822270e-01</td>\n",
       "      <td>4.036325e-01</td>\n",
       "      <td>3.300833e-01</td>\n",
       "      <td>250.120109</td>\n",
       "      <td>0.041527</td>\n",
       "    </tr>\n",
       "    <tr>\n",
       "      <th>min</th>\n",
       "      <td>0.000000</td>\n",
       "      <td>-5.640751e+01</td>\n",
       "      <td>-7.271573e+01</td>\n",
       "      <td>-4.832559e+01</td>\n",
       "      <td>-5.683171e+00</td>\n",
       "      <td>-1.137433e+02</td>\n",
       "      <td>-2.616051e+01</td>\n",
       "      <td>-4.355724e+01</td>\n",
       "      <td>-7.321672e+01</td>\n",
       "      <td>-1.343407e+01</td>\n",
       "      <td>...</td>\n",
       "      <td>-3.483038e+01</td>\n",
       "      <td>-1.093314e+01</td>\n",
       "      <td>-4.480774e+01</td>\n",
       "      <td>-2.836627e+00</td>\n",
       "      <td>-1.029540e+01</td>\n",
       "      <td>-2.604551e+00</td>\n",
       "      <td>-2.256568e+01</td>\n",
       "      <td>-1.543008e+01</td>\n",
       "      <td>0.000000</td>\n",
       "      <td>0.000000</td>\n",
       "    </tr>\n",
       "    <tr>\n",
       "      <th>25%</th>\n",
       "      <td>54201.500000</td>\n",
       "      <td>-9.203734e-01</td>\n",
       "      <td>-5.985499e-01</td>\n",
       "      <td>-8.903648e-01</td>\n",
       "      <td>-8.486401e-01</td>\n",
       "      <td>-6.915971e-01</td>\n",
       "      <td>-7.682956e-01</td>\n",
       "      <td>-5.540759e-01</td>\n",
       "      <td>-2.086297e-01</td>\n",
       "      <td>-6.430976e-01</td>\n",
       "      <td>...</td>\n",
       "      <td>-2.283949e-01</td>\n",
       "      <td>-5.423504e-01</td>\n",
       "      <td>-1.618463e-01</td>\n",
       "      <td>-3.545861e-01</td>\n",
       "      <td>-3.171451e-01</td>\n",
       "      <td>-3.269839e-01</td>\n",
       "      <td>-7.083953e-02</td>\n",
       "      <td>-5.295979e-02</td>\n",
       "      <td>5.600000</td>\n",
       "      <td>0.000000</td>\n",
       "    </tr>\n",
       "    <tr>\n",
       "      <th>50%</th>\n",
       "      <td>84692.000000</td>\n",
       "      <td>1.810880e-02</td>\n",
       "      <td>6.548556e-02</td>\n",
       "      <td>1.798463e-01</td>\n",
       "      <td>-1.984653e-02</td>\n",
       "      <td>-5.433583e-02</td>\n",
       "      <td>-2.741871e-01</td>\n",
       "      <td>4.010308e-02</td>\n",
       "      <td>2.235804e-02</td>\n",
       "      <td>-5.142873e-02</td>\n",
       "      <td>...</td>\n",
       "      <td>-2.945017e-02</td>\n",
       "      <td>6.781943e-03</td>\n",
       "      <td>-1.119293e-02</td>\n",
       "      <td>4.097606e-02</td>\n",
       "      <td>1.659350e-02</td>\n",
       "      <td>-5.213911e-02</td>\n",
       "      <td>1.342146e-03</td>\n",
       "      <td>1.124383e-02</td>\n",
       "      <td>22.000000</td>\n",
       "      <td>0.000000</td>\n",
       "    </tr>\n",
       "    <tr>\n",
       "      <th>75%</th>\n",
       "      <td>139320.500000</td>\n",
       "      <td>1.315642e+00</td>\n",
       "      <td>8.037239e-01</td>\n",
       "      <td>1.027196e+00</td>\n",
       "      <td>7.433413e-01</td>\n",
       "      <td>6.119264e-01</td>\n",
       "      <td>3.985649e-01</td>\n",
       "      <td>5.704361e-01</td>\n",
       "      <td>3.273459e-01</td>\n",
       "      <td>5.971390e-01</td>\n",
       "      <td>...</td>\n",
       "      <td>1.863772e-01</td>\n",
       "      <td>5.285536e-01</td>\n",
       "      <td>1.476421e-01</td>\n",
       "      <td>4.395266e-01</td>\n",
       "      <td>3.507156e-01</td>\n",
       "      <td>2.409522e-01</td>\n",
       "      <td>9.104512e-02</td>\n",
       "      <td>7.827995e-02</td>\n",
       "      <td>77.165000</td>\n",
       "      <td>0.000000</td>\n",
       "    </tr>\n",
       "    <tr>\n",
       "      <th>max</th>\n",
       "      <td>172792.000000</td>\n",
       "      <td>2.454930e+00</td>\n",
       "      <td>2.205773e+01</td>\n",
       "      <td>9.382558e+00</td>\n",
       "      <td>1.687534e+01</td>\n",
       "      <td>3.480167e+01</td>\n",
       "      <td>7.330163e+01</td>\n",
       "      <td>1.205895e+02</td>\n",
       "      <td>2.000721e+01</td>\n",
       "      <td>1.559499e+01</td>\n",
       "      <td>...</td>\n",
       "      <td>2.720284e+01</td>\n",
       "      <td>1.050309e+01</td>\n",
       "      <td>2.252841e+01</td>\n",
       "      <td>4.584549e+00</td>\n",
       "      <td>7.519589e+00</td>\n",
       "      <td>3.517346e+00</td>\n",
       "      <td>3.161220e+01</td>\n",
       "      <td>3.384781e+01</td>\n",
       "      <td>25691.160000</td>\n",
       "      <td>1.000000</td>\n",
       "    </tr>\n",
       "  </tbody>\n",
       "</table>\n",
       "<p>8 rows × 31 columns</p>\n",
       "</div>"
      ],
      "text/plain": [
       "                Time            V1            V2            V3            V4  \\\n",
       "count  284807.000000  2.848070e+05  2.848070e+05  2.848070e+05  2.848070e+05   \n",
       "mean    94813.859575  1.168375e-15  3.416908e-16 -1.379537e-15  2.074095e-15   \n",
       "std     47488.145955  1.958696e+00  1.651309e+00  1.516255e+00  1.415869e+00   \n",
       "min         0.000000 -5.640751e+01 -7.271573e+01 -4.832559e+01 -5.683171e+00   \n",
       "25%     54201.500000 -9.203734e-01 -5.985499e-01 -8.903648e-01 -8.486401e-01   \n",
       "50%     84692.000000  1.810880e-02  6.548556e-02  1.798463e-01 -1.984653e-02   \n",
       "75%    139320.500000  1.315642e+00  8.037239e-01  1.027196e+00  7.433413e-01   \n",
       "max    172792.000000  2.454930e+00  2.205773e+01  9.382558e+00  1.687534e+01   \n",
       "\n",
       "                 V5            V6            V7            V8            V9  \\\n",
       "count  2.848070e+05  2.848070e+05  2.848070e+05  2.848070e+05  2.848070e+05   \n",
       "mean   9.604066e-16  1.487313e-15 -5.556467e-16  1.213481e-16 -2.406331e-15   \n",
       "std    1.380247e+00  1.332271e+00  1.237094e+00  1.194353e+00  1.098632e+00   \n",
       "min   -1.137433e+02 -2.616051e+01 -4.355724e+01 -7.321672e+01 -1.343407e+01   \n",
       "25%   -6.915971e-01 -7.682956e-01 -5.540759e-01 -2.086297e-01 -6.430976e-01   \n",
       "50%   -5.433583e-02 -2.741871e-01  4.010308e-02  2.235804e-02 -5.142873e-02   \n",
       "75%    6.119264e-01  3.985649e-01  5.704361e-01  3.273459e-01  5.971390e-01   \n",
       "max    3.480167e+01  7.330163e+01  1.205895e+02  2.000721e+01  1.559499e+01   \n",
       "\n",
       "       ...           V21           V22           V23           V24  \\\n",
       "count  ...  2.848070e+05  2.848070e+05  2.848070e+05  2.848070e+05   \n",
       "mean   ...  1.654067e-16 -3.568593e-16  2.578648e-16  4.473266e-15   \n",
       "std    ...  7.345240e-01  7.257016e-01  6.244603e-01  6.056471e-01   \n",
       "min    ... -3.483038e+01 -1.093314e+01 -4.480774e+01 -2.836627e+00   \n",
       "25%    ... -2.283949e-01 -5.423504e-01 -1.618463e-01 -3.545861e-01   \n",
       "50%    ... -2.945017e-02  6.781943e-03 -1.119293e-02  4.097606e-02   \n",
       "75%    ...  1.863772e-01  5.285536e-01  1.476421e-01  4.395266e-01   \n",
       "max    ...  2.720284e+01  1.050309e+01  2.252841e+01  4.584549e+00   \n",
       "\n",
       "                V25           V26           V27           V28         Amount  \\\n",
       "count  2.848070e+05  2.848070e+05  2.848070e+05  2.848070e+05  284807.000000   \n",
       "mean   5.340915e-16  1.683437e-15 -3.660091e-16 -1.227390e-16      88.349619   \n",
       "std    5.212781e-01  4.822270e-01  4.036325e-01  3.300833e-01     250.120109   \n",
       "min   -1.029540e+01 -2.604551e+00 -2.256568e+01 -1.543008e+01       0.000000   \n",
       "25%   -3.171451e-01 -3.269839e-01 -7.083953e-02 -5.295979e-02       5.600000   \n",
       "50%    1.659350e-02 -5.213911e-02  1.342146e-03  1.124383e-02      22.000000   \n",
       "75%    3.507156e-01  2.409522e-01  9.104512e-02  7.827995e-02      77.165000   \n",
       "max    7.519589e+00  3.517346e+00  3.161220e+01  3.384781e+01   25691.160000   \n",
       "\n",
       "               Class  \n",
       "count  284807.000000  \n",
       "mean        0.001727  \n",
       "std         0.041527  \n",
       "min         0.000000  \n",
       "25%         0.000000  \n",
       "50%         0.000000  \n",
       "75%         0.000000  \n",
       "max         1.000000  \n",
       "\n",
       "[8 rows x 31 columns]"
      ]
     },
     "execution_count": 153,
     "metadata": {},
     "output_type": "execute_result"
    }
   ],
   "source": [
    "creditC.describe()"
   ]
  },
  {
   "cell_type": "code",
   "execution_count": 154,
   "id": "690f5c89",
   "metadata": {},
   "outputs": [],
   "source": [
    "#284807 Transactions"
   ]
  },
  {
   "cell_type": "code",
   "execution_count": 155,
   "id": "eb21166e",
   "metadata": {
    "scrolled": true
   },
   "outputs": [
    {
     "data": {
      "application/vnd.plotly.v1+json": {
       "config": {
        "linkText": "Export to plot.ly",
        "plotlyServerURL": "https://plot.ly",
        "showLink": false
       },
       "data": [
        {
         "marker": {
          "color": "Red"
         },
         "name": "Credit Card Fraud Class ",
         "text": [
          284315,
          492
         ],
         "type": "bar",
         "x": [
          0,
          1
         ],
         "y": [
          284315,
          492
         ]
        }
       ],
       "layout": {
        "hovermode": "closest",
        "template": {
         "data": {
          "bar": [
           {
            "error_x": {
             "color": "#2a3f5f"
            },
            "error_y": {
             "color": "#2a3f5f"
            },
            "marker": {
             "line": {
              "color": "#E5ECF6",
              "width": 0.5
             },
             "pattern": {
              "fillmode": "overlay",
              "size": 10,
              "solidity": 0.2
             }
            },
            "type": "bar"
           }
          ],
          "barpolar": [
           {
            "marker": {
             "line": {
              "color": "#E5ECF6",
              "width": 0.5
             },
             "pattern": {
              "fillmode": "overlay",
              "size": 10,
              "solidity": 0.2
             }
            },
            "type": "barpolar"
           }
          ],
          "carpet": [
           {
            "aaxis": {
             "endlinecolor": "#2a3f5f",
             "gridcolor": "white",
             "linecolor": "white",
             "minorgridcolor": "white",
             "startlinecolor": "#2a3f5f"
            },
            "baxis": {
             "endlinecolor": "#2a3f5f",
             "gridcolor": "white",
             "linecolor": "white",
             "minorgridcolor": "white",
             "startlinecolor": "#2a3f5f"
            },
            "type": "carpet"
           }
          ],
          "choropleth": [
           {
            "colorbar": {
             "outlinewidth": 0,
             "ticks": ""
            },
            "type": "choropleth"
           }
          ],
          "contour": [
           {
            "colorbar": {
             "outlinewidth": 0,
             "ticks": ""
            },
            "colorscale": [
             [
              0,
              "#0d0887"
             ],
             [
              0.1111111111111111,
              "#46039f"
             ],
             [
              0.2222222222222222,
              "#7201a8"
             ],
             [
              0.3333333333333333,
              "#9c179e"
             ],
             [
              0.4444444444444444,
              "#bd3786"
             ],
             [
              0.5555555555555556,
              "#d8576b"
             ],
             [
              0.6666666666666666,
              "#ed7953"
             ],
             [
              0.7777777777777778,
              "#fb9f3a"
             ],
             [
              0.8888888888888888,
              "#fdca26"
             ],
             [
              1,
              "#f0f921"
             ]
            ],
            "type": "contour"
           }
          ],
          "contourcarpet": [
           {
            "colorbar": {
             "outlinewidth": 0,
             "ticks": ""
            },
            "type": "contourcarpet"
           }
          ],
          "heatmap": [
           {
            "colorbar": {
             "outlinewidth": 0,
             "ticks": ""
            },
            "colorscale": [
             [
              0,
              "#0d0887"
             ],
             [
              0.1111111111111111,
              "#46039f"
             ],
             [
              0.2222222222222222,
              "#7201a8"
             ],
             [
              0.3333333333333333,
              "#9c179e"
             ],
             [
              0.4444444444444444,
              "#bd3786"
             ],
             [
              0.5555555555555556,
              "#d8576b"
             ],
             [
              0.6666666666666666,
              "#ed7953"
             ],
             [
              0.7777777777777778,
              "#fb9f3a"
             ],
             [
              0.8888888888888888,
              "#fdca26"
             ],
             [
              1,
              "#f0f921"
             ]
            ],
            "type": "heatmap"
           }
          ],
          "heatmapgl": [
           {
            "colorbar": {
             "outlinewidth": 0,
             "ticks": ""
            },
            "colorscale": [
             [
              0,
              "#0d0887"
             ],
             [
              0.1111111111111111,
              "#46039f"
             ],
             [
              0.2222222222222222,
              "#7201a8"
             ],
             [
              0.3333333333333333,
              "#9c179e"
             ],
             [
              0.4444444444444444,
              "#bd3786"
             ],
             [
              0.5555555555555556,
              "#d8576b"
             ],
             [
              0.6666666666666666,
              "#ed7953"
             ],
             [
              0.7777777777777778,
              "#fb9f3a"
             ],
             [
              0.8888888888888888,
              "#fdca26"
             ],
             [
              1,
              "#f0f921"
             ]
            ],
            "type": "heatmapgl"
           }
          ],
          "histogram": [
           {
            "marker": {
             "pattern": {
              "fillmode": "overlay",
              "size": 10,
              "solidity": 0.2
             }
            },
            "type": "histogram"
           }
          ],
          "histogram2d": [
           {
            "colorbar": {
             "outlinewidth": 0,
             "ticks": ""
            },
            "colorscale": [
             [
              0,
              "#0d0887"
             ],
             [
              0.1111111111111111,
              "#46039f"
             ],
             [
              0.2222222222222222,
              "#7201a8"
             ],
             [
              0.3333333333333333,
              "#9c179e"
             ],
             [
              0.4444444444444444,
              "#bd3786"
             ],
             [
              0.5555555555555556,
              "#d8576b"
             ],
             [
              0.6666666666666666,
              "#ed7953"
             ],
             [
              0.7777777777777778,
              "#fb9f3a"
             ],
             [
              0.8888888888888888,
              "#fdca26"
             ],
             [
              1,
              "#f0f921"
             ]
            ],
            "type": "histogram2d"
           }
          ],
          "histogram2dcontour": [
           {
            "colorbar": {
             "outlinewidth": 0,
             "ticks": ""
            },
            "colorscale": [
             [
              0,
              "#0d0887"
             ],
             [
              0.1111111111111111,
              "#46039f"
             ],
             [
              0.2222222222222222,
              "#7201a8"
             ],
             [
              0.3333333333333333,
              "#9c179e"
             ],
             [
              0.4444444444444444,
              "#bd3786"
             ],
             [
              0.5555555555555556,
              "#d8576b"
             ],
             [
              0.6666666666666666,
              "#ed7953"
             ],
             [
              0.7777777777777778,
              "#fb9f3a"
             ],
             [
              0.8888888888888888,
              "#fdca26"
             ],
             [
              1,
              "#f0f921"
             ]
            ],
            "type": "histogram2dcontour"
           }
          ],
          "mesh3d": [
           {
            "colorbar": {
             "outlinewidth": 0,
             "ticks": ""
            },
            "type": "mesh3d"
           }
          ],
          "parcoords": [
           {
            "line": {
             "colorbar": {
              "outlinewidth": 0,
              "ticks": ""
             }
            },
            "type": "parcoords"
           }
          ],
          "pie": [
           {
            "automargin": true,
            "type": "pie"
           }
          ],
          "scatter": [
           {
            "fillpattern": {
             "fillmode": "overlay",
             "size": 10,
             "solidity": 0.2
            },
            "type": "scatter"
           }
          ],
          "scatter3d": [
           {
            "line": {
             "colorbar": {
              "outlinewidth": 0,
              "ticks": ""
             }
            },
            "marker": {
             "colorbar": {
              "outlinewidth": 0,
              "ticks": ""
             }
            },
            "type": "scatter3d"
           }
          ],
          "scattercarpet": [
           {
            "marker": {
             "colorbar": {
              "outlinewidth": 0,
              "ticks": ""
             }
            },
            "type": "scattercarpet"
           }
          ],
          "scattergeo": [
           {
            "marker": {
             "colorbar": {
              "outlinewidth": 0,
              "ticks": ""
             }
            },
            "type": "scattergeo"
           }
          ],
          "scattergl": [
           {
            "marker": {
             "colorbar": {
              "outlinewidth": 0,
              "ticks": ""
             }
            },
            "type": "scattergl"
           }
          ],
          "scattermapbox": [
           {
            "marker": {
             "colorbar": {
              "outlinewidth": 0,
              "ticks": ""
             }
            },
            "type": "scattermapbox"
           }
          ],
          "scatterpolar": [
           {
            "marker": {
             "colorbar": {
              "outlinewidth": 0,
              "ticks": ""
             }
            },
            "type": "scatterpolar"
           }
          ],
          "scatterpolargl": [
           {
            "marker": {
             "colorbar": {
              "outlinewidth": 0,
              "ticks": ""
             }
            },
            "type": "scatterpolargl"
           }
          ],
          "scatterternary": [
           {
            "marker": {
             "colorbar": {
              "outlinewidth": 0,
              "ticks": ""
             }
            },
            "type": "scatterternary"
           }
          ],
          "surface": [
           {
            "colorbar": {
             "outlinewidth": 0,
             "ticks": ""
            },
            "colorscale": [
             [
              0,
              "#0d0887"
             ],
             [
              0.1111111111111111,
              "#46039f"
             ],
             [
              0.2222222222222222,
              "#7201a8"
             ],
             [
              0.3333333333333333,
              "#9c179e"
             ],
             [
              0.4444444444444444,
              "#bd3786"
             ],
             [
              0.5555555555555556,
              "#d8576b"
             ],
             [
              0.6666666666666666,
              "#ed7953"
             ],
             [
              0.7777777777777778,
              "#fb9f3a"
             ],
             [
              0.8888888888888888,
              "#fdca26"
             ],
             [
              1,
              "#f0f921"
             ]
            ],
            "type": "surface"
           }
          ],
          "table": [
           {
            "cells": {
             "fill": {
              "color": "#EBF0F8"
             },
             "line": {
              "color": "white"
             }
            },
            "header": {
             "fill": {
              "color": "#C8D4E3"
             },
             "line": {
              "color": "white"
             }
            },
            "type": "table"
           }
          ]
         },
         "layout": {
          "annotationdefaults": {
           "arrowcolor": "#2a3f5f",
           "arrowhead": 0,
           "arrowwidth": 1
          },
          "autotypenumbers": "strict",
          "coloraxis": {
           "colorbar": {
            "outlinewidth": 0,
            "ticks": ""
           }
          },
          "colorscale": {
           "diverging": [
            [
             0,
             "#8e0152"
            ],
            [
             0.1,
             "#c51b7d"
            ],
            [
             0.2,
             "#de77ae"
            ],
            [
             0.3,
             "#f1b6da"
            ],
            [
             0.4,
             "#fde0ef"
            ],
            [
             0.5,
             "#f7f7f7"
            ],
            [
             0.6,
             "#e6f5d0"
            ],
            [
             0.7,
             "#b8e186"
            ],
            [
             0.8,
             "#7fbc41"
            ],
            [
             0.9,
             "#4d9221"
            ],
            [
             1,
             "#276419"
            ]
           ],
           "sequential": [
            [
             0,
             "#0d0887"
            ],
            [
             0.1111111111111111,
             "#46039f"
            ],
            [
             0.2222222222222222,
             "#7201a8"
            ],
            [
             0.3333333333333333,
             "#9c179e"
            ],
            [
             0.4444444444444444,
             "#bd3786"
            ],
            [
             0.5555555555555556,
             "#d8576b"
            ],
            [
             0.6666666666666666,
             "#ed7953"
            ],
            [
             0.7777777777777778,
             "#fb9f3a"
            ],
            [
             0.8888888888888888,
             "#fdca26"
            ],
            [
             1,
             "#f0f921"
            ]
           ],
           "sequentialminus": [
            [
             0,
             "#0d0887"
            ],
            [
             0.1111111111111111,
             "#46039f"
            ],
            [
             0.2222222222222222,
             "#7201a8"
            ],
            [
             0.3333333333333333,
             "#9c179e"
            ],
            [
             0.4444444444444444,
             "#bd3786"
            ],
            [
             0.5555555555555556,
             "#d8576b"
            ],
            [
             0.6666666666666666,
             "#ed7953"
            ],
            [
             0.7777777777777778,
             "#fb9f3a"
            ],
            [
             0.8888888888888888,
             "#fdca26"
            ],
            [
             1,
             "#f0f921"
            ]
           ]
          },
          "colorway": [
           "#636efa",
           "#EF553B",
           "#00cc96",
           "#ab63fa",
           "#FFA15A",
           "#19d3f3",
           "#FF6692",
           "#B6E880",
           "#FF97FF",
           "#FECB52"
          ],
          "font": {
           "color": "#2a3f5f"
          },
          "geo": {
           "bgcolor": "white",
           "lakecolor": "white",
           "landcolor": "#E5ECF6",
           "showlakes": true,
           "showland": true,
           "subunitcolor": "white"
          },
          "hoverlabel": {
           "align": "left"
          },
          "hovermode": "closest",
          "mapbox": {
           "style": "light"
          },
          "paper_bgcolor": "white",
          "plot_bgcolor": "#E5ECF6",
          "polar": {
           "angularaxis": {
            "gridcolor": "white",
            "linecolor": "white",
            "ticks": ""
           },
           "bgcolor": "#E5ECF6",
           "radialaxis": {
            "gridcolor": "white",
            "linecolor": "white",
            "ticks": ""
           }
          },
          "scene": {
           "xaxis": {
            "backgroundcolor": "#E5ECF6",
            "gridcolor": "white",
            "gridwidth": 2,
            "linecolor": "white",
            "showbackground": true,
            "ticks": "",
            "zerolinecolor": "white"
           },
           "yaxis": {
            "backgroundcolor": "#E5ECF6",
            "gridcolor": "white",
            "gridwidth": 2,
            "linecolor": "white",
            "showbackground": true,
            "ticks": "",
            "zerolinecolor": "white"
           },
           "zaxis": {
            "backgroundcolor": "#E5ECF6",
            "gridcolor": "white",
            "gridwidth": 2,
            "linecolor": "white",
            "showbackground": true,
            "ticks": "",
            "zerolinecolor": "white"
           }
          },
          "shapedefaults": {
           "line": {
            "color": "#2a3f5f"
           }
          },
          "ternary": {
           "aaxis": {
            "gridcolor": "white",
            "linecolor": "white",
            "ticks": ""
           },
           "baxis": {
            "gridcolor": "white",
            "linecolor": "white",
            "ticks": ""
           },
           "bgcolor": "#E5ECF6",
           "caxis": {
            "gridcolor": "white",
            "linecolor": "white",
            "ticks": ""
           }
          },
          "title": {
           "x": 0.05
          },
          "xaxis": {
           "automargin": true,
           "gridcolor": "white",
           "linecolor": "white",
           "ticks": "",
           "title": {
            "standoff": 15
           },
           "zerolinecolor": "white",
           "zerolinewidth": 2
          },
          "yaxis": {
           "automargin": true,
           "gridcolor": "white",
           "linecolor": "white",
           "ticks": "",
           "title": {
            "standoff": 15
           },
           "zerolinecolor": "white",
           "zerolinewidth": 2
          }
         }
        },
        "title": {
         "text": "Credit Card Fraud Class"
        },
        "width": 600,
        "xaxis": {
         "showticklabels": true,
         "title": {
          "text": "Class"
         }
        },
        "yaxis": {
         "title": {
          "text": "Number of transactions"
         }
        }
       }
      },
      "text/html": [
       "<div>                            <div id=\"98082ddd-c484-40c4-8085-0cbba5caa40a\" class=\"plotly-graph-div\" style=\"height:525px; width:600px;\"></div>            <script type=\"text/javascript\">                require([\"plotly\"], function(Plotly) {                    window.PLOTLYENV=window.PLOTLYENV || {};                                    if (document.getElementById(\"98082ddd-c484-40c4-8085-0cbba5caa40a\")) {                    Plotly.newPlot(                        \"98082ddd-c484-40c4-8085-0cbba5caa40a\",                        [{\"marker\":{\"color\":\"Red\"},\"name\":\"Credit Card Fraud Class \",\"text\":[284315.0,492.0],\"x\":[0,1],\"y\":[284315,492],\"type\":\"bar\"}],                        {\"hovermode\":\"closest\",\"template\":{\"data\":{\"barpolar\":[{\"marker\":{\"line\":{\"color\":\"#E5ECF6\",\"width\":0.5},\"pattern\":{\"fillmode\":\"overlay\",\"size\":10,\"solidity\":0.2}},\"type\":\"barpolar\"}],\"bar\":[{\"error_x\":{\"color\":\"#2a3f5f\"},\"error_y\":{\"color\":\"#2a3f5f\"},\"marker\":{\"line\":{\"color\":\"#E5ECF6\",\"width\":0.5},\"pattern\":{\"fillmode\":\"overlay\",\"size\":10,\"solidity\":0.2}},\"type\":\"bar\"}],\"carpet\":[{\"aaxis\":{\"endlinecolor\":\"#2a3f5f\",\"gridcolor\":\"white\",\"linecolor\":\"white\",\"minorgridcolor\":\"white\",\"startlinecolor\":\"#2a3f5f\"},\"baxis\":{\"endlinecolor\":\"#2a3f5f\",\"gridcolor\":\"white\",\"linecolor\":\"white\",\"minorgridcolor\":\"white\",\"startlinecolor\":\"#2a3f5f\"},\"type\":\"carpet\"}],\"choropleth\":[{\"colorbar\":{\"outlinewidth\":0,\"ticks\":\"\"},\"type\":\"choropleth\"}],\"contourcarpet\":[{\"colorbar\":{\"outlinewidth\":0,\"ticks\":\"\"},\"type\":\"contourcarpet\"}],\"contour\":[{\"colorbar\":{\"outlinewidth\":0,\"ticks\":\"\"},\"colorscale\":[[0.0,\"#0d0887\"],[0.1111111111111111,\"#46039f\"],[0.2222222222222222,\"#7201a8\"],[0.3333333333333333,\"#9c179e\"],[0.4444444444444444,\"#bd3786\"],[0.5555555555555556,\"#d8576b\"],[0.6666666666666666,\"#ed7953\"],[0.7777777777777778,\"#fb9f3a\"],[0.8888888888888888,\"#fdca26\"],[1.0,\"#f0f921\"]],\"type\":\"contour\"}],\"heatmapgl\":[{\"colorbar\":{\"outlinewidth\":0,\"ticks\":\"\"},\"colorscale\":[[0.0,\"#0d0887\"],[0.1111111111111111,\"#46039f\"],[0.2222222222222222,\"#7201a8\"],[0.3333333333333333,\"#9c179e\"],[0.4444444444444444,\"#bd3786\"],[0.5555555555555556,\"#d8576b\"],[0.6666666666666666,\"#ed7953\"],[0.7777777777777778,\"#fb9f3a\"],[0.8888888888888888,\"#fdca26\"],[1.0,\"#f0f921\"]],\"type\":\"heatmapgl\"}],\"heatmap\":[{\"colorbar\":{\"outlinewidth\":0,\"ticks\":\"\"},\"colorscale\":[[0.0,\"#0d0887\"],[0.1111111111111111,\"#46039f\"],[0.2222222222222222,\"#7201a8\"],[0.3333333333333333,\"#9c179e\"],[0.4444444444444444,\"#bd3786\"],[0.5555555555555556,\"#d8576b\"],[0.6666666666666666,\"#ed7953\"],[0.7777777777777778,\"#fb9f3a\"],[0.8888888888888888,\"#fdca26\"],[1.0,\"#f0f921\"]],\"type\":\"heatmap\"}],\"histogram2dcontour\":[{\"colorbar\":{\"outlinewidth\":0,\"ticks\":\"\"},\"colorscale\":[[0.0,\"#0d0887\"],[0.1111111111111111,\"#46039f\"],[0.2222222222222222,\"#7201a8\"],[0.3333333333333333,\"#9c179e\"],[0.4444444444444444,\"#bd3786\"],[0.5555555555555556,\"#d8576b\"],[0.6666666666666666,\"#ed7953\"],[0.7777777777777778,\"#fb9f3a\"],[0.8888888888888888,\"#fdca26\"],[1.0,\"#f0f921\"]],\"type\":\"histogram2dcontour\"}],\"histogram2d\":[{\"colorbar\":{\"outlinewidth\":0,\"ticks\":\"\"},\"colorscale\":[[0.0,\"#0d0887\"],[0.1111111111111111,\"#46039f\"],[0.2222222222222222,\"#7201a8\"],[0.3333333333333333,\"#9c179e\"],[0.4444444444444444,\"#bd3786\"],[0.5555555555555556,\"#d8576b\"],[0.6666666666666666,\"#ed7953\"],[0.7777777777777778,\"#fb9f3a\"],[0.8888888888888888,\"#fdca26\"],[1.0,\"#f0f921\"]],\"type\":\"histogram2d\"}],\"histogram\":[{\"marker\":{\"pattern\":{\"fillmode\":\"overlay\",\"size\":10,\"solidity\":0.2}},\"type\":\"histogram\"}],\"mesh3d\":[{\"colorbar\":{\"outlinewidth\":0,\"ticks\":\"\"},\"type\":\"mesh3d\"}],\"parcoords\":[{\"line\":{\"colorbar\":{\"outlinewidth\":0,\"ticks\":\"\"}},\"type\":\"parcoords\"}],\"pie\":[{\"automargin\":true,\"type\":\"pie\"}],\"scatter3d\":[{\"line\":{\"colorbar\":{\"outlinewidth\":0,\"ticks\":\"\"}},\"marker\":{\"colorbar\":{\"outlinewidth\":0,\"ticks\":\"\"}},\"type\":\"scatter3d\"}],\"scattercarpet\":[{\"marker\":{\"colorbar\":{\"outlinewidth\":0,\"ticks\":\"\"}},\"type\":\"scattercarpet\"}],\"scattergeo\":[{\"marker\":{\"colorbar\":{\"outlinewidth\":0,\"ticks\":\"\"}},\"type\":\"scattergeo\"}],\"scattergl\":[{\"marker\":{\"colorbar\":{\"outlinewidth\":0,\"ticks\":\"\"}},\"type\":\"scattergl\"}],\"scattermapbox\":[{\"marker\":{\"colorbar\":{\"outlinewidth\":0,\"ticks\":\"\"}},\"type\":\"scattermapbox\"}],\"scatterpolargl\":[{\"marker\":{\"colorbar\":{\"outlinewidth\":0,\"ticks\":\"\"}},\"type\":\"scatterpolargl\"}],\"scatterpolar\":[{\"marker\":{\"colorbar\":{\"outlinewidth\":0,\"ticks\":\"\"}},\"type\":\"scatterpolar\"}],\"scatter\":[{\"fillpattern\":{\"fillmode\":\"overlay\",\"size\":10,\"solidity\":0.2},\"type\":\"scatter\"}],\"scatterternary\":[{\"marker\":{\"colorbar\":{\"outlinewidth\":0,\"ticks\":\"\"}},\"type\":\"scatterternary\"}],\"surface\":[{\"colorbar\":{\"outlinewidth\":0,\"ticks\":\"\"},\"colorscale\":[[0.0,\"#0d0887\"],[0.1111111111111111,\"#46039f\"],[0.2222222222222222,\"#7201a8\"],[0.3333333333333333,\"#9c179e\"],[0.4444444444444444,\"#bd3786\"],[0.5555555555555556,\"#d8576b\"],[0.6666666666666666,\"#ed7953\"],[0.7777777777777778,\"#fb9f3a\"],[0.8888888888888888,\"#fdca26\"],[1.0,\"#f0f921\"]],\"type\":\"surface\"}],\"table\":[{\"cells\":{\"fill\":{\"color\":\"#EBF0F8\"},\"line\":{\"color\":\"white\"}},\"header\":{\"fill\":{\"color\":\"#C8D4E3\"},\"line\":{\"color\":\"white\"}},\"type\":\"table\"}]},\"layout\":{\"annotationdefaults\":{\"arrowcolor\":\"#2a3f5f\",\"arrowhead\":0,\"arrowwidth\":1},\"autotypenumbers\":\"strict\",\"coloraxis\":{\"colorbar\":{\"outlinewidth\":0,\"ticks\":\"\"}},\"colorscale\":{\"diverging\":[[0,\"#8e0152\"],[0.1,\"#c51b7d\"],[0.2,\"#de77ae\"],[0.3,\"#f1b6da\"],[0.4,\"#fde0ef\"],[0.5,\"#f7f7f7\"],[0.6,\"#e6f5d0\"],[0.7,\"#b8e186\"],[0.8,\"#7fbc41\"],[0.9,\"#4d9221\"],[1,\"#276419\"]],\"sequential\":[[0.0,\"#0d0887\"],[0.1111111111111111,\"#46039f\"],[0.2222222222222222,\"#7201a8\"],[0.3333333333333333,\"#9c179e\"],[0.4444444444444444,\"#bd3786\"],[0.5555555555555556,\"#d8576b\"],[0.6666666666666666,\"#ed7953\"],[0.7777777777777778,\"#fb9f3a\"],[0.8888888888888888,\"#fdca26\"],[1.0,\"#f0f921\"]],\"sequentialminus\":[[0.0,\"#0d0887\"],[0.1111111111111111,\"#46039f\"],[0.2222222222222222,\"#7201a8\"],[0.3333333333333333,\"#9c179e\"],[0.4444444444444444,\"#bd3786\"],[0.5555555555555556,\"#d8576b\"],[0.6666666666666666,\"#ed7953\"],[0.7777777777777778,\"#fb9f3a\"],[0.8888888888888888,\"#fdca26\"],[1.0,\"#f0f921\"]]},\"colorway\":[\"#636efa\",\"#EF553B\",\"#00cc96\",\"#ab63fa\",\"#FFA15A\",\"#19d3f3\",\"#FF6692\",\"#B6E880\",\"#FF97FF\",\"#FECB52\"],\"font\":{\"color\":\"#2a3f5f\"},\"geo\":{\"bgcolor\":\"white\",\"lakecolor\":\"white\",\"landcolor\":\"#E5ECF6\",\"showlakes\":true,\"showland\":true,\"subunitcolor\":\"white\"},\"hoverlabel\":{\"align\":\"left\"},\"hovermode\":\"closest\",\"mapbox\":{\"style\":\"light\"},\"paper_bgcolor\":\"white\",\"plot_bgcolor\":\"#E5ECF6\",\"polar\":{\"angularaxis\":{\"gridcolor\":\"white\",\"linecolor\":\"white\",\"ticks\":\"\"},\"bgcolor\":\"#E5ECF6\",\"radialaxis\":{\"gridcolor\":\"white\",\"linecolor\":\"white\",\"ticks\":\"\"}},\"scene\":{\"xaxis\":{\"backgroundcolor\":\"#E5ECF6\",\"gridcolor\":\"white\",\"gridwidth\":2,\"linecolor\":\"white\",\"showbackground\":true,\"ticks\":\"\",\"zerolinecolor\":\"white\"},\"yaxis\":{\"backgroundcolor\":\"#E5ECF6\",\"gridcolor\":\"white\",\"gridwidth\":2,\"linecolor\":\"white\",\"showbackground\":true,\"ticks\":\"\",\"zerolinecolor\":\"white\"},\"zaxis\":{\"backgroundcolor\":\"#E5ECF6\",\"gridcolor\":\"white\",\"gridwidth\":2,\"linecolor\":\"white\",\"showbackground\":true,\"ticks\":\"\",\"zerolinecolor\":\"white\"}},\"shapedefaults\":{\"line\":{\"color\":\"#2a3f5f\"}},\"ternary\":{\"aaxis\":{\"gridcolor\":\"white\",\"linecolor\":\"white\",\"ticks\":\"\"},\"baxis\":{\"gridcolor\":\"white\",\"linecolor\":\"white\",\"ticks\":\"\"},\"bgcolor\":\"#E5ECF6\",\"caxis\":{\"gridcolor\":\"white\",\"linecolor\":\"white\",\"ticks\":\"\"}},\"title\":{\"x\":0.05},\"xaxis\":{\"automargin\":true,\"gridcolor\":\"white\",\"linecolor\":\"white\",\"ticks\":\"\",\"title\":{\"standoff\":15},\"zerolinecolor\":\"white\",\"zerolinewidth\":2},\"yaxis\":{\"automargin\":true,\"gridcolor\":\"white\",\"linecolor\":\"white\",\"ticks\":\"\",\"title\":{\"standoff\":15},\"zerolinecolor\":\"white\",\"zerolinewidth\":2}}},\"title\":{\"text\":\"Credit Card Fraud Class\"},\"width\":600,\"xaxis\":{\"showticklabels\":true,\"title\":{\"text\":\"Class\"}},\"yaxis\":{\"title\":{\"text\":\"Number of transactions\"}}},                        {\"responsive\": true}                    ).then(function(){\n",
       "                            \n",
       "var gd = document.getElementById('98082ddd-c484-40c4-8085-0cbba5caa40a');\n",
       "var x = new MutationObserver(function (mutations, observer) {{\n",
       "        var display = window.getComputedStyle(gd).display;\n",
       "        if (!display || display === 'none') {{\n",
       "            console.log([gd, 'removed!']);\n",
       "            Plotly.purge(gd);\n",
       "            observer.disconnect();\n",
       "        }}\n",
       "}});\n",
       "\n",
       "// Listen for the removal of the full notebook cells\n",
       "var notebookContainer = gd.closest('#notebook-container');\n",
       "if (notebookContainer) {{\n",
       "    x.observe(notebookContainer, {childList: true});\n",
       "}}\n",
       "\n",
       "// Listen for the clearing of the current output cell\n",
       "var outputEl = gd.closest('.output');\n",
       "if (outputEl) {{\n",
       "    x.observe(outputEl, {childList: true});\n",
       "}}\n",
       "\n",
       "                        })                };                });            </script>        </div>"
      ]
     },
     "metadata": {},
     "output_type": "display_data"
    }
   ],
   "source": [
    "temp = creditC[\"Class\"].value_counts()\n",
    "temp1 = pd.DataFrame({'Class': temp.index,'values': temp.values})\n",
    "\n",
    "trace = go.Bar( x = temp1['Class'],y = temp1['values'], name=\"Credit Card Fraud Class \", marker=dict(color=\"Red\"), text=temp1['values'])\n",
    "data = [trace]\n",
    "         \n",
    "fig = dict(data=data, layout=layout)\n",
    "iplot(fig, filename='class')"
   ]
  },
  {
   "cell_type": "code",
   "execution_count": 156,
   "id": "a5e8d53c",
   "metadata": {},
   "outputs": [],
   "source": [
    "#492 transcations are fraudulent which is 0.172% of all transactions."
   ]
  },
  {
   "cell_type": "code",
   "execution_count": 157,
   "id": "1aac912a",
   "metadata": {},
   "outputs": [
    {
     "data": {
      "application/vnd.plotly.v1+json": {
       "config": {
        "linkText": "Export to plot.ly",
        "plotlyServerURL": "https://plot.ly",
        "showLink": false
       },
       "data": [
        {
         "legendgroup": "Not Fraud",
         "marker": {
          "color": "rgb(31, 119, 180)"
         },
         "mode": "lines",
         "name": "Not Fraud",
         "showlegend": true,
         "type": "scatter",
         "x": [
          0,
          345.584,
          691.168,
          1036.752,
          1382.336,
          1727.92,
          2073.504,
          2419.088,
          2764.672,
          3110.256,
          3455.84,
          3801.424,
          4147.008,
          4492.592,
          4838.176,
          5183.76,
          5529.344,
          5874.928,
          6220.512,
          6566.096,
          6911.68,
          7257.264,
          7602.848,
          7948.432,
          8294.016,
          8639.6,
          8985.184,
          9330.768,
          9676.352,
          10021.936,
          10367.52,
          10713.104,
          11058.688,
          11404.272,
          11749.856,
          12095.44,
          12441.024,
          12786.608,
          13132.192,
          13477.776,
          13823.36,
          14168.944,
          14514.528,
          14860.112,
          15205.696,
          15551.28,
          15896.864,
          16242.448,
          16588.032,
          16933.616,
          17279.2,
          17624.784,
          17970.368,
          18315.952,
          18661.536,
          19007.12,
          19352.704,
          19698.288,
          20043.872,
          20389.456,
          20735.04,
          21080.624,
          21426.208,
          21771.792,
          22117.376,
          22462.96,
          22808.544,
          23154.128,
          23499.712,
          23845.296,
          24190.88,
          24536.464,
          24882.048,
          25227.632,
          25573.216,
          25918.8,
          26264.384,
          26609.968,
          26955.552,
          27301.136,
          27646.72,
          27992.304,
          28337.888,
          28683.472,
          29029.056,
          29374.64,
          29720.224,
          30065.808,
          30411.392,
          30756.976,
          31102.56,
          31448.144,
          31793.728,
          32139.312,
          32484.896,
          32830.48,
          33176.064,
          33521.648,
          33867.232,
          34212.816,
          34558.4,
          34903.984,
          35249.568,
          35595.152,
          35940.736,
          36286.32,
          36631.904,
          36977.488,
          37323.072,
          37668.656,
          38014.24,
          38359.824,
          38705.408,
          39050.992,
          39396.576,
          39742.16,
          40087.744,
          40433.328,
          40778.912,
          41124.496,
          41470.08,
          41815.664,
          42161.248,
          42506.832,
          42852.416,
          43198,
          43543.584,
          43889.168,
          44234.752,
          44580.336,
          44925.92,
          45271.504,
          45617.088,
          45962.672,
          46308.256,
          46653.84,
          46999.424,
          47345.008,
          47690.592,
          48036.176,
          48381.76,
          48727.344,
          49072.928,
          49418.512,
          49764.096,
          50109.68,
          50455.264,
          50800.848,
          51146.432,
          51492.016,
          51837.6,
          52183.184,
          52528.768,
          52874.352,
          53219.936,
          53565.52,
          53911.104,
          54256.688,
          54602.272,
          54947.856,
          55293.44,
          55639.024,
          55984.608,
          56330.192,
          56675.776,
          57021.36,
          57366.944,
          57712.528,
          58058.112,
          58403.696,
          58749.28,
          59094.864,
          59440.448,
          59786.032,
          60131.616,
          60477.2,
          60822.784,
          61168.368,
          61513.952,
          61859.536,
          62205.12,
          62550.704,
          62896.288,
          63241.872,
          63587.456,
          63933.04,
          64278.624,
          64624.208,
          64969.792,
          65315.376,
          65660.96,
          66006.544,
          66352.128,
          66697.712,
          67043.296,
          67388.88,
          67734.464,
          68080.048,
          68425.632,
          68771.216,
          69116.8,
          69462.384,
          69807.968,
          70153.552,
          70499.136,
          70844.72,
          71190.304,
          71535.888,
          71881.472,
          72227.056,
          72572.64,
          72918.224,
          73263.808,
          73609.392,
          73954.976,
          74300.56,
          74646.144,
          74991.728,
          75337.312,
          75682.896,
          76028.48,
          76374.064,
          76719.648,
          77065.232,
          77410.816,
          77756.4,
          78101.984,
          78447.568,
          78793.152,
          79138.736,
          79484.32,
          79829.904,
          80175.488,
          80521.072,
          80866.656,
          81212.24,
          81557.824,
          81903.408,
          82248.992,
          82594.576,
          82940.16,
          83285.744,
          83631.328,
          83976.912,
          84322.496,
          84668.08,
          85013.664,
          85359.248,
          85704.832,
          86050.416,
          86396,
          86741.584,
          87087.168,
          87432.752,
          87778.336,
          88123.92,
          88469.504,
          88815.088,
          89160.672,
          89506.256,
          89851.84,
          90197.424,
          90543.008,
          90888.592,
          91234.176,
          91579.76,
          91925.344,
          92270.928,
          92616.512,
          92962.096,
          93307.68,
          93653.264,
          93998.848,
          94344.432,
          94690.016,
          95035.6,
          95381.184,
          95726.768,
          96072.352,
          96417.936,
          96763.52,
          97109.104,
          97454.688,
          97800.272,
          98145.856,
          98491.44,
          98837.024,
          99182.608,
          99528.192,
          99873.776,
          100219.36,
          100564.944,
          100910.528,
          101256.112,
          101601.696,
          101947.28,
          102292.864,
          102638.448,
          102984.032,
          103329.616,
          103675.2,
          104020.784,
          104366.368,
          104711.952,
          105057.536,
          105403.12,
          105748.704,
          106094.288,
          106439.872,
          106785.456,
          107131.04,
          107476.624,
          107822.208,
          108167.792,
          108513.376,
          108858.96,
          109204.544,
          109550.128,
          109895.712,
          110241.296,
          110586.88,
          110932.464,
          111278.048,
          111623.632,
          111969.216,
          112314.8,
          112660.384,
          113005.968,
          113351.552,
          113697.136,
          114042.72,
          114388.304,
          114733.888,
          115079.472,
          115425.056,
          115770.64,
          116116.224,
          116461.808,
          116807.392,
          117152.976,
          117498.56,
          117844.144,
          118189.728,
          118535.312,
          118880.896,
          119226.48,
          119572.064,
          119917.648,
          120263.232,
          120608.816,
          120954.4,
          121299.984,
          121645.568,
          121991.152,
          122336.736,
          122682.32,
          123027.904,
          123373.488,
          123719.072,
          124064.656,
          124410.24,
          124755.824,
          125101.408,
          125446.992,
          125792.576,
          126138.16,
          126483.744,
          126829.328,
          127174.912,
          127520.496,
          127866.08,
          128211.664,
          128557.248,
          128902.832,
          129248.416,
          129594,
          129939.584,
          130285.168,
          130630.752,
          130976.336,
          131321.92,
          131667.504,
          132013.088,
          132358.672,
          132704.256,
          133049.84,
          133395.424,
          133741.008,
          134086.592,
          134432.176,
          134777.76,
          135123.344,
          135468.928,
          135814.512,
          136160.096,
          136505.68,
          136851.264,
          137196.848,
          137542.432,
          137888.016,
          138233.6,
          138579.184,
          138924.768,
          139270.352,
          139615.936,
          139961.52,
          140307.104,
          140652.688,
          140998.272,
          141343.856,
          141689.44,
          142035.024,
          142380.608,
          142726.192,
          143071.776,
          143417.36,
          143762.944,
          144108.528,
          144454.112,
          144799.696,
          145145.28,
          145490.864,
          145836.448,
          146182.032,
          146527.616,
          146873.2,
          147218.784,
          147564.368,
          147909.952,
          148255.536,
          148601.12,
          148946.704,
          149292.288,
          149637.872,
          149983.456,
          150329.04,
          150674.624,
          151020.208,
          151365.792,
          151711.376,
          152056.96,
          152402.544,
          152748.128,
          153093.712,
          153439.296,
          153784.88,
          154130.464,
          154476.048,
          154821.632,
          155167.216,
          155512.8,
          155858.384,
          156203.968,
          156549.552,
          156895.136,
          157240.72,
          157586.304,
          157931.888,
          158277.472,
          158623.056,
          158968.64,
          159314.224,
          159659.808,
          160005.392,
          160350.976,
          160696.56,
          161042.144,
          161387.728,
          161733.312,
          162078.896,
          162424.48,
          162770.064,
          163115.648,
          163461.232,
          163806.816,
          164152.4,
          164497.984,
          164843.568,
          165189.152,
          165534.736,
          165880.32,
          166225.904,
          166571.488,
          166917.072,
          167262.656,
          167608.24,
          167953.824,
          168299.408,
          168644.992,
          168990.576,
          169336.16,
          169681.744,
          170027.328,
          170372.912,
          170718.496,
          171064.08,
          171409.664,
          171755.248,
          172100.832,
          172446.416
         ],
         "xaxis": "x",
         "y": [
          1.697347456086226e-06,
          1.7892406860838056e-06,
          1.8751066622895047e-06,
          1.9539240211315817e-06,
          2.0248147874841933e-06,
          2.0870700001728196e-06,
          2.1401693523158404e-06,
          2.1837939471416954e-06,
          2.2178316034665912e-06,
          2.242374511761339e-06,
          2.2577094196194055e-06,
          2.2643008918188014e-06,
          2.2627685234050986e-06,
          2.2538592651662705e-06,
          2.2384162340774593e-06,
          2.217345515980265e-06,
          2.1915825183281395e-06,
          2.162059397021127e-06,
          2.1296749680386738e-06,
          2.095268331193404e-06,
          2.05959719303171e-06,
          2.023321594571911e-06,
          1.9869934446533323e-06,
          1.9510519490665072e-06,
          1.9158247265701045e-06,
          1.8815341310018962e-06,
          1.8483080671292573e-06,
          1.8161944068400577e-06,
          1.785177988507893e-06,
          1.7551991191213409e-06,
          1.7261724957825178e-06,
          1.6980055169883936e-06,
          1.6706150584078137e-06,
          1.6439419340972001e-06,
          1.6179624420037476e-06,
          1.5926965909610441e-06,
          1.5682128135695855e-06,
          1.544629174058958e-06,
          1.5221112719306263e-06,
          1.5008672116659285e-06,
          1.481140148483666e-06,
          1.46319902439773e-06,
          1.447328174052436e-06,
          1.433816504534355e-06,
          1.422946938147587e-06,
          1.4149867545429196e-06,
          1.410179382909212e-06,
          1.408738081981337e-06,
          1.4108418124353673e-06,
          1.416633460726771e-06,
          1.4262204239961602e-06,
          1.4396774207779606e-06,
          1.4570512600447994e-06,
          1.478367188917408e-06,
          1.5036363533035317e-06,
          1.532863850340599e-06,
          1.566056829463784e-06,
          1.6032321108015968e-06,
          1.6444228338374854e-06,
          1.6896837222361368e-06,
          1.739094646910136e-06,
          1.7927622818094237e-06,
          1.8508197675565135e-06,
          1.913424418521531e-06,
          1.980753621024302e-06,
          2.052999166716722e-06,
          2.130360339872763e-06,
          2.213036126211028e-06,
          2.3012169320790766e-06,
          2.395076196709398e-06,
          2.4947622494234817e-06,
          2.6003907126324243e-06,
          2.712037686308532e-06,
          2.8297338772311614e-06,
          2.9534597639182697e-06,
          3.083141822512351e-06,
          3.2186497856324444e-06,
          3.359794869388642e-06,
          3.5063288854050637e-06,
          3.657944154693155e-06,
          3.8142741563072327e-06,
          3.97489487181751e-06,
          4.139326821281706e-06,
          4.307037821357342e-06,
          4.477446525210012e-06,
          4.649926821293155e-06,
          4.823813169618387e-06,
          4.998406937320513e-06,
          5.172983759820729e-06,
          5.346801901645483e-06,
          5.5191115259867515e-06,
          5.689164710128658e-06,
          5.856225971804274e-06,
          6.019583006720395e-06,
          6.178557286896822e-06,
          6.33251413909087e-06,
          6.480871916741137e-06,
          6.623109899729855e-06,
          6.758774603685426e-06,
          6.8874842519837105e-06,
          7.008931254393314e-06,
          7.122882640061902e-06,
          7.229178501787336e-06,
          7.327728615221862e-06,
          7.418507493160355e-06,
          7.501548214399436e-06,
          7.576935423367104e-06,
          7.64479792710563e-06,
          7.705301318490012e-06,
          7.758641029150601e-06,
          7.805036164694744e-06,
          7.844724402420202e-06,
          7.877958143023881e-06,
          7.905002009088228e-06,
          7.926131680880564e-06,
          7.94163396095993e-06,
          7.951807869479588e-06,
          7.95696649738327e-06,
          7.957439289376487e-06,
          7.95357439583249e-06,
          7.945740724359432e-06,
          7.93432933796e-06,
          7.919753886306895e-06,
          7.90244981707093e-06,
          7.88287219158645e-06,
          7.861492018651871e-06,
          7.83879111631714e-06,
          7.815255608175426e-06,
          7.791368252068972e-06,
          7.767599879605554e-06,
          7.744400289671187e-06,
          7.722188984437173e-06,
          7.701346159669049e-06,
          7.682204361436706e-06,
          7.665041198951465e-06,
          7.65007346006783e-06,
          7.637452914970817e-06,
          7.627264018689671e-06,
          7.619523638961723e-06,
          7.61418284739335e-06,
          7.611130723686314e-06,
          7.610200039221739e-06,
          7.611174611300591e-06,
          7.613798055773268e-06,
          7.617783615693654e-06,
          7.6228247082879535e-06,
          7.62860581233097e-06,
          7.634813312831111e-06,
          7.641145929061619e-06,
          7.647324374415867e-06,
          7.65309993110634e-06,
          7.658261667941963e-06,
          7.662642083793558e-06,
          7.666121021265789e-06,
          7.668627762522012e-06,
          7.670141290160318e-06,
          7.670688767914203e-06,
          7.670342366006724e-06,
          7.669214621200134e-06,
          7.667452578692807e-06,
          7.665231008939398e-06,
          7.662745024280962e-06,
          7.660202435730384e-06,
          7.657816187892279e-06,
          7.655797189368887e-06,
          7.654347818073842e-06,
          7.65365632767946e-06,
          7.653892316465032e-06,
          7.655203347519245e-06,
          7.657712734803747e-06,
          7.66151843861622e-06,
          7.666692951868367e-06,
          7.673284010222378e-06,
          7.681315928223042e-06,
          7.690791352390222e-06,
          7.701693231398637e-06,
          7.713986831543372e-06,
          7.727621669694344e-06,
          7.742533291007228e-06,
          7.758644879036125e-06,
          7.775868744871467e-06,
          7.794107793011539e-06,
          7.813257098720034e-06,
          7.833205749804441e-06,
          7.853839101993095e-06,
          7.875041570289478e-06,
          7.896700030201666e-06,
          7.91870783609131e-06,
          7.940969384640015e-06,
          7.963405066766165e-06,
          7.98595636928918e-06,
          8.008590816494447e-06,
          8.031306389214006e-06,
          8.054135031363684e-06,
          8.077144855419422e-06,
          8.100440690962875e-06,
          8.12416268335992e-06,
          8.148482739462418e-06,
          8.173598728157823e-06,
          8.199726468138793e-06,
          8.227089664610314e-06,
          8.255908081986769e-06,
          8.28638435222761e-06,
          8.318689911131436e-06,
          8.352950622010562e-06,
          8.389232684289143e-06,
          8.427529432517221e-06,
          8.467749609997747e-06,
          8.5097076534679e-06,
          8.553116455128343e-06,
          8.59758298070585e-06,
          8.642607022227291e-06,
          8.687583256706541e-06,
          8.731806671225067e-06,
          8.774481304367468e-06,
          8.814732146393526e-06,
          8.851619937765269e-06,
          8.884158509418363e-06,
          8.911334219899884e-06,
          8.932126965959673e-06,
          8.945532176540064e-06,
          8.95058314809604e-06,
          8.946373044910814e-06,
          8.932075875017873e-06,
          8.906965763680835e-06,
          8.870433884729148e-06,
          8.822002476833969e-06,
          8.761335466860958e-06,
          8.688245343573295e-06,
          8.602696067955016e-06,
          8.504801964908307e-06,
          8.394822707027359e-06,
          8.273154665238242e-06,
          8.140319053533444e-06,
          7.996947426325067e-06,
          7.843765188647893e-06,
          7.681573845069685e-06,
          7.511232738581267e-06,
          7.33364101471729e-06,
          7.149720490327954e-06,
          6.960400015284128e-06,
          6.76660179574194e-06,
          6.5692300080250655e-06,
          6.369161882344767e-06,
          6.167241285296679e-06,
          5.964274688715284e-06,
          5.7610292881530164e-06,
          5.558232933420785e-06,
          5.3565754606671604e-06,
          5.156710972657441e-06,
          4.959260601368877e-06,
          4.764815303057657e-06,
          4.5739382773489956e-06,
          4.3871666642909316e-06,
          4.205012251683968e-06,
          4.027961014003517e-06,
          3.856471398599545e-06,
          3.6909713696184227e-06,
          3.5318543107640014e-06,
          3.3794739707040134e-06,
          3.2341387063642493e-06,
          3.09610533689418e-06,
          2.965572962654928e-06,
          2.842677127687104e-06,
          2.727484709805115e-06,
          2.619989909357818e-06,
          2.520111676015091e-06,
          2.427692863569815e-06,
          2.342501337296398e-06,
          2.264233179246592e-06,
          2.192518047148749e-06,
          2.1269266461765223e-06,
          2.0669801742745345e-06,
          2.012161505894253e-06,
          1.9619277910244224e-06,
          1.9157240712834857e-06,
          1.8729974570884043e-06,
          1.8332113732540546e-06,
          1.7958593673801985e-06,
          1.7604779872841177e-06,
          1.7266582702356212e-06,
          1.694055445992837e-06,
          1.6623965343016347e-06,
          1.6314856110536923e-06,
          1.6012066201757071e-06,
          1.5715237145407142e-06,
          1.5424792126083194e-06,
          1.5141893523611344e-06,
          1.4868381053923456e-06,
          1.4606693777951228e-06,
          1.4359779681991328e-06,
          1.4130996757281782e-06,
          1.3924009520549702e-06,
          1.3742684736943764e-06,
          1.3590989758662608e-06,
          1.3472896412160876e-06,
          1.3392292794638088e-06,
          1.3352904719533155e-06,
          1.335822792319559e-06,
          1.341147154951964e-06,
          1.3515512899463576e-06,
          1.36728629939042e-06,
          1.3885642169032805e-06,
          1.4155564712147415e-06,
          1.4483931452166274e-06,
          1.4871629234741587e-06,
          1.531913632014335e-06,
          1.5826532920302118e-06,
          1.6393516311859596e-06,
          1.7019420194297466e-06,
          1.770323817488097e-06,
          1.8443651425656395e-06,
          1.9239060646457227e-06,
          2.0087622462564445e-06,
          2.098729027519551e-06,
          2.1935859366460467e-06,
          2.2931015747103575e-06,
          2.3970387845923e-06,
          2.5051599704428945e-06,
          2.6172323897750845e-06,
          2.7330331997486774e-06,
          2.8523540070366512e-06,
          2.9750046513343243e-06,
          3.1008159500099968e-06,
          3.229641148489611e-06,
          3.361355859316422e-06,
          3.49585633235638e-06,
          3.6330559775247643e-06,
          3.77288015605973e-06,
          3.915259361504394e-06,
          4.0601210205601614e-06,
          4.20738024928744e-06,
          4.356929993860334e-06,
          4.508631059529288e-06,
          4.662302579861018e-06,
          4.817713495387055e-06,
          4.97457559321582e-06,
          5.132538606064657e-06,
          5.291187782149383e-06,
          5.4500442207274745e-06,
          5.608568128319679e-06,
          5.7661649962831695e-06,
          5.922194541198147e-06,
          6.075982095987878e-06,
          6.226832001933775e-06,
          6.374042439169836e-06,
          6.516921053370932e-06,
          6.6548006945818544e-06,
          6.787054583109831e-06,
          6.913110256888775e-06,
          7.032461731690977e-06,
          7.144679414247741e-06,
          7.249417441023877e-06,
          7.3464182626032205e-06,
          7.435514445358026e-06,
          7.516627808025062e-06,
          7.589766141684623e-06,
          7.655017869381519e-06,
          7.712545080304945e-06,
          7.76257541936528e-06,
          7.805393325111688e-06,
          7.841331088565962e-06,
          7.870760156336691e-06,
          7.894083028920017e-06,
          7.911726016105932e-06,
          7.924133013618895e-06,
          7.931760366075156e-06,
          7.935072788425494e-06,
          7.934540237282671e-06,
          7.930635559896009e-06,
          7.923832705051017e-06,
          7.914605258270494e-06,
          7.903425063041482e-06,
          7.890760708466107e-06,
          7.877075698645939e-06,
          7.862826166202862e-06,
          7.848458047158569e-06,
          7.834403692290484e-06,
          7.821077946804908e-06,
          7.808873781945643e-06,
          7.798157606035696e-06,
          7.789264416363833e-06,
          7.782492976151726e-06,
          7.77810121225941e-06,
          7.776302029754061e-06,
          7.777259729962855e-06,
          7.781087200522531e-06,
          7.787844020759934e-06,
          7.797535595084253e-06,
          7.810113392411539e-06,
          7.825476332418608e-06,
          7.843473320742812e-06,
          7.86390689633336e-06,
          7.88653791592843e-06,
          7.911091164212854e-06,
          7.93726174456668e-06,
          7.964722075703524e-06,
          7.993129295076801e-06,
          8.022132851958381e-06,
          8.051382062851659e-06,
          8.080533400309721e-06,
          8.10925729415988e-06,
          8.137244241794065e-06,
          8.164210051465264e-06,
          8.189900078482423e-06,
          8.214092357438593e-06,
          8.236599582026864e-06,
          8.257269934935509e-06,
          8.275986820935606e-06,
          8.292667603341434e-06,
          8.307261484600059e-06,
          8.319746703096486e-06,
          8.330127238270177e-06,
          8.338429223485027e-06,
          8.344697260356942e-06,
          8.348990810121105e-06,
          8.351380808722834e-06,
          8.351946615214956e-06,
          8.350773361117179e-06,
          8.347949725304532e-06,
          8.343566118802322e-06,
          8.337713230093595e-06,
          8.330480857437749e-06,
          8.321956942328969e-06,
          8.312226718654158e-06,
          8.301371904984082e-06,
          8.28946989113086e-06,
          8.276592901670643e-06,
          8.262807154751018e-06,
          8.24817206964307e-06,
          8.232739606528501e-06,
          8.216553842656714e-06,
          8.199650896786162e-06,
          8.18205930653018e-06,
          8.163800940243854e-06,
          8.14489248744238e-06,
          8.125347522248057e-06,
          8.10517907716839e-06,
          8.084402605008577e-06,
          8.063039150737193e-06,
          8.041118508591435e-06,
          8.018682107831933e-06,
          7.995785357477929e-06,
          7.972499188554663e-06,
          7.948910562417719e-06,
          7.92512176427102e-06,
          7.90124836881024e-06,
          7.877415845168722e-06,
          7.853754855151372e-06,
          7.830395385603204e-06,
          7.807459936140123e-06,
          7.785056051576906e-06,
          7.76326853923214e-06,
          7.742151741544881e-06,
          7.721722242233108e-06,
          7.701952369437012e-06,
          7.682764823383586e-06,
          7.664028701862044e-06,
          7.645557128088684e-06,
          7.627106606879589e-06,
          7.608378151350866e-06,
          7.589020138440517e-06,
          7.5686327720261705e-06,
          7.546773961324201e-06,
          7.522966363070486e-06,
          7.4967052913752334e-06,
          7.467467171099337e-06,
          7.434718200257147e-06,
          7.397922894775452e-06,
          7.356552214556368e-06,
          7.31009101210078e-06,
          7.258044602058914e-06,
          7.199944319248215e-06,
          7.135352010448104e-06,
          7.063863487342652e-06,
          6.985111049446798e-06,
          6.898765261309e-06,
          6.804536232139017e-06,
          6.702174692783636e-06,
          6.591473189773025e-06,
          6.4722677150522574e-06,
          6.3444400605795025e-06,
          6.207921128630467e-06,
          6.062695343022793e-06,
          5.908806197528005e-06,
          5.746362851759736e-06,
          5.5755475501749955e-06,
          5.396623506475834e-06,
          5.209942774562255e-06,
          5.015953529263215e-06,
          4.815206115540978e-06,
          4.608357202072425e-06,
          4.396171399757077e-06,
          4.17951978005933e-06,
          3.959374850598455e-06,
          3.736801710492047e-06,
          3.512945306302105e-06,
          3.2890139285170335e-06,
          3.066259313514767e-06,
          2.84595393096583e-06
         ],
         "yaxis": "y"
        },
        {
         "legendgroup": "Fraud",
         "marker": {
          "color": "rgb(255, 127, 14)"
         },
         "mode": "lines",
         "name": "Fraud",
         "showlegend": true,
         "type": "scatter",
         "x": [
          406,
          745.884,
          1085.768,
          1425.652,
          1765.536,
          2105.42,
          2445.304,
          2785.188,
          3125.072,
          3464.956,
          3804.84,
          4144.724,
          4484.608,
          4824.492,
          5164.376,
          5504.26,
          5844.144,
          6184.028,
          6523.912,
          6863.796,
          7203.68,
          7543.564,
          7883.448,
          8223.332,
          8563.216,
          8903.1,
          9242.984,
          9582.868,
          9922.752,
          10262.636,
          10602.52,
          10942.404,
          11282.288,
          11622.172,
          11962.056,
          12301.94,
          12641.824,
          12981.708,
          13321.592,
          13661.476,
          14001.36,
          14341.244,
          14681.128,
          15021.012,
          15360.896,
          15700.78,
          16040.664,
          16380.548,
          16720.432,
          17060.316,
          17400.2,
          17740.084,
          18079.968,
          18419.852,
          18759.736,
          19099.62,
          19439.504,
          19779.388,
          20119.272,
          20459.156,
          20799.04,
          21138.924,
          21478.808,
          21818.692,
          22158.576,
          22498.46,
          22838.344,
          23178.228,
          23518.112,
          23857.996,
          24197.88,
          24537.764,
          24877.648,
          25217.532,
          25557.416,
          25897.3,
          26237.184,
          26577.068,
          26916.952,
          27256.836,
          27596.72,
          27936.604,
          28276.488,
          28616.372,
          28956.256,
          29296.14,
          29636.024,
          29975.908,
          30315.792,
          30655.676,
          30995.56,
          31335.444,
          31675.328,
          32015.212,
          32355.096,
          32694.98,
          33034.864,
          33374.748,
          33714.632,
          34054.516,
          34394.4,
          34734.284,
          35074.168,
          35414.052,
          35753.936,
          36093.82,
          36433.704,
          36773.588,
          37113.472,
          37453.356,
          37793.24,
          38133.124,
          38473.008,
          38812.892,
          39152.776,
          39492.66,
          39832.544,
          40172.428,
          40512.312,
          40852.196,
          41192.08,
          41531.964,
          41871.848,
          42211.732,
          42551.616,
          42891.5,
          43231.384,
          43571.268,
          43911.152,
          44251.036,
          44590.92,
          44930.804,
          45270.688,
          45610.572,
          45950.456,
          46290.34,
          46630.224,
          46970.108,
          47309.992,
          47649.876,
          47989.76,
          48329.644,
          48669.528,
          49009.412,
          49349.296,
          49689.18,
          50029.064,
          50368.948,
          50708.832,
          51048.716,
          51388.6,
          51728.484,
          52068.368,
          52408.252,
          52748.136,
          53088.02,
          53427.904,
          53767.788,
          54107.672,
          54447.556,
          54787.44,
          55127.324,
          55467.208,
          55807.092,
          56146.976,
          56486.86,
          56826.744,
          57166.628,
          57506.512,
          57846.396,
          58186.28,
          58526.164,
          58866.048,
          59205.932,
          59545.816,
          59885.7,
          60225.584,
          60565.468,
          60905.352,
          61245.236,
          61585.12,
          61925.004,
          62264.888,
          62604.772,
          62944.656,
          63284.54,
          63624.424,
          63964.308,
          64304.192,
          64644.076,
          64983.96,
          65323.844,
          65663.728,
          66003.612,
          66343.496,
          66683.38,
          67023.264,
          67363.148,
          67703.032,
          68042.916,
          68382.8,
          68722.684,
          69062.568,
          69402.452,
          69742.336,
          70082.22,
          70422.104,
          70761.988,
          71101.872,
          71441.756,
          71781.64,
          72121.524,
          72461.408,
          72801.292,
          73141.176,
          73481.06,
          73820.944,
          74160.828,
          74500.712,
          74840.596,
          75180.48,
          75520.364,
          75860.248,
          76200.132,
          76540.016,
          76879.9,
          77219.784,
          77559.668,
          77899.552,
          78239.436,
          78579.32,
          78919.204,
          79259.088,
          79598.972,
          79938.856,
          80278.74,
          80618.624,
          80958.508,
          81298.392,
          81638.276,
          81978.16,
          82318.044,
          82657.928,
          82997.812,
          83337.696,
          83677.58,
          84017.464,
          84357.348,
          84697.232,
          85037.116,
          85377,
          85716.884,
          86056.768,
          86396.652,
          86736.536,
          87076.42,
          87416.304,
          87756.188,
          88096.072,
          88435.956,
          88775.84,
          89115.724,
          89455.608,
          89795.492,
          90135.376,
          90475.26,
          90815.144,
          91155.028,
          91494.912,
          91834.796,
          92174.68,
          92514.564,
          92854.448,
          93194.332,
          93534.216,
          93874.1,
          94213.984,
          94553.868,
          94893.752,
          95233.636,
          95573.52,
          95913.404,
          96253.288,
          96593.172,
          96933.056,
          97272.94,
          97612.824,
          97952.708,
          98292.592,
          98632.476,
          98972.36,
          99312.244,
          99652.128,
          99992.012,
          100331.896,
          100671.78,
          101011.664,
          101351.548,
          101691.432,
          102031.316,
          102371.2,
          102711.084,
          103050.968,
          103390.852,
          103730.736,
          104070.62,
          104410.504,
          104750.388,
          105090.272,
          105430.156,
          105770.04,
          106109.924,
          106449.808,
          106789.692,
          107129.576,
          107469.46,
          107809.344,
          108149.228,
          108489.112,
          108828.996,
          109168.88,
          109508.764,
          109848.648,
          110188.532,
          110528.416,
          110868.3,
          111208.184,
          111548.068,
          111887.952,
          112227.836,
          112567.72,
          112907.604,
          113247.488,
          113587.372,
          113927.256,
          114267.14,
          114607.024,
          114946.908,
          115286.792,
          115626.676,
          115966.56,
          116306.444,
          116646.328,
          116986.212,
          117326.096,
          117665.98,
          118005.864,
          118345.748,
          118685.632,
          119025.516,
          119365.4,
          119705.284,
          120045.168,
          120385.052,
          120724.936,
          121064.82,
          121404.704,
          121744.588,
          122084.472,
          122424.356,
          122764.24,
          123104.124,
          123444.008,
          123783.892,
          124123.776,
          124463.66,
          124803.544,
          125143.428,
          125483.312,
          125823.196,
          126163.08,
          126502.964,
          126842.848,
          127182.732,
          127522.616,
          127862.5,
          128202.384,
          128542.268,
          128882.152,
          129222.036,
          129561.92,
          129901.804,
          130241.688,
          130581.572,
          130921.456,
          131261.34,
          131601.224,
          131941.108,
          132280.992,
          132620.876,
          132960.76,
          133300.644,
          133640.528,
          133980.412,
          134320.296,
          134660.18,
          135000.064,
          135339.948,
          135679.832,
          136019.716,
          136359.6,
          136699.484,
          137039.368,
          137379.252,
          137719.136,
          138059.02,
          138398.904,
          138738.788,
          139078.672,
          139418.556,
          139758.44,
          140098.324,
          140438.208,
          140778.092,
          141117.976,
          141457.86,
          141797.744,
          142137.628,
          142477.512,
          142817.396,
          143157.28,
          143497.164,
          143837.048,
          144176.932,
          144516.816,
          144856.7,
          145196.584,
          145536.468,
          145876.352,
          146216.236,
          146556.12,
          146896.004,
          147235.888,
          147575.772,
          147915.656,
          148255.54,
          148595.424,
          148935.308,
          149275.192,
          149615.076,
          149954.96,
          150294.844,
          150634.728,
          150974.612,
          151314.496,
          151654.38,
          151994.264,
          152334.148,
          152674.032,
          153013.916,
          153353.8,
          153693.684,
          154033.568,
          154373.452,
          154713.336,
          155053.22,
          155393.104,
          155732.988,
          156072.872,
          156412.756,
          156752.64,
          157092.524,
          157432.408,
          157772.292,
          158112.176,
          158452.06,
          158791.944,
          159131.828,
          159471.712,
          159811.596,
          160151.48,
          160491.364,
          160831.248,
          161171.132,
          161511.016,
          161850.9,
          162190.784,
          162530.668,
          162870.552,
          163210.436,
          163550.32,
          163890.204,
          164230.088,
          164569.972,
          164909.856,
          165249.74,
          165589.624,
          165929.508,
          166269.392,
          166609.276,
          166949.16,
          167289.044,
          167628.928,
          167968.812,
          168308.696,
          168648.58,
          168988.464,
          169328.348,
          169668.232,
          170008.116
         ],
         "xaxis": "x",
         "y": [
          2.5725270199184186e-06,
          2.6310058058129383e-06,
          2.6897686304363113e-06,
          2.748786647363209e-06,
          2.8080309928186178e-06,
          2.8674728524427232e-06,
          2.927083527927629e-06,
          2.9868345032672523e-06,
          3.046697510360476e-06,
          3.106644593707739e-06,
          3.1666481739421243e-06,
          3.2266811099387665e-06,
          3.286716759249754e-06,
          3.3467290366169334e-06,
          3.4066924703207853e-06,
          3.4665822561312503e-06,
          3.5263743086346612e-06,
          3.586045309720728e-06,
          3.6455727540243725e-06,
          3.704934991128807e-06,
          3.764111264349627e-06,
          3.823081745932931e-06,
          3.8818275685156236e-06,
          3.940330852711665e-06,
          3.998574730703817e-06,
          4.056543365738184e-06,
          4.114221967435875e-06,
          4.171596802854251e-06,
          4.22865520324932e-06,
          4.2853855665086814e-06,
          4.341777355244726e-06,
          4.397821090555965e-06,
          4.4535083414842744e-06,
          4.508831710215101e-06,
          4.5637848130863e-06,
          4.618362257490829e-06,
          4.672559614776593e-06,
          4.726373389264856e-06,
          4.7798009835267726e-06,
          4.832840660073918e-06,
          4.8854914996356455e-06,
          4.937753356211278e-06,
          4.989626809100186e-06,
          5.04111311212635e-06,
          5.0922141402872045e-06,
          5.142932334068026e-06,
          5.193270641674184e-06,
          5.2432324594427434e-06,
          5.2928215707039586e-06,
          5.342042083369238e-06,
          5.390898366529312e-06,
          5.439394986349832e-06,
          5.487536641555415e-06,
          5.5353280987949695e-06,
          5.582774128181599e-06,
          5.629879439299518e-06,
          5.676648617968544e-06,
          5.723086064053026e-06,
          5.769195930597303e-06,
          5.814982064563845e-06,
          5.860447949442463e-06,
          5.905596649991412e-06,
          5.950430759359787e-06,
          5.994952348831379e-06,
          6.039162920417333e-06,
          6.0830633625115504e-06,
          6.126653908809836e-06,
          6.169934100677941e-06,
          6.212902753138355e-06,
          6.255557924628917e-06,
          6.297896890669671e-06,
          6.339916121555685e-06,
          6.381611264176304e-06,
          6.422977128041518e-06,
          6.464007675577935e-06,
          6.504696016736771e-06,
          6.545034407937351e-06,
          6.585014255349519e-06,
          6.6246261224990165e-06,
          6.663859742160641e-06,
          6.702704032484233e-06,
          6.741147117280074e-06,
          6.779176350371278e-06,
          6.8167783439031485e-06,
          6.8539390004813194e-06,
          6.890643548994117e-06,
          6.9268765839581094e-06,
          6.962622108210547e-06,
          6.997863578757841e-06,
          7.032583955575587e-06,
          7.066765753143314e-06,
          7.100391094485442e-06,
          7.13344176747952e-06,
          7.165899283183912e-06,
          7.197744935928862e-06,
          7.228959864908295e-06,
          7.2595251170041e-06,
          7.2894217105707835e-06,
          7.318630699905537e-06,
          7.347133240126908e-06,
          7.374910652185972e-06,
          7.401944487734288e-06,
          7.428216593576158e-06,
          7.453709175436182e-06,
          7.478404860778611e-06,
          7.502286760421194e-06,
          7.525338528694e-06,
          7.547544421902765e-06,
          7.568889354865974e-06,
          7.589358955305963e-06,
          7.6089396158869455e-06,
          7.6276185437049614e-06,
          7.645383807049724e-06,
          7.662224379271765e-06,
          7.678130179605082e-06,
          7.693092110809923e-06,
          7.707102093518343e-06,
          7.720153097180765e-06,
          7.73223916753028e-06,
          7.74335545049777e-06,
          7.753498212529612e-06,
          7.762664857276409e-06,
          7.770853938639617e-06,
          7.778065170179877e-06,
          7.784299430908184e-06,
          7.789558767497564e-06,
          7.793846392970039e-06,
          7.79716668192795e-06,
          7.799525162415756e-06,
          7.800928504511102e-06,
          7.801384505758749e-06,
          7.800902073572752e-06,
          7.79949120474543e-06,
          7.797162962210432e-06,
          7.793929449219127e-06,
          7.789803781096399e-06,
          7.784800054750648e-06,
          7.778933316118147e-06,
          7.772219525727597e-06,
          7.764675522574614e-06,
          7.75631898649779e-06,
          7.747168399250416e-06,
          7.737243004461252e-06,
          7.726562766677172e-06,
          7.715148329678115e-06,
          7.703020974251558e-06,
          7.690202575608858e-06,
          7.67671556062078e-06,
          7.662582865042432e-06,
          7.647827890890533e-06,
          7.63247446412764e-06,
          7.6165467927982415e-06,
          7.600069425751878e-06,
          7.583067212077927e-06,
          7.565565261364991e-06,
          7.547588904886183e-06,
          7.529163657799741e-06,
          7.510315182441231e-06,
          7.491069252771464e-06,
          7.471451720031027e-06,
          7.451488479639303e-06,
          7.431205439363626e-06,
          7.410628488770476e-06,
          7.3897834699591784e-06,
          7.368696149565699e-06,
          7.347392192012733e-06,
          7.325897133970948e-06,
          7.30423635998556e-06,
          7.282435079212543e-06,
          7.260518303199246e-06,
          7.238510824635931e-06,
          7.216437196996779e-06,
          7.194321714982592e-06,
          7.172188395671026e-06,
          7.15006096027575e-06,
          7.1279628164118935e-06,
          7.105917040762377e-06,
          7.083946362037863e-06,
          7.06207314412266e-06,
          7.040319369298783e-06,
          7.018706621442342e-06,
          6.997256069088546e-06,
          6.975988448265334e-06,
          6.954924045000071e-06,
          6.934082677409288e-06,
          6.9134836772881e-06,
          6.893145871122829e-06,
          6.873087560459115e-06,
          6.8533265015665985e-06,
          6.833879884350618e-06,
          6.8147643104725706e-06,
          6.795995770650816e-06,
          6.777589621125901e-06,
          6.759560559286022e-06,
          6.741922598460666e-06,
          6.724689041902917e-06,
          6.707872455994472e-06,
          6.6914846427192735e-06,
          6.675536611465735e-06,
          6.66003855022945e-06,
          6.644999796301857e-06,
          6.630428806542279e-06,
          6.616333127343136e-06,
          6.60271936441016e-06,
          6.589593152489992e-06,
          6.576959125189144e-06,
          6.564820885037666e-06,
          6.553180973960314e-06,
          6.542040844326773e-06,
          6.531400830759609e-06,
          6.521260122885779e-06,
          6.511616739222865e-06,
          6.502467502396011e-06,
          6.4938080158847915e-06,
          6.485632642502066e-06,
          6.477934484807599e-06,
          6.470705367659423e-06,
          6.463935823104737e-06,
          6.457615077809518e-06,
          6.4517310432223365e-06,
          6.446270308662627e-06,
          6.441218137517905e-06,
          6.43655846672634e-06,
          6.432273909712533e-06,
          6.428345762934644e-06,
          6.424754016189525e-06,
          6.4214773668104815e-06,
          6.418493237878816e-06,
          6.415777800556125e-06,
          6.413306000628759e-06,
          6.4110515893397576e-06,
          6.408987158566516e-06,
          6.407084180384325e-06,
          6.405313051037887e-06,
          6.4036431393233005e-06,
          6.402042839363787e-06,
          6.400479627742147e-06,
          6.398920124932858e-06,
          6.397330160956057e-06,
          6.395674845154959e-06,
          6.3939186399780624e-06,
          6.3920254386263285e-06,
          6.38995864640597e-06,
          6.38768126560702e-06,
          6.385155983708638e-06,
          6.382345264692887e-06,
          6.379211443230842e-06,
          6.375716821486896e-06,
          6.371823768270629e-06,
          6.367494820249907e-06,
          6.362692784924035e-06,
          6.357380845042472e-06,
          6.3515226641418096e-06,
          6.345082492863202e-06,
          6.338025275702306e-06,
          6.33031675783569e-06,
          6.321923591660976e-06,
          6.312813442682563e-06,
          6.302955094371123e-06,
          6.292318551623299e-06,
          6.280875142447134e-06,
          6.268597617500529e-06,
          6.2554602471125774e-06,
          6.2414389154223915e-06,
          6.226511211276388e-06,
          6.210656515532497e-06,
          6.1938560844299705e-06,
          6.176093128693816e-06,
          6.1573528880561844e-06,
          6.137622700890801e-06,
          6.1168920686722895e-06,
          6.09515271498915e-06,
          6.0723986388573735e-06,
          6.048626162101344e-06,
          6.023833970588853e-06,
          5.998023149129174e-06,
          5.971197209865401e-06,
          5.943362114015651e-06,
          5.914526286842008e-06,
          5.884700625750639e-06,
          5.853898501451924e-06,
          5.822135752134675e-06,
          5.7894306706348915e-06,
          5.7558039846049595e-06,
          5.721278829715635e-06,
          5.685880715948571e-06,
          5.649637487063369e-06,
          5.612579273347977e-06,
          5.574738437786229e-06,
          5.536149515800898e-06,
          5.49684914875355e-06,
          5.456876011406088e-06,
          5.4162707335700106e-06,
          5.3750758161907535e-06,
          5.333335542134214e-06,
          5.291095881960868e-06,
          5.248404394990797e-06,
          5.205310125978372e-06,
          5.161863497730501e-06,
          5.118116200015251e-06,
          5.074121075119351e-06,
          5.029932000423422e-06,
          4.985603768372088e-06,
          4.941191964223304e-06,
          4.896752841966393e-06,
          4.85234319880216e-06,
          4.808020248580191e-06,
          4.763841494589364e-06,
          4.719864602095872e-06,
          4.676147271020593e-06,
          4.632747109143135e-06,
          4.589721506214109e-06,
          4.547127509349559e-06,
          4.505021700072854e-06,
          4.463460073358997e-06,
          4.4224979190248335e-06,
          4.382189705795714e-06,
          4.342588968365247e-06,
          4.303748197749751e-06,
          4.265718735222607e-06,
          4.228550670097034e-06,
          4.192292741607468e-06,
          4.156992245121314e-06,
          4.122694942893464e-06,
          4.089444979555857e-06,
          4.057284802514108e-06,
          4.026255087402529e-06,
          3.996394668727529e-06,
          3.967740475808403e-06,
          3.940327474103151e-06,
          3.914188611985556e-06,
          3.889354773018637e-06,
          3.865854733748632e-06,
          3.843715127022968e-06,
          3.822960410815293e-06,
          3.8036128425209813e-06,
          3.785692458667052e-06,
          3.769217059961994e-06,
          3.754202201592922e-06,
          3.7406611886604264e-06,
          3.728605076625154e-06,
          3.7180426766247457e-06,
          3.708980565505328e-06,
          3.70142310039843e-06,
          3.695372437661674e-06,
          3.6908285559905345e-06,
          3.687789283498205e-06,
          3.686250328551705e-06,
          3.686205314144638e-06,
          3.6876458155803856e-06,
          3.6905614012342007e-06,
          3.6949396761586576e-06,
          3.7007663282937523e-06,
          3.7080251770415627e-06,
          3.716698223964658e-06,
          3.72676570536829e-06,
          3.7382061465281578e-06,
          3.750996417328555e-06,
          3.7651117890798223e-06,
          3.7805259922891007e-06,
          3.7972112751645694e-06,
          3.815138462640425e-06,
          3.834277015717924e-06,
          3.85459509092663e-06,
          3.876059599719658e-06,
          3.898636267627168e-06,
          3.922289693003299e-06,
          3.946983405213356e-06,
          3.9726799221203845e-06,
          3.99934080674246e-06,
          4.026926722965422e-06,
          4.055397490208563e-06,
          4.084712136954444e-06,
          4.1148289530674665e-06,
          4.14570554083936e-06,
          4.177298864713326e-06,
          4.209565299651933e-06,
          4.2424606781271595e-06,
          4.275940335723666e-06,
          4.309959155359336e-06,
          4.344471610138979e-06,
          4.37943180486875e-06,
          4.4147935162702665e-06,
          4.450510231943434e-06,
          4.486535188137169e-06,
          4.522821406396071e-06,
          4.559321729159453e-06,
          4.595988854396512e-06,
          4.632775369368175e-06,
          4.669633783611571e-06,
          4.706516561248101e-06,
          4.743376152719514e-06,
          4.780165026059656e-06,
          4.816835697810895e-06,
          4.8533407636952975e-06,
          4.889632929150575e-06,
          4.925665039839297e-06,
          4.961390112238059e-06,
          4.996761364410147e-06,
          5.031732247060993e-06,
          5.066256474971185e-06,
          5.10028805889563e-06,
          5.133781338011263e-06,
          5.1666910129878835e-06,
          5.1989721797491105e-06,
          5.230580363981222e-06,
          5.26147155643864e-06,
          5.291602249084776e-06,
          5.320929472096579e-06,
          5.349410831750429e-06,
          5.377004549195869e-06,
          5.403669500112424e-06,
          5.429365255233112e-06,
          5.454052121706752e-06,
          5.47769118525958e-06,
          5.50024435310493e-06,
          5.5216743975386395e-06,
          5.541945000146369e-06,
          5.561020796538229e-06,
          5.578867421515788e-06,
          5.595451554565916e-06,
          5.610740965567116e-06,
          5.624704560584352e-06,
          5.6373124276203065e-06,
          5.648535882183501e-06,
          5.658347512526507e-06,
          5.666721224401678e-06,
          5.6736322851763365e-06,
          5.679057367145257e-06,
          5.682974589874614e-06,
          5.68536356140919e-06,
          5.686205418173049e-06,
          5.685482863393367e-06,
          5.683180203877497e-06,
          5.679283384974734e-06,
          5.673780023556718e-06,
          5.666659438853747e-06,
          5.657912680988523e-06,
          5.6475325570542406e-06,
          5.63551365459e-06,
          5.621852362313586e-06,
          5.606546887979509e-06,
          5.589597273238929e-06,
          5.571005405387347e-06,
          5.550775025896202e-06,
          5.528911735635079e-06,
          5.505422996702589e-06,
          5.480318130795817e-06,
          5.453608314060394e-06,
          5.425306568375871e-06,
          5.395427749044038e-06,
          5.363988528860966e-06,
          5.331007378566766e-06,
          5.296504543680576e-06,
          5.2605020177416475e-06,
          5.2230235119907465e-06,
          5.184094421539271e-06,
          5.143741788086644e-06,
          5.101994259259249e-06,
          5.05888204465646e-06,
          5.0144368687017364e-06,
          4.968691920407994e-06,
          4.921681800177755e-06,
          4.873442463769114e-06,
          4.824011163568484e-06,
          4.773426387320357e-06,
          4.721727794472902e-06,
          4.668956150306307e-06,
          4.615153258017563e-06,
          4.560361888942082e-06,
          4.504625711097861e-06,
          4.447989216242829e-06,
          4.39049764563976e-06,
          4.332196914726348e-06,
          4.27313353689029e-06,
          4.213354546550483e-06,
          4.152907421746282e-06,
          4.091840006436426e-06,
          4.030200432708102e-06,
          3.968037043095123e-06,
          3.905398313201444e-06,
          3.842332774823002e-06,
          3.778888939757e-06,
          3.715115224483064e-06,
          3.6510598758955166e-06,
          3.5867708982600254e-06,
          3.5222959815618283e-06,
          3.4576824314054783e-06,
          3.3929771006189387e-06,
          3.328226322707072e-06,
          3.263475847291372e-06,
          3.1987707776643126e-06,
          3.134155510578029e-06,
          3.0696736783780304e-06,
          3.005368093583349e-06,
          2.9412806960054663e-06,
          2.877452502488683e-06,
          2.8139235593453073e-06,
          2.7507328975493902e-06,
          2.6879184907434146e-06
         ],
         "yaxis": "y"
        }
       ],
       "layout": {
        "barmode": "overlay",
        "hovermode": "closest",
        "legend": {
         "traceorder": "reversed"
        },
        "template": {
         "data": {
          "bar": [
           {
            "error_x": {
             "color": "#2a3f5f"
            },
            "error_y": {
             "color": "#2a3f5f"
            },
            "marker": {
             "line": {
              "color": "#E5ECF6",
              "width": 0.5
             },
             "pattern": {
              "fillmode": "overlay",
              "size": 10,
              "solidity": 0.2
             }
            },
            "type": "bar"
           }
          ],
          "barpolar": [
           {
            "marker": {
             "line": {
              "color": "#E5ECF6",
              "width": 0.5
             },
             "pattern": {
              "fillmode": "overlay",
              "size": 10,
              "solidity": 0.2
             }
            },
            "type": "barpolar"
           }
          ],
          "carpet": [
           {
            "aaxis": {
             "endlinecolor": "#2a3f5f",
             "gridcolor": "white",
             "linecolor": "white",
             "minorgridcolor": "white",
             "startlinecolor": "#2a3f5f"
            },
            "baxis": {
             "endlinecolor": "#2a3f5f",
             "gridcolor": "white",
             "linecolor": "white",
             "minorgridcolor": "white",
             "startlinecolor": "#2a3f5f"
            },
            "type": "carpet"
           }
          ],
          "choropleth": [
           {
            "colorbar": {
             "outlinewidth": 0,
             "ticks": ""
            },
            "type": "choropleth"
           }
          ],
          "contour": [
           {
            "colorbar": {
             "outlinewidth": 0,
             "ticks": ""
            },
            "colorscale": [
             [
              0,
              "#0d0887"
             ],
             [
              0.1111111111111111,
              "#46039f"
             ],
             [
              0.2222222222222222,
              "#7201a8"
             ],
             [
              0.3333333333333333,
              "#9c179e"
             ],
             [
              0.4444444444444444,
              "#bd3786"
             ],
             [
              0.5555555555555556,
              "#d8576b"
             ],
             [
              0.6666666666666666,
              "#ed7953"
             ],
             [
              0.7777777777777778,
              "#fb9f3a"
             ],
             [
              0.8888888888888888,
              "#fdca26"
             ],
             [
              1,
              "#f0f921"
             ]
            ],
            "type": "contour"
           }
          ],
          "contourcarpet": [
           {
            "colorbar": {
             "outlinewidth": 0,
             "ticks": ""
            },
            "type": "contourcarpet"
           }
          ],
          "heatmap": [
           {
            "colorbar": {
             "outlinewidth": 0,
             "ticks": ""
            },
            "colorscale": [
             [
              0,
              "#0d0887"
             ],
             [
              0.1111111111111111,
              "#46039f"
             ],
             [
              0.2222222222222222,
              "#7201a8"
             ],
             [
              0.3333333333333333,
              "#9c179e"
             ],
             [
              0.4444444444444444,
              "#bd3786"
             ],
             [
              0.5555555555555556,
              "#d8576b"
             ],
             [
              0.6666666666666666,
              "#ed7953"
             ],
             [
              0.7777777777777778,
              "#fb9f3a"
             ],
             [
              0.8888888888888888,
              "#fdca26"
             ],
             [
              1,
              "#f0f921"
             ]
            ],
            "type": "heatmap"
           }
          ],
          "heatmapgl": [
           {
            "colorbar": {
             "outlinewidth": 0,
             "ticks": ""
            },
            "colorscale": [
             [
              0,
              "#0d0887"
             ],
             [
              0.1111111111111111,
              "#46039f"
             ],
             [
              0.2222222222222222,
              "#7201a8"
             ],
             [
              0.3333333333333333,
              "#9c179e"
             ],
             [
              0.4444444444444444,
              "#bd3786"
             ],
             [
              0.5555555555555556,
              "#d8576b"
             ],
             [
              0.6666666666666666,
              "#ed7953"
             ],
             [
              0.7777777777777778,
              "#fb9f3a"
             ],
             [
              0.8888888888888888,
              "#fdca26"
             ],
             [
              1,
              "#f0f921"
             ]
            ],
            "type": "heatmapgl"
           }
          ],
          "histogram": [
           {
            "marker": {
             "pattern": {
              "fillmode": "overlay",
              "size": 10,
              "solidity": 0.2
             }
            },
            "type": "histogram"
           }
          ],
          "histogram2d": [
           {
            "colorbar": {
             "outlinewidth": 0,
             "ticks": ""
            },
            "colorscale": [
             [
              0,
              "#0d0887"
             ],
             [
              0.1111111111111111,
              "#46039f"
             ],
             [
              0.2222222222222222,
              "#7201a8"
             ],
             [
              0.3333333333333333,
              "#9c179e"
             ],
             [
              0.4444444444444444,
              "#bd3786"
             ],
             [
              0.5555555555555556,
              "#d8576b"
             ],
             [
              0.6666666666666666,
              "#ed7953"
             ],
             [
              0.7777777777777778,
              "#fb9f3a"
             ],
             [
              0.8888888888888888,
              "#fdca26"
             ],
             [
              1,
              "#f0f921"
             ]
            ],
            "type": "histogram2d"
           }
          ],
          "histogram2dcontour": [
           {
            "colorbar": {
             "outlinewidth": 0,
             "ticks": ""
            },
            "colorscale": [
             [
              0,
              "#0d0887"
             ],
             [
              0.1111111111111111,
              "#46039f"
             ],
             [
              0.2222222222222222,
              "#7201a8"
             ],
             [
              0.3333333333333333,
              "#9c179e"
             ],
             [
              0.4444444444444444,
              "#bd3786"
             ],
             [
              0.5555555555555556,
              "#d8576b"
             ],
             [
              0.6666666666666666,
              "#ed7953"
             ],
             [
              0.7777777777777778,
              "#fb9f3a"
             ],
             [
              0.8888888888888888,
              "#fdca26"
             ],
             [
              1,
              "#f0f921"
             ]
            ],
            "type": "histogram2dcontour"
           }
          ],
          "mesh3d": [
           {
            "colorbar": {
             "outlinewidth": 0,
             "ticks": ""
            },
            "type": "mesh3d"
           }
          ],
          "parcoords": [
           {
            "line": {
             "colorbar": {
              "outlinewidth": 0,
              "ticks": ""
             }
            },
            "type": "parcoords"
           }
          ],
          "pie": [
           {
            "automargin": true,
            "type": "pie"
           }
          ],
          "scatter": [
           {
            "fillpattern": {
             "fillmode": "overlay",
             "size": 10,
             "solidity": 0.2
            },
            "type": "scatter"
           }
          ],
          "scatter3d": [
           {
            "line": {
             "colorbar": {
              "outlinewidth": 0,
              "ticks": ""
             }
            },
            "marker": {
             "colorbar": {
              "outlinewidth": 0,
              "ticks": ""
             }
            },
            "type": "scatter3d"
           }
          ],
          "scattercarpet": [
           {
            "marker": {
             "colorbar": {
              "outlinewidth": 0,
              "ticks": ""
             }
            },
            "type": "scattercarpet"
           }
          ],
          "scattergeo": [
           {
            "marker": {
             "colorbar": {
              "outlinewidth": 0,
              "ticks": ""
             }
            },
            "type": "scattergeo"
           }
          ],
          "scattergl": [
           {
            "marker": {
             "colorbar": {
              "outlinewidth": 0,
              "ticks": ""
             }
            },
            "type": "scattergl"
           }
          ],
          "scattermapbox": [
           {
            "marker": {
             "colorbar": {
              "outlinewidth": 0,
              "ticks": ""
             }
            },
            "type": "scattermapbox"
           }
          ],
          "scatterpolar": [
           {
            "marker": {
             "colorbar": {
              "outlinewidth": 0,
              "ticks": ""
             }
            },
            "type": "scatterpolar"
           }
          ],
          "scatterpolargl": [
           {
            "marker": {
             "colorbar": {
              "outlinewidth": 0,
              "ticks": ""
             }
            },
            "type": "scatterpolargl"
           }
          ],
          "scatterternary": [
           {
            "marker": {
             "colorbar": {
              "outlinewidth": 0,
              "ticks": ""
             }
            },
            "type": "scatterternary"
           }
          ],
          "surface": [
           {
            "colorbar": {
             "outlinewidth": 0,
             "ticks": ""
            },
            "colorscale": [
             [
              0,
              "#0d0887"
             ],
             [
              0.1111111111111111,
              "#46039f"
             ],
             [
              0.2222222222222222,
              "#7201a8"
             ],
             [
              0.3333333333333333,
              "#9c179e"
             ],
             [
              0.4444444444444444,
              "#bd3786"
             ],
             [
              0.5555555555555556,
              "#d8576b"
             ],
             [
              0.6666666666666666,
              "#ed7953"
             ],
             [
              0.7777777777777778,
              "#fb9f3a"
             ],
             [
              0.8888888888888888,
              "#fdca26"
             ],
             [
              1,
              "#f0f921"
             ]
            ],
            "type": "surface"
           }
          ],
          "table": [
           {
            "cells": {
             "fill": {
              "color": "#EBF0F8"
             },
             "line": {
              "color": "white"
             }
            },
            "header": {
             "fill": {
              "color": "#C8D4E3"
             },
             "line": {
              "color": "white"
             }
            },
            "type": "table"
           }
          ]
         },
         "layout": {
          "annotationdefaults": {
           "arrowcolor": "#2a3f5f",
           "arrowhead": 0,
           "arrowwidth": 1
          },
          "autotypenumbers": "strict",
          "coloraxis": {
           "colorbar": {
            "outlinewidth": 0,
            "ticks": ""
           }
          },
          "colorscale": {
           "diverging": [
            [
             0,
             "#8e0152"
            ],
            [
             0.1,
             "#c51b7d"
            ],
            [
             0.2,
             "#de77ae"
            ],
            [
             0.3,
             "#f1b6da"
            ],
            [
             0.4,
             "#fde0ef"
            ],
            [
             0.5,
             "#f7f7f7"
            ],
            [
             0.6,
             "#e6f5d0"
            ],
            [
             0.7,
             "#b8e186"
            ],
            [
             0.8,
             "#7fbc41"
            ],
            [
             0.9,
             "#4d9221"
            ],
            [
             1,
             "#276419"
            ]
           ],
           "sequential": [
            [
             0,
             "#0d0887"
            ],
            [
             0.1111111111111111,
             "#46039f"
            ],
            [
             0.2222222222222222,
             "#7201a8"
            ],
            [
             0.3333333333333333,
             "#9c179e"
            ],
            [
             0.4444444444444444,
             "#bd3786"
            ],
            [
             0.5555555555555556,
             "#d8576b"
            ],
            [
             0.6666666666666666,
             "#ed7953"
            ],
            [
             0.7777777777777778,
             "#fb9f3a"
            ],
            [
             0.8888888888888888,
             "#fdca26"
            ],
            [
             1,
             "#f0f921"
            ]
           ],
           "sequentialminus": [
            [
             0,
             "#0d0887"
            ],
            [
             0.1111111111111111,
             "#46039f"
            ],
            [
             0.2222222222222222,
             "#7201a8"
            ],
            [
             0.3333333333333333,
             "#9c179e"
            ],
            [
             0.4444444444444444,
             "#bd3786"
            ],
            [
             0.5555555555555556,
             "#d8576b"
            ],
            [
             0.6666666666666666,
             "#ed7953"
            ],
            [
             0.7777777777777778,
             "#fb9f3a"
            ],
            [
             0.8888888888888888,
             "#fdca26"
            ],
            [
             1,
             "#f0f921"
            ]
           ]
          },
          "colorway": [
           "#636efa",
           "#EF553B",
           "#00cc96",
           "#ab63fa",
           "#FFA15A",
           "#19d3f3",
           "#FF6692",
           "#B6E880",
           "#FF97FF",
           "#FECB52"
          ],
          "font": {
           "color": "#2a3f5f"
          },
          "geo": {
           "bgcolor": "white",
           "lakecolor": "white",
           "landcolor": "#E5ECF6",
           "showlakes": true,
           "showland": true,
           "subunitcolor": "white"
          },
          "hoverlabel": {
           "align": "left"
          },
          "hovermode": "closest",
          "mapbox": {
           "style": "light"
          },
          "paper_bgcolor": "white",
          "plot_bgcolor": "#E5ECF6",
          "polar": {
           "angularaxis": {
            "gridcolor": "white",
            "linecolor": "white",
            "ticks": ""
           },
           "bgcolor": "#E5ECF6",
           "radialaxis": {
            "gridcolor": "white",
            "linecolor": "white",
            "ticks": ""
           }
          },
          "scene": {
           "xaxis": {
            "backgroundcolor": "#E5ECF6",
            "gridcolor": "white",
            "gridwidth": 2,
            "linecolor": "white",
            "showbackground": true,
            "ticks": "",
            "zerolinecolor": "white"
           },
           "yaxis": {
            "backgroundcolor": "#E5ECF6",
            "gridcolor": "white",
            "gridwidth": 2,
            "linecolor": "white",
            "showbackground": true,
            "ticks": "",
            "zerolinecolor": "white"
           },
           "zaxis": {
            "backgroundcolor": "#E5ECF6",
            "gridcolor": "white",
            "gridwidth": 2,
            "linecolor": "white",
            "showbackground": true,
            "ticks": "",
            "zerolinecolor": "white"
           }
          },
          "shapedefaults": {
           "line": {
            "color": "#2a3f5f"
           }
          },
          "ternary": {
           "aaxis": {
            "gridcolor": "white",
            "linecolor": "white",
            "ticks": ""
           },
           "baxis": {
            "gridcolor": "white",
            "linecolor": "white",
            "ticks": ""
           },
           "bgcolor": "#E5ECF6",
           "caxis": {
            "gridcolor": "white",
            "linecolor": "white",
            "ticks": ""
           }
          },
          "title": {
           "x": 0.05
          },
          "xaxis": {
           "automargin": true,
           "gridcolor": "white",
           "linecolor": "white",
           "ticks": "",
           "title": {
            "standoff": 15
           },
           "zerolinecolor": "white",
           "zerolinewidth": 2
          },
          "yaxis": {
           "automargin": true,
           "gridcolor": "white",
           "linecolor": "white",
           "ticks": "",
           "title": {
            "standoff": 15
           },
           "zerolinecolor": "white",
           "zerolinewidth": 2
          }
         }
        },
        "title": {
         "text": "Credit Card Transactions Time Density Plot"
        },
        "xaxis": {
         "anchor": "y2",
         "domain": [
          0,
          1
         ],
         "title": {
          "text": "Time [s]"
         },
         "zeroline": false
        },
        "yaxis": {
         "anchor": "free",
         "domain": [
          0,
          1
         ],
         "position": 0
        }
       }
      },
      "text/html": [
       "<div>                            <div id=\"fcaa2c2a-eb63-460d-abcc-612a818609d0\" class=\"plotly-graph-div\" style=\"height:525px; width:100%;\"></div>            <script type=\"text/javascript\">                require([\"plotly\"], function(Plotly) {                    window.PLOTLYENV=window.PLOTLYENV || {};                                    if (document.getElementById(\"fcaa2c2a-eb63-460d-abcc-612a818609d0\")) {                    Plotly.newPlot(                        \"fcaa2c2a-eb63-460d-abcc-612a818609d0\",                        [{\"legendgroup\":\"Not Fraud\",\"marker\":{\"color\":\"rgb(31, 119, 180)\"},\"mode\":\"lines\",\"name\":\"Not Fraud\",\"showlegend\":true,\"x\":[0.0,345.584,691.168,1036.752,1382.336,1727.92,2073.504,2419.088,2764.672,3110.256,3455.84,3801.424,4147.008,4492.592,4838.176,5183.76,5529.344,5874.928,6220.512,6566.096,6911.68,7257.264,7602.848,7948.432,8294.016,8639.6,8985.184,9330.768,9676.352,10021.936,10367.52,10713.104,11058.688,11404.272,11749.856,12095.44,12441.024,12786.608,13132.192,13477.776,13823.36,14168.944,14514.528,14860.112,15205.696,15551.28,15896.864,16242.448,16588.032,16933.616,17279.2,17624.784,17970.368,18315.952,18661.536,19007.12,19352.704,19698.288,20043.872,20389.456,20735.04,21080.624,21426.208,21771.792,22117.376,22462.96,22808.544,23154.128,23499.712,23845.296,24190.88,24536.464,24882.048,25227.632,25573.216,25918.8,26264.384,26609.968,26955.552,27301.136,27646.72,27992.304,28337.888,28683.472,29029.056,29374.64,29720.224,30065.808,30411.392,30756.976,31102.56,31448.144,31793.728,32139.312,32484.896,32830.48,33176.064,33521.648,33867.232,34212.816,34558.4,34903.984,35249.568,35595.152,35940.736,36286.32,36631.904,36977.488,37323.072,37668.656,38014.24,38359.824,38705.408,39050.992,39396.576,39742.16,40087.744,40433.328,40778.912,41124.496,41470.08,41815.664,42161.248,42506.832,42852.416,43198.0,43543.584,43889.168,44234.752,44580.336,44925.92,45271.504,45617.088,45962.672,46308.256,46653.84,46999.424,47345.008,47690.592,48036.176,48381.76,48727.344,49072.928,49418.512,49764.096,50109.68,50455.264,50800.848,51146.432,51492.016,51837.6,52183.184,52528.768,52874.352,53219.936,53565.52,53911.104,54256.688,54602.272,54947.856,55293.44,55639.024,55984.608,56330.192,56675.776,57021.36,57366.944,57712.528,58058.112,58403.696,58749.28,59094.864,59440.448,59786.032,60131.616,60477.2,60822.784,61168.368,61513.952,61859.536,62205.12,62550.704,62896.288,63241.872,63587.456,63933.04,64278.624,64624.208,64969.792,65315.376,65660.96,66006.544,66352.128,66697.712,67043.296,67388.88,67734.464,68080.048,68425.632,68771.216,69116.8,69462.384,69807.968,70153.552,70499.136,70844.72,71190.304,71535.888,71881.472,72227.056,72572.64,72918.224,73263.808,73609.392,73954.976,74300.56,74646.144,74991.728,75337.312,75682.896,76028.48,76374.064,76719.648,77065.232,77410.816,77756.4,78101.984,78447.568,78793.152,79138.736,79484.32,79829.904,80175.488,80521.072,80866.656,81212.24,81557.824,81903.408,82248.992,82594.576,82940.16,83285.744,83631.328,83976.912,84322.496,84668.08,85013.664,85359.248,85704.832,86050.416,86396.0,86741.584,87087.168,87432.752,87778.336,88123.92,88469.504,88815.088,89160.672,89506.256,89851.84,90197.424,90543.008,90888.592,91234.176,91579.76,91925.344,92270.928,92616.512,92962.096,93307.68,93653.264,93998.848,94344.432,94690.016,95035.6,95381.184,95726.768,96072.352,96417.936,96763.52,97109.104,97454.688,97800.272,98145.856,98491.44,98837.024,99182.608,99528.192,99873.776,100219.36,100564.944,100910.528,101256.112,101601.696,101947.28,102292.864,102638.448,102984.032,103329.616,103675.2,104020.784,104366.368,104711.952,105057.536,105403.12,105748.704,106094.288,106439.872,106785.456,107131.04,107476.624,107822.208,108167.792,108513.376,108858.96,109204.544,109550.128,109895.712,110241.296,110586.88,110932.464,111278.048,111623.632,111969.216,112314.8,112660.384,113005.968,113351.552,113697.136,114042.72,114388.304,114733.888,115079.472,115425.056,115770.64,116116.224,116461.808,116807.392,117152.976,117498.56,117844.144,118189.728,118535.312,118880.896,119226.48,119572.064,119917.648,120263.232,120608.816,120954.4,121299.984,121645.568,121991.152,122336.736,122682.32,123027.904,123373.488,123719.072,124064.656,124410.24,124755.824,125101.408,125446.992,125792.576,126138.16,126483.744,126829.328,127174.912,127520.496,127866.08,128211.664,128557.248,128902.832,129248.416,129594.0,129939.584,130285.168,130630.752,130976.336,131321.92,131667.504,132013.088,132358.672,132704.256,133049.84,133395.424,133741.008,134086.592,134432.176,134777.76,135123.344,135468.928,135814.512,136160.096,136505.68,136851.264,137196.848,137542.432,137888.016,138233.6,138579.184,138924.768,139270.352,139615.936,139961.52,140307.104,140652.688,140998.272,141343.856,141689.44,142035.024,142380.608,142726.192,143071.776,143417.36,143762.944,144108.528,144454.112,144799.696,145145.28,145490.864,145836.448,146182.032,146527.616,146873.2,147218.784,147564.368,147909.952,148255.536,148601.12,148946.704,149292.288,149637.872,149983.456,150329.04,150674.624,151020.208,151365.792,151711.376,152056.96,152402.544,152748.128,153093.712,153439.296,153784.88,154130.464,154476.048,154821.632,155167.216,155512.8,155858.384,156203.968,156549.552,156895.136,157240.72,157586.304,157931.888,158277.472,158623.056,158968.64,159314.224,159659.808,160005.392,160350.976,160696.56,161042.144,161387.728,161733.312,162078.896,162424.48,162770.064,163115.648,163461.232,163806.816,164152.4,164497.984,164843.568,165189.152,165534.736,165880.32,166225.904,166571.488,166917.072,167262.656,167608.24,167953.824,168299.408,168644.992,168990.576,169336.16,169681.744,170027.328,170372.912,170718.496,171064.08,171409.664,171755.248,172100.832,172446.416],\"xaxis\":\"x\",\"y\":[1.697347456086226e-06,1.7892406860838056e-06,1.8751066622895047e-06,1.9539240211315817e-06,2.0248147874841933e-06,2.0870700001728196e-06,2.1401693523158404e-06,2.1837939471416954e-06,2.2178316034665912e-06,2.242374511761339e-06,2.2577094196194055e-06,2.2643008918188014e-06,2.2627685234050986e-06,2.2538592651662705e-06,2.2384162340774593e-06,2.217345515980265e-06,2.1915825183281395e-06,2.162059397021127e-06,2.1296749680386738e-06,2.095268331193404e-06,2.05959719303171e-06,2.023321594571911e-06,1.9869934446533323e-06,1.9510519490665072e-06,1.9158247265701045e-06,1.8815341310018962e-06,1.8483080671292573e-06,1.8161944068400577e-06,1.785177988507893e-06,1.7551991191213409e-06,1.7261724957825178e-06,1.6980055169883936e-06,1.6706150584078137e-06,1.6439419340972001e-06,1.6179624420037476e-06,1.5926965909610441e-06,1.5682128135695855e-06,1.544629174058958e-06,1.5221112719306263e-06,1.5008672116659285e-06,1.481140148483666e-06,1.46319902439773e-06,1.447328174052436e-06,1.433816504534355e-06,1.422946938147587e-06,1.4149867545429196e-06,1.410179382909212e-06,1.408738081981337e-06,1.4108418124353673e-06,1.416633460726771e-06,1.4262204239961602e-06,1.4396774207779606e-06,1.4570512600447994e-06,1.478367188917408e-06,1.5036363533035317e-06,1.532863850340599e-06,1.566056829463784e-06,1.6032321108015968e-06,1.6444228338374854e-06,1.6896837222361368e-06,1.739094646910136e-06,1.7927622818094237e-06,1.8508197675565135e-06,1.913424418521531e-06,1.980753621024302e-06,2.052999166716722e-06,2.130360339872763e-06,2.213036126211028e-06,2.3012169320790766e-06,2.395076196709398e-06,2.4947622494234817e-06,2.6003907126324243e-06,2.712037686308532e-06,2.8297338772311614e-06,2.9534597639182697e-06,3.083141822512351e-06,3.2186497856324444e-06,3.359794869388642e-06,3.5063288854050637e-06,3.657944154693155e-06,3.8142741563072327e-06,3.97489487181751e-06,4.139326821281706e-06,4.307037821357342e-06,4.477446525210012e-06,4.649926821293155e-06,4.823813169618387e-06,4.998406937320513e-06,5.172983759820729e-06,5.346801901645483e-06,5.5191115259867515e-06,5.689164710128658e-06,5.856225971804274e-06,6.019583006720395e-06,6.178557286896822e-06,6.33251413909087e-06,6.480871916741137e-06,6.623109899729855e-06,6.758774603685426e-06,6.8874842519837105e-06,7.008931254393314e-06,7.122882640061902e-06,7.229178501787336e-06,7.327728615221862e-06,7.418507493160355e-06,7.501548214399436e-06,7.576935423367104e-06,7.64479792710563e-06,7.705301318490012e-06,7.758641029150601e-06,7.805036164694744e-06,7.844724402420202e-06,7.877958143023881e-06,7.905002009088228e-06,7.926131680880564e-06,7.94163396095993e-06,7.951807869479588e-06,7.95696649738327e-06,7.957439289376487e-06,7.95357439583249e-06,7.945740724359432e-06,7.93432933796e-06,7.919753886306895e-06,7.90244981707093e-06,7.88287219158645e-06,7.861492018651871e-06,7.83879111631714e-06,7.815255608175426e-06,7.791368252068972e-06,7.767599879605554e-06,7.744400289671187e-06,7.722188984437173e-06,7.701346159669049e-06,7.682204361436706e-06,7.665041198951465e-06,7.65007346006783e-06,7.637452914970817e-06,7.627264018689671e-06,7.619523638961723e-06,7.61418284739335e-06,7.611130723686314e-06,7.610200039221739e-06,7.611174611300591e-06,7.613798055773268e-06,7.617783615693654e-06,7.6228247082879535e-06,7.62860581233097e-06,7.634813312831111e-06,7.641145929061619e-06,7.647324374415867e-06,7.65309993110634e-06,7.658261667941963e-06,7.662642083793558e-06,7.666121021265789e-06,7.668627762522012e-06,7.670141290160318e-06,7.670688767914203e-06,7.670342366006724e-06,7.669214621200134e-06,7.667452578692807e-06,7.665231008939398e-06,7.662745024280962e-06,7.660202435730384e-06,7.657816187892279e-06,7.655797189368887e-06,7.654347818073842e-06,7.65365632767946e-06,7.653892316465032e-06,7.655203347519245e-06,7.657712734803747e-06,7.66151843861622e-06,7.666692951868367e-06,7.673284010222378e-06,7.681315928223042e-06,7.690791352390222e-06,7.701693231398637e-06,7.713986831543372e-06,7.727621669694344e-06,7.742533291007228e-06,7.758644879036125e-06,7.775868744871467e-06,7.794107793011539e-06,7.813257098720034e-06,7.833205749804441e-06,7.853839101993095e-06,7.875041570289478e-06,7.896700030201666e-06,7.91870783609131e-06,7.940969384640015e-06,7.963405066766165e-06,7.98595636928918e-06,8.008590816494447e-06,8.031306389214006e-06,8.054135031363684e-06,8.077144855419422e-06,8.100440690962875e-06,8.12416268335992e-06,8.148482739462418e-06,8.173598728157823e-06,8.199726468138793e-06,8.227089664610314e-06,8.255908081986769e-06,8.28638435222761e-06,8.318689911131436e-06,8.352950622010562e-06,8.389232684289143e-06,8.427529432517221e-06,8.467749609997747e-06,8.5097076534679e-06,8.553116455128343e-06,8.59758298070585e-06,8.642607022227291e-06,8.687583256706541e-06,8.731806671225067e-06,8.774481304367468e-06,8.814732146393526e-06,8.851619937765269e-06,8.884158509418363e-06,8.911334219899884e-06,8.932126965959673e-06,8.945532176540064e-06,8.95058314809604e-06,8.946373044910814e-06,8.932075875017873e-06,8.906965763680835e-06,8.870433884729148e-06,8.822002476833969e-06,8.761335466860958e-06,8.688245343573295e-06,8.602696067955016e-06,8.504801964908307e-06,8.394822707027359e-06,8.273154665238242e-06,8.140319053533444e-06,7.996947426325067e-06,7.843765188647893e-06,7.681573845069685e-06,7.511232738581267e-06,7.33364101471729e-06,7.149720490327954e-06,6.960400015284128e-06,6.76660179574194e-06,6.5692300080250655e-06,6.369161882344767e-06,6.167241285296679e-06,5.964274688715284e-06,5.7610292881530164e-06,5.558232933420785e-06,5.3565754606671604e-06,5.156710972657441e-06,4.959260601368877e-06,4.764815303057657e-06,4.5739382773489956e-06,4.3871666642909316e-06,4.205012251683968e-06,4.027961014003517e-06,3.856471398599545e-06,3.6909713696184227e-06,3.5318543107640014e-06,3.3794739707040134e-06,3.2341387063642493e-06,3.09610533689418e-06,2.965572962654928e-06,2.842677127687104e-06,2.727484709805115e-06,2.619989909357818e-06,2.520111676015091e-06,2.427692863569815e-06,2.342501337296398e-06,2.264233179246592e-06,2.192518047148749e-06,2.1269266461765223e-06,2.0669801742745345e-06,2.012161505894253e-06,1.9619277910244224e-06,1.9157240712834857e-06,1.8729974570884043e-06,1.8332113732540546e-06,1.7958593673801985e-06,1.7604779872841177e-06,1.7266582702356212e-06,1.694055445992837e-06,1.6623965343016347e-06,1.6314856110536923e-06,1.6012066201757071e-06,1.5715237145407142e-06,1.5424792126083194e-06,1.5141893523611344e-06,1.4868381053923456e-06,1.4606693777951228e-06,1.4359779681991328e-06,1.4130996757281782e-06,1.3924009520549702e-06,1.3742684736943764e-06,1.3590989758662608e-06,1.3472896412160876e-06,1.3392292794638088e-06,1.3352904719533155e-06,1.335822792319559e-06,1.341147154951964e-06,1.3515512899463576e-06,1.36728629939042e-06,1.3885642169032805e-06,1.4155564712147415e-06,1.4483931452166274e-06,1.4871629234741587e-06,1.531913632014335e-06,1.5826532920302118e-06,1.6393516311859596e-06,1.7019420194297466e-06,1.770323817488097e-06,1.8443651425656395e-06,1.9239060646457227e-06,2.0087622462564445e-06,2.098729027519551e-06,2.1935859366460467e-06,2.2931015747103575e-06,2.3970387845923e-06,2.5051599704428945e-06,2.6172323897750845e-06,2.7330331997486774e-06,2.8523540070366512e-06,2.9750046513343243e-06,3.1008159500099968e-06,3.229641148489611e-06,3.361355859316422e-06,3.49585633235638e-06,3.6330559775247643e-06,3.77288015605973e-06,3.915259361504394e-06,4.0601210205601614e-06,4.20738024928744e-06,4.356929993860334e-06,4.508631059529288e-06,4.662302579861018e-06,4.817713495387055e-06,4.97457559321582e-06,5.132538606064657e-06,5.291187782149383e-06,5.4500442207274745e-06,5.608568128319679e-06,5.7661649962831695e-06,5.922194541198147e-06,6.075982095987878e-06,6.226832001933775e-06,6.374042439169836e-06,6.516921053370932e-06,6.6548006945818544e-06,6.787054583109831e-06,6.913110256888775e-06,7.032461731690977e-06,7.144679414247741e-06,7.249417441023877e-06,7.3464182626032205e-06,7.435514445358026e-06,7.516627808025062e-06,7.589766141684623e-06,7.655017869381519e-06,7.712545080304945e-06,7.76257541936528e-06,7.805393325111688e-06,7.841331088565962e-06,7.870760156336691e-06,7.894083028920017e-06,7.911726016105932e-06,7.924133013618895e-06,7.931760366075156e-06,7.935072788425494e-06,7.934540237282671e-06,7.930635559896009e-06,7.923832705051017e-06,7.914605258270494e-06,7.903425063041482e-06,7.890760708466107e-06,7.877075698645939e-06,7.862826166202862e-06,7.848458047158569e-06,7.834403692290484e-06,7.821077946804908e-06,7.808873781945643e-06,7.798157606035696e-06,7.789264416363833e-06,7.782492976151726e-06,7.77810121225941e-06,7.776302029754061e-06,7.777259729962855e-06,7.781087200522531e-06,7.787844020759934e-06,7.797535595084253e-06,7.810113392411539e-06,7.825476332418608e-06,7.843473320742812e-06,7.86390689633336e-06,7.88653791592843e-06,7.911091164212854e-06,7.93726174456668e-06,7.964722075703524e-06,7.993129295076801e-06,8.022132851958381e-06,8.051382062851659e-06,8.080533400309721e-06,8.10925729415988e-06,8.137244241794065e-06,8.164210051465264e-06,8.189900078482423e-06,8.214092357438593e-06,8.236599582026864e-06,8.257269934935509e-06,8.275986820935606e-06,8.292667603341434e-06,8.307261484600059e-06,8.319746703096486e-06,8.330127238270177e-06,8.338429223485027e-06,8.344697260356942e-06,8.348990810121105e-06,8.351380808722834e-06,8.351946615214956e-06,8.350773361117179e-06,8.347949725304532e-06,8.343566118802322e-06,8.337713230093595e-06,8.330480857437749e-06,8.321956942328969e-06,8.312226718654158e-06,8.301371904984082e-06,8.28946989113086e-06,8.276592901670643e-06,8.262807154751018e-06,8.24817206964307e-06,8.232739606528501e-06,8.216553842656714e-06,8.199650896786162e-06,8.18205930653018e-06,8.163800940243854e-06,8.14489248744238e-06,8.125347522248057e-06,8.10517907716839e-06,8.084402605008577e-06,8.063039150737193e-06,8.041118508591435e-06,8.018682107831933e-06,7.995785357477929e-06,7.972499188554663e-06,7.948910562417719e-06,7.92512176427102e-06,7.90124836881024e-06,7.877415845168722e-06,7.853754855151372e-06,7.830395385603204e-06,7.807459936140123e-06,7.785056051576906e-06,7.76326853923214e-06,7.742151741544881e-06,7.721722242233108e-06,7.701952369437012e-06,7.682764823383586e-06,7.664028701862044e-06,7.645557128088684e-06,7.627106606879589e-06,7.608378151350866e-06,7.589020138440517e-06,7.5686327720261705e-06,7.546773961324201e-06,7.522966363070486e-06,7.4967052913752334e-06,7.467467171099337e-06,7.434718200257147e-06,7.397922894775452e-06,7.356552214556368e-06,7.31009101210078e-06,7.258044602058914e-06,7.199944319248215e-06,7.135352010448104e-06,7.063863487342652e-06,6.985111049446798e-06,6.898765261309e-06,6.804536232139017e-06,6.702174692783636e-06,6.591473189773025e-06,6.4722677150522574e-06,6.3444400605795025e-06,6.207921128630467e-06,6.062695343022793e-06,5.908806197528005e-06,5.746362851759736e-06,5.5755475501749955e-06,5.396623506475834e-06,5.209942774562255e-06,5.015953529263215e-06,4.815206115540978e-06,4.608357202072425e-06,4.396171399757077e-06,4.17951978005933e-06,3.959374850598455e-06,3.736801710492047e-06,3.512945306302105e-06,3.2890139285170335e-06,3.066259313514767e-06,2.84595393096583e-06],\"yaxis\":\"y\",\"type\":\"scatter\"},{\"legendgroup\":\"Fraud\",\"marker\":{\"color\":\"rgb(255, 127, 14)\"},\"mode\":\"lines\",\"name\":\"Fraud\",\"showlegend\":true,\"x\":[406.0,745.884,1085.768,1425.652,1765.536,2105.42,2445.304,2785.188,3125.072,3464.956,3804.84,4144.724,4484.608,4824.492,5164.376,5504.26,5844.144,6184.028,6523.912,6863.796,7203.68,7543.564,7883.448,8223.332,8563.216,8903.1,9242.984,9582.868,9922.752,10262.636,10602.52,10942.404,11282.288,11622.172,11962.056,12301.94,12641.824,12981.708,13321.592,13661.476,14001.36,14341.244,14681.128,15021.012,15360.896,15700.78,16040.664,16380.548,16720.432,17060.316,17400.2,17740.084,18079.968,18419.852,18759.736,19099.62,19439.504,19779.388,20119.272,20459.156,20799.04,21138.924,21478.808,21818.692,22158.576,22498.46,22838.344,23178.228,23518.112,23857.996,24197.88,24537.764,24877.648,25217.532,25557.416,25897.3,26237.184,26577.068,26916.952,27256.836,27596.72,27936.604,28276.488,28616.372,28956.256,29296.14,29636.024,29975.908,30315.792,30655.676,30995.56,31335.444,31675.328,32015.212,32355.096,32694.98,33034.864,33374.748,33714.632,34054.516,34394.4,34734.284,35074.168,35414.052,35753.936,36093.82,36433.704,36773.588,37113.472,37453.356,37793.24,38133.124,38473.008,38812.892,39152.776,39492.66,39832.544,40172.428,40512.312,40852.196,41192.08,41531.964,41871.848,42211.732,42551.616,42891.5,43231.384,43571.268,43911.152,44251.036,44590.92,44930.804,45270.688,45610.572,45950.456,46290.34,46630.224,46970.108,47309.992,47649.876,47989.76,48329.644,48669.528,49009.412,49349.296,49689.18,50029.064,50368.948,50708.832,51048.716,51388.6,51728.484,52068.368,52408.252,52748.136,53088.02,53427.904,53767.788,54107.672,54447.556,54787.44,55127.324,55467.208,55807.092,56146.976,56486.86,56826.744,57166.628,57506.512,57846.396,58186.28,58526.164,58866.048,59205.932,59545.816,59885.7,60225.584,60565.468,60905.352,61245.236,61585.12,61925.004,62264.888,62604.772,62944.656,63284.54,63624.424,63964.308,64304.192,64644.076,64983.96,65323.844,65663.728,66003.612,66343.496,66683.38,67023.264,67363.148,67703.032,68042.916,68382.8,68722.684,69062.568,69402.452,69742.336,70082.22,70422.104,70761.988,71101.872,71441.756,71781.64,72121.524,72461.408,72801.292,73141.176,73481.06,73820.944,74160.828,74500.712,74840.596,75180.48,75520.364,75860.248,76200.132,76540.016,76879.9,77219.784,77559.668,77899.552,78239.436,78579.32,78919.204,79259.088,79598.972,79938.856,80278.74,80618.624,80958.508,81298.392,81638.276,81978.16,82318.044,82657.928,82997.812,83337.696,83677.58,84017.464,84357.348,84697.232,85037.116,85377.0,85716.884,86056.768,86396.652,86736.536,87076.42,87416.304,87756.188,88096.072,88435.956,88775.84,89115.724,89455.608,89795.492,90135.376,90475.26,90815.144,91155.028,91494.912,91834.796,92174.68,92514.564,92854.448,93194.332,93534.216,93874.1,94213.984,94553.868,94893.752,95233.636,95573.52,95913.404,96253.288,96593.172,96933.056,97272.94,97612.824,97952.708,98292.592,98632.476,98972.36,99312.244,99652.128,99992.012,100331.896,100671.78,101011.664,101351.548,101691.432,102031.316,102371.2,102711.084,103050.968,103390.852,103730.736,104070.62,104410.504,104750.388,105090.272,105430.156,105770.04,106109.924,106449.808,106789.692,107129.576,107469.46,107809.344,108149.228,108489.112,108828.996,109168.88,109508.764,109848.648,110188.532,110528.416,110868.3,111208.184,111548.068,111887.952,112227.836,112567.72,112907.604,113247.488,113587.372,113927.256,114267.14,114607.024,114946.908,115286.792,115626.676,115966.56,116306.444,116646.328,116986.212,117326.096,117665.98,118005.864,118345.748,118685.632,119025.516,119365.4,119705.284,120045.168,120385.052,120724.936,121064.82,121404.704,121744.588,122084.472,122424.356,122764.24,123104.124,123444.008,123783.892,124123.776,124463.66,124803.544,125143.428,125483.312,125823.196,126163.08,126502.964,126842.848,127182.732,127522.616,127862.5,128202.384,128542.268,128882.152,129222.036,129561.92,129901.804,130241.688,130581.572,130921.456,131261.34,131601.224,131941.108,132280.992,132620.876,132960.76,133300.644,133640.528,133980.412,134320.296,134660.18,135000.064,135339.948,135679.832,136019.716,136359.6,136699.484,137039.368,137379.252,137719.136,138059.02,138398.904,138738.788,139078.672,139418.556,139758.44,140098.324,140438.208,140778.092,141117.976,141457.86,141797.744,142137.628,142477.512,142817.396,143157.28,143497.164,143837.048,144176.932,144516.816,144856.7,145196.584,145536.468,145876.352,146216.236,146556.12,146896.004,147235.888,147575.772,147915.656,148255.54,148595.424,148935.308,149275.192,149615.076,149954.96,150294.844,150634.728,150974.612,151314.496,151654.38,151994.264,152334.148,152674.032,153013.916,153353.8,153693.684,154033.568,154373.452,154713.336,155053.22,155393.104,155732.988,156072.872,156412.756,156752.64,157092.524,157432.408,157772.292,158112.176,158452.06,158791.944,159131.828,159471.712,159811.596,160151.48,160491.364,160831.248,161171.132,161511.016,161850.9,162190.784,162530.668,162870.552,163210.436,163550.32,163890.204,164230.088,164569.972,164909.856,165249.74,165589.624,165929.508,166269.392,166609.276,166949.16,167289.044,167628.928,167968.812,168308.696,168648.58,168988.464,169328.348,169668.232,170008.116],\"xaxis\":\"x\",\"y\":[2.5725270199184186e-06,2.6310058058129383e-06,2.6897686304363113e-06,2.748786647363209e-06,2.8080309928186178e-06,2.8674728524427232e-06,2.927083527927629e-06,2.9868345032672523e-06,3.046697510360476e-06,3.106644593707739e-06,3.1666481739421243e-06,3.2266811099387665e-06,3.286716759249754e-06,3.3467290366169334e-06,3.4066924703207853e-06,3.4665822561312503e-06,3.5263743086346612e-06,3.586045309720728e-06,3.6455727540243725e-06,3.704934991128807e-06,3.764111264349627e-06,3.823081745932931e-06,3.8818275685156236e-06,3.940330852711665e-06,3.998574730703817e-06,4.056543365738184e-06,4.114221967435875e-06,4.171596802854251e-06,4.22865520324932e-06,4.2853855665086814e-06,4.341777355244726e-06,4.397821090555965e-06,4.4535083414842744e-06,4.508831710215101e-06,4.5637848130863e-06,4.618362257490829e-06,4.672559614776593e-06,4.726373389264856e-06,4.7798009835267726e-06,4.832840660073918e-06,4.8854914996356455e-06,4.937753356211278e-06,4.989626809100186e-06,5.04111311212635e-06,5.0922141402872045e-06,5.142932334068026e-06,5.193270641674184e-06,5.2432324594427434e-06,5.2928215707039586e-06,5.342042083369238e-06,5.390898366529312e-06,5.439394986349832e-06,5.487536641555415e-06,5.5353280987949695e-06,5.582774128181599e-06,5.629879439299518e-06,5.676648617968544e-06,5.723086064053026e-06,5.769195930597303e-06,5.814982064563845e-06,5.860447949442463e-06,5.905596649991412e-06,5.950430759359787e-06,5.994952348831379e-06,6.039162920417333e-06,6.0830633625115504e-06,6.126653908809836e-06,6.169934100677941e-06,6.212902753138355e-06,6.255557924628917e-06,6.297896890669671e-06,6.339916121555685e-06,6.381611264176304e-06,6.422977128041518e-06,6.464007675577935e-06,6.504696016736771e-06,6.545034407937351e-06,6.585014255349519e-06,6.6246261224990165e-06,6.663859742160641e-06,6.702704032484233e-06,6.741147117280074e-06,6.779176350371278e-06,6.8167783439031485e-06,6.8539390004813194e-06,6.890643548994117e-06,6.9268765839581094e-06,6.962622108210547e-06,6.997863578757841e-06,7.032583955575587e-06,7.066765753143314e-06,7.100391094485442e-06,7.13344176747952e-06,7.165899283183912e-06,7.197744935928862e-06,7.228959864908295e-06,7.2595251170041e-06,7.2894217105707835e-06,7.318630699905537e-06,7.347133240126908e-06,7.374910652185972e-06,7.401944487734288e-06,7.428216593576158e-06,7.453709175436182e-06,7.478404860778611e-06,7.502286760421194e-06,7.525338528694e-06,7.547544421902765e-06,7.568889354865974e-06,7.589358955305963e-06,7.6089396158869455e-06,7.6276185437049614e-06,7.645383807049724e-06,7.662224379271765e-06,7.678130179605082e-06,7.693092110809923e-06,7.707102093518343e-06,7.720153097180765e-06,7.73223916753028e-06,7.74335545049777e-06,7.753498212529612e-06,7.762664857276409e-06,7.770853938639617e-06,7.778065170179877e-06,7.784299430908184e-06,7.789558767497564e-06,7.793846392970039e-06,7.79716668192795e-06,7.799525162415756e-06,7.800928504511102e-06,7.801384505758749e-06,7.800902073572752e-06,7.79949120474543e-06,7.797162962210432e-06,7.793929449219127e-06,7.789803781096399e-06,7.784800054750648e-06,7.778933316118147e-06,7.772219525727597e-06,7.764675522574614e-06,7.75631898649779e-06,7.747168399250416e-06,7.737243004461252e-06,7.726562766677172e-06,7.715148329678115e-06,7.703020974251558e-06,7.690202575608858e-06,7.67671556062078e-06,7.662582865042432e-06,7.647827890890533e-06,7.63247446412764e-06,7.6165467927982415e-06,7.600069425751878e-06,7.583067212077927e-06,7.565565261364991e-06,7.547588904886183e-06,7.529163657799741e-06,7.510315182441231e-06,7.491069252771464e-06,7.471451720031027e-06,7.451488479639303e-06,7.431205439363626e-06,7.410628488770476e-06,7.3897834699591784e-06,7.368696149565699e-06,7.347392192012733e-06,7.325897133970948e-06,7.30423635998556e-06,7.282435079212543e-06,7.260518303199246e-06,7.238510824635931e-06,7.216437196996779e-06,7.194321714982592e-06,7.172188395671026e-06,7.15006096027575e-06,7.1279628164118935e-06,7.105917040762377e-06,7.083946362037863e-06,7.06207314412266e-06,7.040319369298783e-06,7.018706621442342e-06,6.997256069088546e-06,6.975988448265334e-06,6.954924045000071e-06,6.934082677409288e-06,6.9134836772881e-06,6.893145871122829e-06,6.873087560459115e-06,6.8533265015665985e-06,6.833879884350618e-06,6.8147643104725706e-06,6.795995770650816e-06,6.777589621125901e-06,6.759560559286022e-06,6.741922598460666e-06,6.724689041902917e-06,6.707872455994472e-06,6.6914846427192735e-06,6.675536611465735e-06,6.66003855022945e-06,6.644999796301857e-06,6.630428806542279e-06,6.616333127343136e-06,6.60271936441016e-06,6.589593152489992e-06,6.576959125189144e-06,6.564820885037666e-06,6.553180973960314e-06,6.542040844326773e-06,6.531400830759609e-06,6.521260122885779e-06,6.511616739222865e-06,6.502467502396011e-06,6.4938080158847915e-06,6.485632642502066e-06,6.477934484807599e-06,6.470705367659423e-06,6.463935823104737e-06,6.457615077809518e-06,6.4517310432223365e-06,6.446270308662627e-06,6.441218137517905e-06,6.43655846672634e-06,6.432273909712533e-06,6.428345762934644e-06,6.424754016189525e-06,6.4214773668104815e-06,6.418493237878816e-06,6.415777800556125e-06,6.413306000628759e-06,6.4110515893397576e-06,6.408987158566516e-06,6.407084180384325e-06,6.405313051037887e-06,6.4036431393233005e-06,6.402042839363787e-06,6.400479627742147e-06,6.398920124932858e-06,6.397330160956057e-06,6.395674845154959e-06,6.3939186399780624e-06,6.3920254386263285e-06,6.38995864640597e-06,6.38768126560702e-06,6.385155983708638e-06,6.382345264692887e-06,6.379211443230842e-06,6.375716821486896e-06,6.371823768270629e-06,6.367494820249907e-06,6.362692784924035e-06,6.357380845042472e-06,6.3515226641418096e-06,6.345082492863202e-06,6.338025275702306e-06,6.33031675783569e-06,6.321923591660976e-06,6.312813442682563e-06,6.302955094371123e-06,6.292318551623299e-06,6.280875142447134e-06,6.268597617500529e-06,6.2554602471125774e-06,6.2414389154223915e-06,6.226511211276388e-06,6.210656515532497e-06,6.1938560844299705e-06,6.176093128693816e-06,6.1573528880561844e-06,6.137622700890801e-06,6.1168920686722895e-06,6.09515271498915e-06,6.0723986388573735e-06,6.048626162101344e-06,6.023833970588853e-06,5.998023149129174e-06,5.971197209865401e-06,5.943362114015651e-06,5.914526286842008e-06,5.884700625750639e-06,5.853898501451924e-06,5.822135752134675e-06,5.7894306706348915e-06,5.7558039846049595e-06,5.721278829715635e-06,5.685880715948571e-06,5.649637487063369e-06,5.612579273347977e-06,5.574738437786229e-06,5.536149515800898e-06,5.49684914875355e-06,5.456876011406088e-06,5.4162707335700106e-06,5.3750758161907535e-06,5.333335542134214e-06,5.291095881960868e-06,5.248404394990797e-06,5.205310125978372e-06,5.161863497730501e-06,5.118116200015251e-06,5.074121075119351e-06,5.029932000423422e-06,4.985603768372088e-06,4.941191964223304e-06,4.896752841966393e-06,4.85234319880216e-06,4.808020248580191e-06,4.763841494589364e-06,4.719864602095872e-06,4.676147271020593e-06,4.632747109143135e-06,4.589721506214109e-06,4.547127509349559e-06,4.505021700072854e-06,4.463460073358997e-06,4.4224979190248335e-06,4.382189705795714e-06,4.342588968365247e-06,4.303748197749751e-06,4.265718735222607e-06,4.228550670097034e-06,4.192292741607468e-06,4.156992245121314e-06,4.122694942893464e-06,4.089444979555857e-06,4.057284802514108e-06,4.026255087402529e-06,3.996394668727529e-06,3.967740475808403e-06,3.940327474103151e-06,3.914188611985556e-06,3.889354773018637e-06,3.865854733748632e-06,3.843715127022968e-06,3.822960410815293e-06,3.8036128425209813e-06,3.785692458667052e-06,3.769217059961994e-06,3.754202201592922e-06,3.7406611886604264e-06,3.728605076625154e-06,3.7180426766247457e-06,3.708980565505328e-06,3.70142310039843e-06,3.695372437661674e-06,3.6908285559905345e-06,3.687789283498205e-06,3.686250328551705e-06,3.686205314144638e-06,3.6876458155803856e-06,3.6905614012342007e-06,3.6949396761586576e-06,3.7007663282937523e-06,3.7080251770415627e-06,3.716698223964658e-06,3.72676570536829e-06,3.7382061465281578e-06,3.750996417328555e-06,3.7651117890798223e-06,3.7805259922891007e-06,3.7972112751645694e-06,3.815138462640425e-06,3.834277015717924e-06,3.85459509092663e-06,3.876059599719658e-06,3.898636267627168e-06,3.922289693003299e-06,3.946983405213356e-06,3.9726799221203845e-06,3.99934080674246e-06,4.026926722965422e-06,4.055397490208563e-06,4.084712136954444e-06,4.1148289530674665e-06,4.14570554083936e-06,4.177298864713326e-06,4.209565299651933e-06,4.2424606781271595e-06,4.275940335723666e-06,4.309959155359336e-06,4.344471610138979e-06,4.37943180486875e-06,4.4147935162702665e-06,4.450510231943434e-06,4.486535188137169e-06,4.522821406396071e-06,4.559321729159453e-06,4.595988854396512e-06,4.632775369368175e-06,4.669633783611571e-06,4.706516561248101e-06,4.743376152719514e-06,4.780165026059656e-06,4.816835697810895e-06,4.8533407636952975e-06,4.889632929150575e-06,4.925665039839297e-06,4.961390112238059e-06,4.996761364410147e-06,5.031732247060993e-06,5.066256474971185e-06,5.10028805889563e-06,5.133781338011263e-06,5.1666910129878835e-06,5.1989721797491105e-06,5.230580363981222e-06,5.26147155643864e-06,5.291602249084776e-06,5.320929472096579e-06,5.349410831750429e-06,5.377004549195869e-06,5.403669500112424e-06,5.429365255233112e-06,5.454052121706752e-06,5.47769118525958e-06,5.50024435310493e-06,5.5216743975386395e-06,5.541945000146369e-06,5.561020796538229e-06,5.578867421515788e-06,5.595451554565916e-06,5.610740965567116e-06,5.624704560584352e-06,5.6373124276203065e-06,5.648535882183501e-06,5.658347512526507e-06,5.666721224401678e-06,5.6736322851763365e-06,5.679057367145257e-06,5.682974589874614e-06,5.68536356140919e-06,5.686205418173049e-06,5.685482863393367e-06,5.683180203877497e-06,5.679283384974734e-06,5.673780023556718e-06,5.666659438853747e-06,5.657912680988523e-06,5.6475325570542406e-06,5.63551365459e-06,5.621852362313586e-06,5.606546887979509e-06,5.589597273238929e-06,5.571005405387347e-06,5.550775025896202e-06,5.528911735635079e-06,5.505422996702589e-06,5.480318130795817e-06,5.453608314060394e-06,5.425306568375871e-06,5.395427749044038e-06,5.363988528860966e-06,5.331007378566766e-06,5.296504543680576e-06,5.2605020177416475e-06,5.2230235119907465e-06,5.184094421539271e-06,5.143741788086644e-06,5.101994259259249e-06,5.05888204465646e-06,5.0144368687017364e-06,4.968691920407994e-06,4.921681800177755e-06,4.873442463769114e-06,4.824011163568484e-06,4.773426387320357e-06,4.721727794472902e-06,4.668956150306307e-06,4.615153258017563e-06,4.560361888942082e-06,4.504625711097861e-06,4.447989216242829e-06,4.39049764563976e-06,4.332196914726348e-06,4.27313353689029e-06,4.213354546550483e-06,4.152907421746282e-06,4.091840006436426e-06,4.030200432708102e-06,3.968037043095123e-06,3.905398313201444e-06,3.842332774823002e-06,3.778888939757e-06,3.715115224483064e-06,3.6510598758955166e-06,3.5867708982600254e-06,3.5222959815618283e-06,3.4576824314054783e-06,3.3929771006189387e-06,3.328226322707072e-06,3.263475847291372e-06,3.1987707776643126e-06,3.134155510578029e-06,3.0696736783780304e-06,3.005368093583349e-06,2.9412806960054663e-06,2.877452502488683e-06,2.8139235593453073e-06,2.7507328975493902e-06,2.6879184907434146e-06],\"yaxis\":\"y\",\"type\":\"scatter\"}],                        {\"barmode\":\"overlay\",\"hovermode\":\"closest\",\"legend\":{\"traceorder\":\"reversed\"},\"template\":{\"data\":{\"barpolar\":[{\"marker\":{\"line\":{\"color\":\"#E5ECF6\",\"width\":0.5},\"pattern\":{\"fillmode\":\"overlay\",\"size\":10,\"solidity\":0.2}},\"type\":\"barpolar\"}],\"bar\":[{\"error_x\":{\"color\":\"#2a3f5f\"},\"error_y\":{\"color\":\"#2a3f5f\"},\"marker\":{\"line\":{\"color\":\"#E5ECF6\",\"width\":0.5},\"pattern\":{\"fillmode\":\"overlay\",\"size\":10,\"solidity\":0.2}},\"type\":\"bar\"}],\"carpet\":[{\"aaxis\":{\"endlinecolor\":\"#2a3f5f\",\"gridcolor\":\"white\",\"linecolor\":\"white\",\"minorgridcolor\":\"white\",\"startlinecolor\":\"#2a3f5f\"},\"baxis\":{\"endlinecolor\":\"#2a3f5f\",\"gridcolor\":\"white\",\"linecolor\":\"white\",\"minorgridcolor\":\"white\",\"startlinecolor\":\"#2a3f5f\"},\"type\":\"carpet\"}],\"choropleth\":[{\"colorbar\":{\"outlinewidth\":0,\"ticks\":\"\"},\"type\":\"choropleth\"}],\"contourcarpet\":[{\"colorbar\":{\"outlinewidth\":0,\"ticks\":\"\"},\"type\":\"contourcarpet\"}],\"contour\":[{\"colorbar\":{\"outlinewidth\":0,\"ticks\":\"\"},\"colorscale\":[[0.0,\"#0d0887\"],[0.1111111111111111,\"#46039f\"],[0.2222222222222222,\"#7201a8\"],[0.3333333333333333,\"#9c179e\"],[0.4444444444444444,\"#bd3786\"],[0.5555555555555556,\"#d8576b\"],[0.6666666666666666,\"#ed7953\"],[0.7777777777777778,\"#fb9f3a\"],[0.8888888888888888,\"#fdca26\"],[1.0,\"#f0f921\"]],\"type\":\"contour\"}],\"heatmapgl\":[{\"colorbar\":{\"outlinewidth\":0,\"ticks\":\"\"},\"colorscale\":[[0.0,\"#0d0887\"],[0.1111111111111111,\"#46039f\"],[0.2222222222222222,\"#7201a8\"],[0.3333333333333333,\"#9c179e\"],[0.4444444444444444,\"#bd3786\"],[0.5555555555555556,\"#d8576b\"],[0.6666666666666666,\"#ed7953\"],[0.7777777777777778,\"#fb9f3a\"],[0.8888888888888888,\"#fdca26\"],[1.0,\"#f0f921\"]],\"type\":\"heatmapgl\"}],\"heatmap\":[{\"colorbar\":{\"outlinewidth\":0,\"ticks\":\"\"},\"colorscale\":[[0.0,\"#0d0887\"],[0.1111111111111111,\"#46039f\"],[0.2222222222222222,\"#7201a8\"],[0.3333333333333333,\"#9c179e\"],[0.4444444444444444,\"#bd3786\"],[0.5555555555555556,\"#d8576b\"],[0.6666666666666666,\"#ed7953\"],[0.7777777777777778,\"#fb9f3a\"],[0.8888888888888888,\"#fdca26\"],[1.0,\"#f0f921\"]],\"type\":\"heatmap\"}],\"histogram2dcontour\":[{\"colorbar\":{\"outlinewidth\":0,\"ticks\":\"\"},\"colorscale\":[[0.0,\"#0d0887\"],[0.1111111111111111,\"#46039f\"],[0.2222222222222222,\"#7201a8\"],[0.3333333333333333,\"#9c179e\"],[0.4444444444444444,\"#bd3786\"],[0.5555555555555556,\"#d8576b\"],[0.6666666666666666,\"#ed7953\"],[0.7777777777777778,\"#fb9f3a\"],[0.8888888888888888,\"#fdca26\"],[1.0,\"#f0f921\"]],\"type\":\"histogram2dcontour\"}],\"histogram2d\":[{\"colorbar\":{\"outlinewidth\":0,\"ticks\":\"\"},\"colorscale\":[[0.0,\"#0d0887\"],[0.1111111111111111,\"#46039f\"],[0.2222222222222222,\"#7201a8\"],[0.3333333333333333,\"#9c179e\"],[0.4444444444444444,\"#bd3786\"],[0.5555555555555556,\"#d8576b\"],[0.6666666666666666,\"#ed7953\"],[0.7777777777777778,\"#fb9f3a\"],[0.8888888888888888,\"#fdca26\"],[1.0,\"#f0f921\"]],\"type\":\"histogram2d\"}],\"histogram\":[{\"marker\":{\"pattern\":{\"fillmode\":\"overlay\",\"size\":10,\"solidity\":0.2}},\"type\":\"histogram\"}],\"mesh3d\":[{\"colorbar\":{\"outlinewidth\":0,\"ticks\":\"\"},\"type\":\"mesh3d\"}],\"parcoords\":[{\"line\":{\"colorbar\":{\"outlinewidth\":0,\"ticks\":\"\"}},\"type\":\"parcoords\"}],\"pie\":[{\"automargin\":true,\"type\":\"pie\"}],\"scatter3d\":[{\"line\":{\"colorbar\":{\"outlinewidth\":0,\"ticks\":\"\"}},\"marker\":{\"colorbar\":{\"outlinewidth\":0,\"ticks\":\"\"}},\"type\":\"scatter3d\"}],\"scattercarpet\":[{\"marker\":{\"colorbar\":{\"outlinewidth\":0,\"ticks\":\"\"}},\"type\":\"scattercarpet\"}],\"scattergeo\":[{\"marker\":{\"colorbar\":{\"outlinewidth\":0,\"ticks\":\"\"}},\"type\":\"scattergeo\"}],\"scattergl\":[{\"marker\":{\"colorbar\":{\"outlinewidth\":0,\"ticks\":\"\"}},\"type\":\"scattergl\"}],\"scattermapbox\":[{\"marker\":{\"colorbar\":{\"outlinewidth\":0,\"ticks\":\"\"}},\"type\":\"scattermapbox\"}],\"scatterpolargl\":[{\"marker\":{\"colorbar\":{\"outlinewidth\":0,\"ticks\":\"\"}},\"type\":\"scatterpolargl\"}],\"scatterpolar\":[{\"marker\":{\"colorbar\":{\"outlinewidth\":0,\"ticks\":\"\"}},\"type\":\"scatterpolar\"}],\"scatter\":[{\"fillpattern\":{\"fillmode\":\"overlay\",\"size\":10,\"solidity\":0.2},\"type\":\"scatter\"}],\"scatterternary\":[{\"marker\":{\"colorbar\":{\"outlinewidth\":0,\"ticks\":\"\"}},\"type\":\"scatterternary\"}],\"surface\":[{\"colorbar\":{\"outlinewidth\":0,\"ticks\":\"\"},\"colorscale\":[[0.0,\"#0d0887\"],[0.1111111111111111,\"#46039f\"],[0.2222222222222222,\"#7201a8\"],[0.3333333333333333,\"#9c179e\"],[0.4444444444444444,\"#bd3786\"],[0.5555555555555556,\"#d8576b\"],[0.6666666666666666,\"#ed7953\"],[0.7777777777777778,\"#fb9f3a\"],[0.8888888888888888,\"#fdca26\"],[1.0,\"#f0f921\"]],\"type\":\"surface\"}],\"table\":[{\"cells\":{\"fill\":{\"color\":\"#EBF0F8\"},\"line\":{\"color\":\"white\"}},\"header\":{\"fill\":{\"color\":\"#C8D4E3\"},\"line\":{\"color\":\"white\"}},\"type\":\"table\"}]},\"layout\":{\"annotationdefaults\":{\"arrowcolor\":\"#2a3f5f\",\"arrowhead\":0,\"arrowwidth\":1},\"autotypenumbers\":\"strict\",\"coloraxis\":{\"colorbar\":{\"outlinewidth\":0,\"ticks\":\"\"}},\"colorscale\":{\"diverging\":[[0,\"#8e0152\"],[0.1,\"#c51b7d\"],[0.2,\"#de77ae\"],[0.3,\"#f1b6da\"],[0.4,\"#fde0ef\"],[0.5,\"#f7f7f7\"],[0.6,\"#e6f5d0\"],[0.7,\"#b8e186\"],[0.8,\"#7fbc41\"],[0.9,\"#4d9221\"],[1,\"#276419\"]],\"sequential\":[[0.0,\"#0d0887\"],[0.1111111111111111,\"#46039f\"],[0.2222222222222222,\"#7201a8\"],[0.3333333333333333,\"#9c179e\"],[0.4444444444444444,\"#bd3786\"],[0.5555555555555556,\"#d8576b\"],[0.6666666666666666,\"#ed7953\"],[0.7777777777777778,\"#fb9f3a\"],[0.8888888888888888,\"#fdca26\"],[1.0,\"#f0f921\"]],\"sequentialminus\":[[0.0,\"#0d0887\"],[0.1111111111111111,\"#46039f\"],[0.2222222222222222,\"#7201a8\"],[0.3333333333333333,\"#9c179e\"],[0.4444444444444444,\"#bd3786\"],[0.5555555555555556,\"#d8576b\"],[0.6666666666666666,\"#ed7953\"],[0.7777777777777778,\"#fb9f3a\"],[0.8888888888888888,\"#fdca26\"],[1.0,\"#f0f921\"]]},\"colorway\":[\"#636efa\",\"#EF553B\",\"#00cc96\",\"#ab63fa\",\"#FFA15A\",\"#19d3f3\",\"#FF6692\",\"#B6E880\",\"#FF97FF\",\"#FECB52\"],\"font\":{\"color\":\"#2a3f5f\"},\"geo\":{\"bgcolor\":\"white\",\"lakecolor\":\"white\",\"landcolor\":\"#E5ECF6\",\"showlakes\":true,\"showland\":true,\"subunitcolor\":\"white\"},\"hoverlabel\":{\"align\":\"left\"},\"hovermode\":\"closest\",\"mapbox\":{\"style\":\"light\"},\"paper_bgcolor\":\"white\",\"plot_bgcolor\":\"#E5ECF6\",\"polar\":{\"angularaxis\":{\"gridcolor\":\"white\",\"linecolor\":\"white\",\"ticks\":\"\"},\"bgcolor\":\"#E5ECF6\",\"radialaxis\":{\"gridcolor\":\"white\",\"linecolor\":\"white\",\"ticks\":\"\"}},\"scene\":{\"xaxis\":{\"backgroundcolor\":\"#E5ECF6\",\"gridcolor\":\"white\",\"gridwidth\":2,\"linecolor\":\"white\",\"showbackground\":true,\"ticks\":\"\",\"zerolinecolor\":\"white\"},\"yaxis\":{\"backgroundcolor\":\"#E5ECF6\",\"gridcolor\":\"white\",\"gridwidth\":2,\"linecolor\":\"white\",\"showbackground\":true,\"ticks\":\"\",\"zerolinecolor\":\"white\"},\"zaxis\":{\"backgroundcolor\":\"#E5ECF6\",\"gridcolor\":\"white\",\"gridwidth\":2,\"linecolor\":\"white\",\"showbackground\":true,\"ticks\":\"\",\"zerolinecolor\":\"white\"}},\"shapedefaults\":{\"line\":{\"color\":\"#2a3f5f\"}},\"ternary\":{\"aaxis\":{\"gridcolor\":\"white\",\"linecolor\":\"white\",\"ticks\":\"\"},\"baxis\":{\"gridcolor\":\"white\",\"linecolor\":\"white\",\"ticks\":\"\"},\"bgcolor\":\"#E5ECF6\",\"caxis\":{\"gridcolor\":\"white\",\"linecolor\":\"white\",\"ticks\":\"\"}},\"title\":{\"x\":0.05},\"xaxis\":{\"automargin\":true,\"gridcolor\":\"white\",\"linecolor\":\"white\",\"ticks\":\"\",\"title\":{\"standoff\":15},\"zerolinecolor\":\"white\",\"zerolinewidth\":2},\"yaxis\":{\"automargin\":true,\"gridcolor\":\"white\",\"linecolor\":\"white\",\"ticks\":\"\",\"title\":{\"standoff\":15},\"zerolinecolor\":\"white\",\"zerolinewidth\":2}}},\"title\":{\"text\":\"Credit Card Transactions Time Density Plot\"},\"xaxis\":{\"anchor\":\"y2\",\"domain\":[0.0,1.0],\"title\":{\"text\":\"Time [s]\"},\"zeroline\":false},\"yaxis\":{\"anchor\":\"free\",\"domain\":[0.0,1],\"position\":0.0}},                        {\"responsive\": true}                    ).then(function(){\n",
       "                            \n",
       "var gd = document.getElementById('fcaa2c2a-eb63-460d-abcc-612a818609d0');\n",
       "var x = new MutationObserver(function (mutations, observer) {{\n",
       "        var display = window.getComputedStyle(gd).display;\n",
       "        if (!display || display === 'none') {{\n",
       "            console.log([gd, 'removed!']);\n",
       "            Plotly.purge(gd);\n",
       "            observer.disconnect();\n",
       "        }}\n",
       "}});\n",
       "\n",
       "// Listen for the removal of the full notebook cells\n",
       "var notebookContainer = gd.closest('#notebook-container');\n",
       "if (notebookContainer) {{\n",
       "    x.observe(notebookContainer, {childList: true});\n",
       "}}\n",
       "\n",
       "// Listen for the clearing of the current output cell\n",
       "var outputEl = gd.closest('.output');\n",
       "if (outputEl) {{\n",
       "    x.observe(outputEl, {childList: true});\n",
       "}}\n",
       "\n",
       "                        })                };                });            </script>        </div>"
      ]
     },
     "metadata": {},
     "output_type": "display_data"
    }
   ],
   "source": [
    "class0 = creditC.loc[creditC['Class'] == 0][\"Time\"]\n",
    "class1 = creditC.loc[creditC['Class'] == 1][\"Time\"]\n",
    "\n",
    "hist_data = [class0, class1]\n",
    "group_labels = ['Not Fraud', 'Fraud']\n",
    "\n",
    "fig = ff.create_distplot(hist_data, group_labels, show_hist=False, show_rug=False)\n",
    "fig['layout'].update(title='Credit Card Transactions Time Density Plot', xaxis=dict(title='Time [s]'))\n",
    "iplot(fig, filename='dist_only')"
   ]
  },
  {
   "cell_type": "markdown",
   "id": "80b778f9",
   "metadata": {},
   "source": [
    "The time density plot shows us that the fraud attempts were more consistent than the normal transactions, making a relationship with Time and the Fraud transactions."
   ]
  },
  {
   "cell_type": "code",
   "execution_count": 159,
   "id": "8be8f0ff",
   "metadata": {},
   "outputs": [
    {
     "data": {
      "image/png": "[encoded data removed]",
      "text/plain": [
       "<Figure size 1200x600 with 2 Axes>"
      ]
     },
     "metadata": {},
     "output_type": "display_data"
    }
   ],
   "source": [
    "fig, (ax1, ax2) = plt.subplots(ncols=2, figsize=(12,6))\n",
    "s = sns.boxplot(ax = ax1, x=\"Class\", y=\"Amount\", hue=\"Class\",data=creditC, palette=\"PRGn\",showfliers=True)\n",
    "s = sns.boxplot(ax = ax2, x=\"Class\", y=\"Amount\", hue=\"Class\",data=creditC, palette=\"PRGn\",showfliers=False)\n",
    "plt.show();"
   ]
  },
  {
   "cell_type": "markdown",
   "id": "ed527bae",
   "metadata": {},
   "source": [
    "We can see the Fraud Transactions amounts always stayed less than normal transactions and always below a certain threshold, and concentrating at certain points"
   ]
  },
  {
   "cell_type": "code",
   "execution_count": 161,
   "id": "9dead058",
   "metadata": {},
   "outputs": [
    {
     "data": {
      "image/png": "[encoded data removed]",
      "text/plain": [
       "<Figure size 1400x1400 with 2 Axes>"
      ]
     },
     "metadata": {},
     "output_type": "display_data"
    }
   ],
   "source": [
    "plt.figure(figsize = (14,14))\n",
    "plt.title('Credit Card Transactions features correlation plot (Pearson)')\n",
    "corr = creditC.corr()\n",
    "sns.heatmap(corr,xticklabels=corr.columns,yticklabels=corr.columns,linewidths=.1,cmap=\"Reds\")\n",
    "plt.show()"
   ]
  },
  {
   "cell_type": "code",
   "execution_count": 162,
   "id": "b48ff39f",
   "metadata": {},
   "outputs": [],
   "source": [
    "#No significant correlation between Vs "
   ]
  },
  {
   "cell_type": "code",
   "execution_count": 163,
   "id": "07c4ab66",
   "metadata": {},
   "outputs": [],
   "source": [
    "#Using RandomForestClassifier as a predictive Model\n"
   ]
  },
  {
   "cell_type": "code",
   "execution_count": 164,
   "id": "d8fc5b6c",
   "metadata": {},
   "outputs": [],
   "source": [
    "target = 'Class'\n",
    "predictors = ['Time', 'V1', 'V2' , 'V3', 'V4','V5','V6','V7','V8','V9','V10','V11','V12','V13','V14','V15','V16','V17','V18','V19','V20', 'V21','V22','V23','V24','V25','V26','V27','V28','Amount']"
   ]
  },
  {
   "cell_type": "code",
   "execution_count": 165,
   "id": "e5b05799",
   "metadata": {},
   "outputs": [],
   "source": [
    "#splitting the data into train, test and validation sets.\n"
   ]
  },
  {
   "cell_type": "code",
   "execution_count": 166,
   "id": "fdb701d2",
   "metadata": {},
   "outputs": [],
   "source": [
    "RFC_METRIC = 'gini'\n",
    "NUM_ESTIMATORS = 100\n",
    "NO_JOBS = 4 \n",
    "VALID_SIZE = 0.20\n",
    "TEST_SIZE = 0.20\n",
    "NUMBER_KFOLDS = 5\n",
    "RANDOM_STATE = 2018\n",
    "MAX_ROUNDS = 1000\n",
    "EARLY_STOP = 50\n",
    "OPT_ROUNDS = 1000\n",
    "VERBOSE_EVAL = 50 "
   ]
  },
  {
   "cell_type": "code",
   "execution_count": 167,
   "id": "92cc504c",
   "metadata": {},
   "outputs": [],
   "source": [
    "train, test = train_test_split(creditC, test_size=TEST_SIZE, random_state = RANDOM_STATE, shuffle = True)\n",
    "train, valid = train_test_split(train, test_size = VALID_SIZE,random_state = RANDOM_STATE, shuffle = True)"
   ]
  },
  {
   "cell_type": "code",
   "execution_count": 168,
   "id": "00fe4b33",
   "metadata": {},
   "outputs": [],
   "source": [
    "PM = RandomForestClassifier(n_jobs = NO_JOBS, random_state = RANDOM_STATE, criterion = RFC_METRIC, n_estimators = NUM_ESTIMATORS, verbose = False)\n"
   ]
  },
  {
   "cell_type": "code",
   "execution_count": 169,
   "id": "701b0812",
   "metadata": {},
   "outputs": [
    {
     "data": {
      "text/html": [
       "<style>#sk-container-id-12 {\n",
       "  /* Definition of color scheme common for light and dark mode */\n",
       "  --sklearn-color-text: black;\n",
       "  --sklearn-color-line: gray;\n",
       "  /* Definition of color scheme for unfitted estimators */\n",
       "  --sklearn-color-unfitted-level-0: #fff5e6;\n",
       "  --sklearn-color-unfitted-level-1: #f6e4d2;\n",
       "  --sklearn-color-unfitted-level-2: #ffe0b3;\n",
       "  --sklearn-color-unfitted-level-3: chocolate;\n",
       "  /* Definition of color scheme for fitted estimators */\n",
       "  --sklearn-color-fitted-level-0: #f0f8ff;\n",
       "  --sklearn-color-fitted-level-1: #d4ebff;\n",
       "  --sklearn-color-fitted-level-2: #b3dbfd;\n",
       "  --sklearn-color-fitted-level-3: cornflowerblue;\n",
       "\n",
       "  /* Specific color for light theme */\n",
       "  --sklearn-color-text-on-default-background: var(--sg-text-color, var(--theme-code-foreground, var(--jp-content-font-color1, black)));\n",
       "  --sklearn-color-background: var(--sg-background-color, var(--theme-background, var(--jp-layout-color0, white)));\n",
       "  --sklearn-color-border-box: var(--sg-text-color, var(--theme-code-foreground, var(--jp-content-font-color1, black)));\n",
       "  --sklearn-color-icon: #696969;\n",
       "\n",
       "  @media (prefers-color-scheme: dark) {\n",
       "    /* Redefinition of color scheme for dark theme */\n",
       "    --sklearn-color-text-on-default-background: var(--sg-text-color, var(--theme-code-foreground, var(--jp-content-font-color1, white)));\n",
       "    --sklearn-color-background: var(--sg-background-color, var(--theme-background, var(--jp-layout-color0, #111)));\n",
       "    --sklearn-color-border-box: var(--sg-text-color, var(--theme-code-foreground, var(--jp-content-font-color1, white)));\n",
       "    --sklearn-color-icon: #878787;\n",
       "  }\n",
       "}\n",
       "\n",
       "#sk-container-id-12 {\n",
       "  color: var(--sklearn-color-text);\n",
       "}\n",
       "\n",
       "#sk-container-id-12 pre {\n",
       "  padding: 0;\n",
       "}\n",
       "\n",
       "#sk-container-id-12 input.sk-hidden--visually {\n",
       "  border: 0;\n",
       "  clip: rect(1px 1px 1px 1px);\n",
       "  clip: rect(1px, 1px, 1px, 1px);\n",
       "  height: 1px;\n",
       "  margin: -1px;\n",
       "  overflow: hidden;\n",
       "  padding: 0;\n",
       "  position: absolute;\n",
       "  width: 1px;\n",
       "}\n",
       "\n",
       "#sk-container-id-12 div.sk-dashed-wrapped {\n",
       "  border: 1px dashed var(--sklearn-color-line);\n",
       "  margin: 0 0.4em 0.5em 0.4em;\n",
       "  box-sizing: border-box;\n",
       "  padding-bottom: 0.4em;\n",
       "  background-color: var(--sklearn-color-background);\n",
       "}\n",
       "\n",
       "#sk-container-id-12 div.sk-container {\n",
       "  /* jupyter's `normalize.less` sets `[hidden] { display: none; }`\n",
       "     but bootstrap.min.css set `[hidden] { display: none !important; }`\n",
       "     so we also need the `!important` here to be able to override the\n",
       "     default hidden behavior on the sphinx rendered scikit-learn.org.\n",
       "     See: https://github.com/scikit-learn/scikit-learn/issues/21755 */\n",
       "  display: inline-block !important;\n",
       "  position: relative;\n",
       "}\n",
       "\n",
       "#sk-container-id-12 div.sk-text-repr-fallback {\n",
       "  display: none;\n",
       "}\n",
       "\n",
       "div.sk-parallel-item,\n",
       "div.sk-serial,\n",
       "div.sk-item {\n",
       "  /* draw centered vertical line to link estimators */\n",
       "  background-image: linear-gradient(var(--sklearn-color-text-on-default-background), var(--sklearn-color-text-on-default-background));\n",
       "  background-size: 2px 100%;\n",
       "  background-repeat: no-repeat;\n",
       "  background-position: center center;\n",
       "}\n",
       "\n",
       "/* Parallel-specific style estimator block */\n",
       "\n",
       "#sk-container-id-12 div.sk-parallel-item::after {\n",
       "  content: \"\";\n",
       "  width: 100%;\n",
       "  border-bottom: 2px solid var(--sklearn-color-text-on-default-background);\n",
       "  flex-grow: 1;\n",
       "}\n",
       "\n",
       "#sk-container-id-12 div.sk-parallel {\n",
       "  display: flex;\n",
       "  align-items: stretch;\n",
       "  justify-content: center;\n",
       "  background-color: var(--sklearn-color-background);\n",
       "  position: relative;\n",
       "}\n",
       "\n",
       "#sk-container-id-12 div.sk-parallel-item {\n",
       "  display: flex;\n",
       "  flex-direction: column;\n",
       "}\n",
       "\n",
       "#sk-container-id-12 div.sk-parallel-item:first-child::after {\n",
       "  align-self: flex-end;\n",
       "  width: 50%;\n",
       "}\n",
       "\n",
       "#sk-container-id-12 div.sk-parallel-item:last-child::after {\n",
       "  align-self: flex-start;\n",
       "  width: 50%;\n",
       "}\n",
       "\n",
       "#sk-container-id-12 div.sk-parallel-item:only-child::after {\n",
       "  width: 0;\n",
       "}\n",
       "\n",
       "/* Serial-specific style estimator block */\n",
       "\n",
       "#sk-container-id-12 div.sk-serial {\n",
       "  display: flex;\n",
       "  flex-direction: column;\n",
       "  align-items: center;\n",
       "  background-color: var(--sklearn-color-background);\n",
       "  padding-right: 1em;\n",
       "  padding-left: 1em;\n",
       "}\n",
       "\n",
       "\n",
       "/* Toggleable style: style used for estimator/Pipeline/ColumnTransformer box that is\n",
       "clickable and can be expanded/collapsed.\n",
       "- Pipeline and ColumnTransformer use this feature and define the default style\n",
       "- Estimators will overwrite some part of the style using the `sk-estimator` class\n",
       "*/\n",
       "\n",
       "/* Pipeline and ColumnTransformer style (default) */\n",
       "\n",
       "#sk-container-id-12 div.sk-toggleable {\n",
       "  /* Default theme specific background. It is overwritten whether we have a\n",
       "  specific estimator or a Pipeline/ColumnTransformer */\n",
       "  background-color: var(--sklearn-color-background);\n",
       "}\n",
       "\n",
       "/* Toggleable label */\n",
       "#sk-container-id-12 label.sk-toggleable__label {\n",
       "  cursor: pointer;\n",
       "  display: block;\n",
       "  width: 100%;\n",
       "  margin-bottom: 0;\n",
       "  padding: 0.5em;\n",
       "  box-sizing: border-box;\n",
       "  text-align: center;\n",
       "}\n",
       "\n",
       "#sk-container-id-12 label.sk-toggleable__label-arrow:before {\n",
       "  /* Arrow on the left of the label */\n",
       "  content: \"▸\";\n",
       "  float: left;\n",
       "  margin-right: 0.25em;\n",
       "  color: var(--sklearn-color-icon);\n",
       "}\n",
       "\n",
       "#sk-container-id-12 label.sk-toggleable__label-arrow:hover:before {\n",
       "  color: var(--sklearn-color-text);\n",
       "}\n",
       "\n",
       "/* Toggleable content - dropdown */\n",
       "\n",
       "#sk-container-id-12 div.sk-toggleable__content {\n",
       "  max-height: 0;\n",
       "  max-width: 0;\n",
       "  overflow: hidden;\n",
       "  text-align: left;\n",
       "  /* unfitted */\n",
       "  background-color: var(--sklearn-color-unfitted-level-0);\n",
       "}\n",
       "\n",
       "#sk-container-id-12 div.sk-toggleable__content.fitted {\n",
       "  /* fitted */\n",
       "  background-color: var(--sklearn-color-fitted-level-0);\n",
       "}\n",
       "\n",
       "#sk-container-id-12 div.sk-toggleable__content pre {\n",
       "  margin: 0.2em;\n",
       "  border-radius: 0.25em;\n",
       "  color: var(--sklearn-color-text);\n",
       "  /* unfitted */\n",
       "  background-color: var(--sklearn-color-unfitted-level-0);\n",
       "}\n",
       "\n",
       "#sk-container-id-12 div.sk-toggleable__content.fitted pre {\n",
       "  /* unfitted */\n",
       "  background-color: var(--sklearn-color-fitted-level-0);\n",
       "}\n",
       "\n",
       "#sk-container-id-12 input.sk-toggleable__control:checked~div.sk-toggleable__content {\n",
       "  /* Expand drop-down */\n",
       "  max-height: 200px;\n",
       "  max-width: 100%;\n",
       "  overflow: auto;\n",
       "}\n",
       "\n",
       "#sk-container-id-12 input.sk-toggleable__control:checked~label.sk-toggleable__label-arrow:before {\n",
       "  content: \"▾\";\n",
       "}\n",
       "\n",
       "/* Pipeline/ColumnTransformer-specific style */\n",
       "\n",
       "#sk-container-id-12 div.sk-label input.sk-toggleable__control:checked~label.sk-toggleable__label {\n",
       "  color: var(--sklearn-color-text);\n",
       "  background-color: var(--sklearn-color-unfitted-level-2);\n",
       "}\n",
       "\n",
       "#sk-container-id-12 div.sk-label.fitted input.sk-toggleable__control:checked~label.sk-toggleable__label {\n",
       "  background-color: var(--sklearn-color-fitted-level-2);\n",
       "}\n",
       "\n",
       "/* Estimator-specific style */\n",
       "\n",
       "/* Colorize estimator box */\n",
       "#sk-container-id-12 div.sk-estimator input.sk-toggleable__control:checked~label.sk-toggleable__label {\n",
       "  /* unfitted */\n",
       "  background-color: var(--sklearn-color-unfitted-level-2);\n",
       "}\n",
       "\n",
       "#sk-container-id-12 div.sk-estimator.fitted input.sk-toggleable__control:checked~label.sk-toggleable__label {\n",
       "  /* fitted */\n",
       "  background-color: var(--sklearn-color-fitted-level-2);\n",
       "}\n",
       "\n",
       "#sk-container-id-12 div.sk-label label.sk-toggleable__label,\n",
       "#sk-container-id-12 div.sk-label label {\n",
       "  /* The background is the default theme color */\n",
       "  color: var(--sklearn-color-text-on-default-background);\n",
       "}\n",
       "\n",
       "/* On hover, darken the color of the background */\n",
       "#sk-container-id-12 div.sk-label:hover label.sk-toggleable__label {\n",
       "  color: var(--sklearn-color-text);\n",
       "  background-color: var(--sklearn-color-unfitted-level-2);\n",
       "}\n",
       "\n",
       "/* Label box, darken color on hover, fitted */\n",
       "#sk-container-id-12 div.sk-label.fitted:hover label.sk-toggleable__label.fitted {\n",
       "  color: var(--sklearn-color-text);\n",
       "  background-color: var(--sklearn-color-fitted-level-2);\n",
       "}\n",
       "\n",
       "/* Estimator label */\n",
       "\n",
       "#sk-container-id-12 div.sk-label label {\n",
       "  font-family: monospace;\n",
       "  font-weight: bold;\n",
       "  display: inline-block;\n",
       "  line-height: 1.2em;\n",
       "}\n",
       "\n",
       "#sk-container-id-12 div.sk-label-container {\n",
       "  text-align: center;\n",
       "}\n",
       "\n",
       "/* Estimator-specific */\n",
       "#sk-container-id-12 div.sk-estimator {\n",
       "  font-family: monospace;\n",
       "  border: 1px dotted var(--sklearn-color-border-box);\n",
       "  border-radius: 0.25em;\n",
       "  box-sizing: border-box;\n",
       "  margin-bottom: 0.5em;\n",
       "  /* unfitted */\n",
       "  background-color: var(--sklearn-color-unfitted-level-0);\n",
       "}\n",
       "\n",
       "#sk-container-id-12 div.sk-estimator.fitted {\n",
       "  /* fitted */\n",
       "  background-color: var(--sklearn-color-fitted-level-0);\n",
       "}\n",
       "\n",
       "/* on hover */\n",
       "#sk-container-id-12 div.sk-estimator:hover {\n",
       "  /* unfitted */\n",
       "  background-color: var(--sklearn-color-unfitted-level-2);\n",
       "}\n",
       "\n",
       "#sk-container-id-12 div.sk-estimator.fitted:hover {\n",
       "  /* fitted */\n",
       "  background-color: var(--sklearn-color-fitted-level-2);\n",
       "}\n",
       "\n",
       "/* Specification for estimator info (e.g. \"i\" and \"?\") */\n",
       "\n",
       "/* Common style for \"i\" and \"?\" */\n",
       "\n",
       ".sk-estimator-doc-link,\n",
       "a:link.sk-estimator-doc-link,\n",
       "a:visited.sk-estimator-doc-link {\n",
       "  float: right;\n",
       "  font-size: smaller;\n",
       "  line-height: 1em;\n",
       "  font-family: monospace;\n",
       "  background-color: var(--sklearn-color-background);\n",
       "  border-radius: 1em;\n",
       "  height: 1em;\n",
       "  width: 1em;\n",
       "  text-decoration: none !important;\n",
       "  margin-left: 1ex;\n",
       "  /* unfitted */\n",
       "  border: var(--sklearn-color-unfitted-level-1) 1pt solid;\n",
       "  color: var(--sklearn-color-unfitted-level-1);\n",
       "}\n",
       "\n",
       ".sk-estimator-doc-link.fitted,\n",
       "a:link.sk-estimator-doc-link.fitted,\n",
       "a:visited.sk-estimator-doc-link.fitted {\n",
       "  /* fitted */\n",
       "  border: var(--sklearn-color-fitted-level-1) 1pt solid;\n",
       "  color: var(--sklearn-color-fitted-level-1);\n",
       "}\n",
       "\n",
       "/* On hover */\n",
       "div.sk-estimator:hover .sk-estimator-doc-link:hover,\n",
       ".sk-estimator-doc-link:hover,\n",
       "div.sk-label-container:hover .sk-estimator-doc-link:hover,\n",
       ".sk-estimator-doc-link:hover {\n",
       "  /* unfitted */\n",
       "  background-color: var(--sklearn-color-unfitted-level-3);\n",
       "  color: var(--sklearn-color-background);\n",
       "  text-decoration: none;\n",
       "}\n",
       "\n",
       "div.sk-estimator.fitted:hover .sk-estimator-doc-link.fitted:hover,\n",
       ".sk-estimator-doc-link.fitted:hover,\n",
       "div.sk-label-container:hover .sk-estimator-doc-link.fitted:hover,\n",
       ".sk-estimator-doc-link.fitted:hover {\n",
       "  /* fitted */\n",
       "  background-color: var(--sklearn-color-fitted-level-3);\n",
       "  color: var(--sklearn-color-background);\n",
       "  text-decoration: none;\n",
       "}\n",
       "\n",
       "/* Span, style for the box shown on hovering the info icon */\n",
       ".sk-estimator-doc-link span {\n",
       "  display: none;\n",
       "  z-index: 9999;\n",
       "  position: relative;\n",
       "  font-weight: normal;\n",
       "  right: .2ex;\n",
       "  padding: .5ex;\n",
       "  margin: .5ex;\n",
       "  width: min-content;\n",
       "  min-width: 20ex;\n",
       "  max-width: 50ex;\n",
       "  color: var(--sklearn-color-text);\n",
       "  box-shadow: 2pt 2pt 4pt #999;\n",
       "  /* unfitted */\n",
       "  background: var(--sklearn-color-unfitted-level-0);\n",
       "  border: .5pt solid var(--sklearn-color-unfitted-level-3);\n",
       "}\n",
       "\n",
       ".sk-estimator-doc-link.fitted span {\n",
       "  /* fitted */\n",
       "  background: var(--sklearn-color-fitted-level-0);\n",
       "  border: var(--sklearn-color-fitted-level-3);\n",
       "}\n",
       "\n",
       ".sk-estimator-doc-link:hover span {\n",
       "  display: block;\n",
       "}\n",
       "\n",
       "/* \"?\"-specific style due to the `<a>` HTML tag */\n",
       "\n",
       "#sk-container-id-12 a.estimator_doc_link {\n",
       "  float: right;\n",
       "  font-size: 1rem;\n",
       "  line-height: 1em;\n",
       "  font-family: monospace;\n",
       "  background-color: var(--sklearn-color-background);\n",
       "  border-radius: 1rem;\n",
       "  height: 1rem;\n",
       "  width: 1rem;\n",
       "  text-decoration: none;\n",
       "  /* unfitted */\n",
       "  color: var(--sklearn-color-unfitted-level-1);\n",
       "  border: var(--sklearn-color-unfitted-level-1) 1pt solid;\n",
       "}\n",
       "\n",
       "#sk-container-id-12 a.estimator_doc_link.fitted {\n",
       "  /* fitted */\n",
       "  border: var(--sklearn-color-fitted-level-1) 1pt solid;\n",
       "  color: var(--sklearn-color-fitted-level-1);\n",
       "}\n",
       "\n",
       "/* On hover */\n",
       "#sk-container-id-12 a.estimator_doc_link:hover {\n",
       "  /* unfitted */\n",
       "  background-color: var(--sklearn-color-unfitted-level-3);\n",
       "  color: var(--sklearn-color-background);\n",
       "  text-decoration: none;\n",
       "}\n",
       "\n",
       "#sk-container-id-12 a.estimator_doc_link.fitted:hover {\n",
       "  /* fitted */\n",
       "  background-color: var(--sklearn-color-fitted-level-3);\n",
       "}\n",
       "</style><div id=\"sk-container-id-12\" class=\"sk-top-container\"><div class=\"sk-text-repr-fallback\"><pre>RandomForestClassifier(n_jobs=4, random_state=2018, verbose=False)</pre><b>In a Jupyter environment, please rerun this cell to show the HTML representation or trust the notebook. <br />On GitHub, the HTML representation is unable to render, please try loading this page with nbviewer.org.</b></div><div class=\"sk-container\" hidden><div class=\"sk-item\"><div class=\"sk-estimator fitted sk-toggleable\"><input class=\"sk-toggleable__control sk-hidden--visually\" id=\"sk-estimator-id-12\" type=\"checkbox\" checked><label for=\"sk-estimator-id-12\" class=\"sk-toggleable__label fitted sk-toggleable__label-arrow fitted\">&nbsp;&nbsp;RandomForestClassifier<a class=\"sk-estimator-doc-link fitted\" rel=\"noreferrer\" target=\"_blank\" href=\"https://scikit-learn.org/1.4/modules/generated/sklearn.ensemble.RandomForestClassifier.html\">?<span>Documentation for RandomForestClassifier</span></a><span class=\"sk-estimator-doc-link fitted\">i<span>Fitted</span></span></label><div class=\"sk-toggleable__content fitted\"><pre>RandomForestClassifier(n_jobs=4, random_state=2018, verbose=False)</pre></div> </div></div></div></div>"
      ],
      "text/plain": [
       "RandomForestClassifier(n_jobs=4, random_state=2018, verbose=False)"
      ]
     },
     "execution_count": 169,
     "metadata": {},
     "output_type": "execute_result"
    }
   ],
   "source": [
    "PM.fit(train[predictors], train[target].values)"
   ]
  },
  {
   "cell_type": "code",
   "execution_count": 170,
   "id": "b0854d88",
   "metadata": {},
   "outputs": [
    {
     "name": "stderr",
     "output_type": "stream",
     "text": [
      "C:\\Users\\yashd\\AppData\\Local\\Temp\\ipykernel_13744\\271274369.py:8: UserWarning:\n",
      "\n",
      "FixedFormatter should only be used together with FixedLocator\n",
      "\n"
     ]
    },
    {
     "data": {
      "image/png": "[encoded data removed]",
      "text/plain": [
       "<Figure size 700x400 with 1 Axes>"
      ]
     },
     "metadata": {},
     "output_type": "display_data"
    }
   ],
   "source": [
    "#Checking which Feature has the most importance\n",
    "predi = PM.predict(valid[predictors])\n",
    "tmp1 = pd.DataFrame({'Feature': predictors, 'Feature Importance':PM.feature_importances_})\n",
    "tmp1 = tmp1.sort_values(by= 'Feature Importance', ascending = False)\n",
    "plt.figure(figsize = (7,4))\n",
    "plt.title('Features Importance')\n",
    "s = sns.barplot(x='Feature', y = 'Feature Importance', data=tmp1)\n",
    "s.set_xticklabels(s.get_xticklabels(),rotation = 90)\n",
    "plt.show()"
   ]
  },
  {
   "cell_type": "markdown",
   "id": "6af7fc17",
   "metadata": {},
   "source": [
    "Here we can obsevrve that while using the RandomForestClassifier method 'V17', 'V12' and 'V14' were the most important features that distinguished the fraud transactions and were the key feature, while using this method."
   ]
  },
  {
   "cell_type": "code",
   "execution_count": 171,
   "id": "10436ec3",
   "metadata": {},
   "outputs": [
    {
     "data": {
      "image/png": "[encoded data removed]",
      "text/plain": [
       "<Figure size 500x500 with 2 Axes>"
      ]
     },
     "metadata": {},
     "output_type": "display_data"
    }
   ],
   "source": [
    "CM = pd.crosstab(valid[target].values, predi, rownames = ['Actual'], colnames=['Predicted'])\n",
    "fig, (ax1) = plt.subplots(ncols = 1, figsize = (5,5))\n",
    "sns.heatmap(CM, xticklabels = ['Not Fraud', 'Fraud'], yticklabels = ['Not Fraud', 'Fraud'], annot = True, ax=ax1, linewidths = .2, linecolor = 'Darkblue', cmap = 'Blues')\n",
    "plt.title('Confusion Matrix', fontsize = 14)\n",
    "plt.show()"
   ]
  },
  {
   "cell_type": "code",
   "execution_count": 180,
   "id": "39764d9f",
   "metadata": {},
   "outputs": [
    {
     "name": "stdout",
     "output_type": "stream",
     "text": [
      "0.9113924050632911\n"
     ]
    }
   ],
   "source": [
    "#Precision\n",
    "precision = precision_score(valid[target], predi)\n",
    "print(precision)"
   ]
  },
  {
   "cell_type": "code",
   "execution_count": 182,
   "id": "818f546b",
   "metadata": {},
   "outputs": [
    {
     "name": "stdout",
     "output_type": "stream",
     "text": [
      "0.7058823529411765\n"
     ]
    }
   ],
   "source": [
    "#Recall\n",
    "recall = recall_score(valid[target], predi)\n",
    "print(recall)"
   ]
  },
  {
   "cell_type": "code",
   "execution_count": 184,
   "id": "2ab20273",
   "metadata": {},
   "outputs": [
    {
     "name": "stdout",
     "output_type": "stream",
     "text": [
      "0.7955801104972375\n"
     ]
    }
   ],
   "source": [
    "#F1-score\n",
    "F1 = f1_score(valid[target], predi)\n",
    "print(F1)"
   ]
  },
  {
   "cell_type": "code",
   "execution_count": 173,
   "id": "2c013be3",
   "metadata": {},
   "outputs": [
    {
     "data": {
      "text/plain": [
       "0.8528641975628091"
      ]
     },
     "execution_count": 173,
     "metadata": {},
     "output_type": "execute_result"
    }
   ],
   "source": [
    "roc_auc_score(valid[target].values, predi)"
   ]
  },
  {
   "cell_type": "markdown",
   "id": "ab788489",
   "metadata": {},
   "source": [
    "This analysis can help detect the fraudulent credit card attempts by accuracy of 0.85"
   ]
  }
 ],
 "metadata": {
  "kernelspec": {
   "display_name": "Python 3 (ipykernel)",
   "language": "python",
   "name": "python3"
  },
  "language_info": {
   "codemirror_mode": {
    "name": "ipython",
    "version": 3
   },
   "file_extension": ".py",
   "mimetype": "text/x-python",
   "name": "python",
   "nbconvert_exporter": "python",
   "pygments_lexer": "ipython3",
   "version": "3.11.5"
  }
 },
 "nbformat": 4,
 "nbformat_minor": 5
}
